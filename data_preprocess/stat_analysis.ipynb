{
 "cells": [
  {
   "cell_type": "markdown",
   "metadata": {},
   "source": [
    "# Statistical Analysis - Part 1"
   ]
  },
  {
   "cell_type": "code",
   "execution_count": 1,
   "metadata": {},
   "outputs": [],
   "source": [
    "import pandas as pd\n",
    "from collections import Counter\n",
    "\n",
    "import numpy as np\n",
    "\n",
    "from multiprocessing import Pool\n",
    "\n",
    "from sklearn.impute import KNNImputer\n",
    "from sklearn.impute import SimpleImputer\n",
    "\n",
    "from sklearn.preprocessing import StandardScaler, MinMaxScaler\n",
    "from sklearn.model_selection import train_test_split\n",
    "\n",
    "import math\n",
    "\n",
    "from tqdm import tqdm\n",
    "import time\n",
    "\n",
    "from matplotlib import pyplot as plt\n",
    "import matplotlib.ticker as mtick\n",
    "import seaborn as sns\n",
    "\n",
    "from scipy import stats"
   ]
  },
  {
   "cell_type": "code",
   "execution_count": 2,
   "metadata": {},
   "outputs": [],
   "source": [
    "import warnings\n",
    "warnings.filterwarnings('ignore')"
   ]
  },
  {
   "cell_type": "code",
   "execution_count": null,
   "metadata": {},
   "outputs": [],
   "source": []
  },
  {
   "cell_type": "code",
   "execution_count": null,
   "metadata": {},
   "outputs": [],
   "source": []
  },
  {
   "cell_type": "code",
   "execution_count": null,
   "metadata": {},
   "outputs": [],
   "source": []
  },
  {
   "cell_type": "code",
   "execution_count": null,
   "metadata": {},
   "outputs": [],
   "source": [
    "physio_data = pd.read_csv('../data_output/physio_data_sta.csv')"
   ]
  },
  {
   "cell_type": "code",
   "execution_count": null,
   "metadata": {
    "scrolled": true
   },
   "outputs": [],
   "source": [
    "physio_data"
   ]
  },
  {
   "cell_type": "code",
   "execution_count": null,
   "metadata": {},
   "outputs": [],
   "source": [
    "physio_data.describe().T"
   ]
  },
  {
   "cell_type": "code",
   "execution_count": null,
   "metadata": {},
   "outputs": [],
   "source": [
    "physio_data[physio_data['weight'] >= 300.0]"
   ]
  },
  {
   "cell_type": "code",
   "execution_count": null,
   "metadata": {},
   "outputs": [],
   "source": [
    "physio_data[physio_data['Inspired O2 Fraction'] >= 1000.0]"
   ]
  },
  {
   "cell_type": "code",
   "execution_count": null,
   "metadata": {},
   "outputs": [],
   "source": [
    "physio_data_example = physio_data[~physio_data['subject_id'].isin([17146833, 18902162, 13870935, 12584911])]\n"
   ]
  },
  {
   "cell_type": "code",
   "execution_count": null,
   "metadata": {},
   "outputs": [],
   "source": [
    "physio_data_example.describe().T"
   ]
  },
  {
   "cell_type": "code",
   "execution_count": null,
   "metadata": {},
   "outputs": [],
   "source": []
  },
  {
   "cell_type": "code",
   "execution_count": null,
   "metadata": {
    "scrolled": true
   },
   "outputs": [],
   "source": [
    "physio_data.info()"
   ]
  },
  {
   "cell_type": "code",
   "execution_count": null,
   "metadata": {
    "scrolled": true
   },
   "outputs": [],
   "source": [
    "physio_data[['stay_id', 'readmission_count', 'death_in_ICU', 'death_out_ICU', 'epoch']].head(60)"
   ]
  },
  {
   "cell_type": "code",
   "execution_count": null,
   "metadata": {},
   "outputs": [],
   "source": [
    "Counter(physio_data['readmission_count'])"
   ]
  },
  {
   "cell_type": "code",
   "execution_count": null,
   "metadata": {},
   "outputs": [],
   "source": [
    "# physio_data_rd_1 = physio_data[physio_data['readmission_count'] == 0]\n",
    "physio_data_rd_1 = physio_data.copy()"
   ]
  },
  {
   "cell_type": "code",
   "execution_count": null,
   "metadata": {
    "scrolled": true
   },
   "outputs": [],
   "source": [
    "physio_data_rd_1.info()"
   ]
  },
  {
   "cell_type": "code",
   "execution_count": null,
   "metadata": {},
   "outputs": [],
   "source": [
    "# Extract the first decision epoch\n",
    "physio_data_rd_1_first = physio_data[physio_data['epoch'] == 1].copy()"
   ]
  },
  {
   "cell_type": "code",
   "execution_count": null,
   "metadata": {},
   "outputs": [],
   "source": [
    "# physio_data_rd_1_first"
   ]
  },
  {
   "cell_type": "code",
   "execution_count": null,
   "metadata": {},
   "outputs": [],
   "source": [
    "# physio_data_rd_1_first['gender'] = physio_data_rd_1_first['M'].replace({0: 'female', 1: 'male'})"
   ]
  },
  {
   "cell_type": "code",
   "execution_count": null,
   "metadata": {},
   "outputs": [],
   "source": [
    "# physio_data_rd_1_first['gender'] "
   ]
  },
  {
   "cell_type": "code",
   "execution_count": null,
   "metadata": {},
   "outputs": [],
   "source": [
    "# physio_data_rd_1_first.columns"
   ]
  },
  {
   "cell_type": "code",
   "execution_count": null,
   "metadata": {},
   "outputs": [],
   "source": [
    "# cols_to_add_missing = ['Magnesium', 'HCO3 (serum)', 'PH (Arterial)']"
   ]
  },
  {
   "cell_type": "code",
   "execution_count": null,
   "metadata": {},
   "outputs": [],
   "source": [
    "# missing_rates = {'Magnesium': 0.18, 'HCO3 (serum)': 0.36, 'PH (Arterial)':0.29} \n",
    "\n",
    "# for col, rate in missing_rates.items():\n",
    "#     missing_indices = np.random.choice(\n",
    "#         physio_data_rd_1_first.index, \n",
    "#         size = int(len(physio_data_rd_1_first) * rate), \n",
    "#         replace = False\n",
    "#     )\n",
    "#     physio_data_rd_1_first.loc[missing_indices, col] = np.nan"
   ]
  },
  {
   "cell_type": "code",
   "execution_count": null,
   "metadata": {
    "scrolled": true
   },
   "outputs": [],
   "source": [
    "# physio_data_rd_1_first.info()"
   ]
  },
  {
   "cell_type": "code",
   "execution_count": null,
   "metadata": {},
   "outputs": [],
   "source": [
    "# physio_data_rd_1_first.columns"
   ]
  },
  {
   "cell_type": "code",
   "execution_count": null,
   "metadata": {},
   "outputs": [],
   "source": [
    "# output_table = physio_data_rd_1_first.sample(n = 3000)"
   ]
  },
  {
   "cell_type": "code",
   "execution_count": null,
   "metadata": {},
   "outputs": [],
   "source": [
    "# icu_data_example = output_table[['stay_id', 'los', 'age', 'gender', 'weight', 'Heart Rate', 'Arterial O2 pressure', \n",
    "#                                  'Magnesium', 'HCO3 (serum)', 'PH (Arterial)']]"
   ]
  },
  {
   "cell_type": "code",
   "execution_count": null,
   "metadata": {},
   "outputs": [],
   "source": [
    "# icu_data_additional = output_table[['stay_id', 'Temperature C']]"
   ]
  },
  {
   "cell_type": "code",
   "execution_count": null,
   "metadata": {},
   "outputs": [],
   "source": [
    "# icu_data_example.to_csv('../data_output/icu_data_example.csv', index = False)\n",
    "# icu_data_additional.to_csv('../data_output/icu_data_additional.csv', index = False)"
   ]
  },
  {
   "cell_type": "code",
   "execution_count": null,
   "metadata": {},
   "outputs": [],
   "source": []
  },
  {
   "cell_type": "code",
   "execution_count": null,
   "metadata": {},
   "outputs": [],
   "source": [
    "physio_data_rd_1_first_fail = physio_data_rd_1_first[physio_data_rd_1_first['discharge_fail'] == 1]\n",
    "physio_data_rd_1_first_success = physio_data_rd_1_first[physio_data_rd_1_first['discharge_fail'] == 0]"
   ]
  },
  {
   "cell_type": "code",
   "execution_count": null,
   "metadata": {},
   "outputs": [],
   "source": [
    "sns.barplot(x = 'death_out_ICU', y = 'los', data = physio_data_rd_1_first)\n",
    "plt.show()"
   ]
  },
  {
   "cell_type": "code",
   "execution_count": null,
   "metadata": {},
   "outputs": [],
   "source": [
    "sns.barplot(x = 'discharge_fail', y = 'los', data = physio_data_rd_1_first)\n",
    "plt.show()"
   ]
  },
  {
   "cell_type": "markdown",
   "metadata": {},
   "source": [
    "## Relationship between mortality risk and readmission count."
   ]
  },
  {
   "cell_type": "markdown",
   "metadata": {},
   "source": [
    "- Death in ICU"
   ]
  },
  {
   "cell_type": "code",
   "execution_count": null,
   "metadata": {},
   "outputs": [],
   "source": [
    "# Extract the first decision epoch\n",
    "physio_data_epoch_first = physio_data[physio_data['epoch'] == 1].copy()"
   ]
  },
  {
   "cell_type": "code",
   "execution_count": null,
   "metadata": {},
   "outputs": [],
   "source": [
    "[physio_data_epoch_first[physio_data_epoch_first['readmission_count'] == 0]['death_in_ICU'].mean(),\n",
    " physio_data_epoch_first[physio_data_epoch_first['readmission_count'] == 1]['death_in_ICU'].mean(),\n",
    " physio_data_epoch_first[physio_data_epoch_first['readmission_count'] == 2]['death_in_ICU'].mean(),\n",
    " physio_data_epoch_first[physio_data_epoch_first['readmission_count'] == 3]['death_in_ICU'].mean(),\n",
    " physio_data_epoch_first[physio_data_epoch_first['readmission_count'] == 4]['death_in_ICU'].mean()]"
   ]
  },
  {
   "cell_type": "code",
   "execution_count": null,
   "metadata": {
    "scrolled": true
   },
   "outputs": [],
   "source": [
    "sns.barplot(x = 'readmission_count', y = 'death_in_ICU', data = physio_data_epoch_first)\n",
    "plt.show()"
   ]
  },
  {
   "cell_type": "code",
   "execution_count": null,
   "metadata": {
    "scrolled": true
   },
   "outputs": [],
   "source": [
    "# Set the style for publication-quality plots\n",
    "plt.style.use('seaborn-darkgrid')\n",
    "sns.set_context(\"paper\", font_scale=1.2)\n",
    "\n",
    "# Create figure with subplots\n",
    "fig, (ax1, ax2) = plt.subplots(1, 2, figsize=(15, 6))\n",
    "\n",
    "# 1. Enhanced bar plot with error bars\n",
    "sns.barplot(x='readmission_count', \n",
    "            y='death_in_ICU', \n",
    "            data=physio_data_epoch_first,\n",
    "            ci=95,  # 95% confidence intervals\n",
    "            color='steelblue',\n",
    "            ax=ax1)\n",
    "\n",
    "ax1.set_title('ICU Mortality by Readmission Count\\nwith 95% CI', pad=15)\n",
    "ax1.set_xlabel('Number of Readmissions')\n",
    "ax1.set_ylabel('Mortality Rate')\n",
    "ax1.tick_params(axis='x', rotation=0)\n",
    "\n",
    "# 2. Box plot to show distribution\n",
    "sns.boxplot(x='readmission_count', \n",
    "            y='death_in_ICU',\n",
    "            data=physio_data_epoch_first,\n",
    "            color='lightsteelblue',\n",
    "            ax = ax2)\n",
    "\n",
    "ax2.set_title('Distribution of ICU Mortality\\nby Readmission Count', pad=15)\n",
    "ax2.set_xlabel('Number of Readmissions')\n",
    "ax2.set_ylabel('Mortality Rate')\n",
    "\n",
    "# Adjust layout\n",
    "plt.tight_layout()\n",
    "plt.show()\n",
    "\n",
    "# Additional statistical visualization\n",
    "plt.figure(figsize=(10, 6))\n",
    "\n",
    "# Point plot with error bars and line connection\n",
    "sns.pointplot(x='readmission_count', \n",
    "             y='death_in_ICU',\n",
    "             data=physio_data_epoch_first,\n",
    "             ci=95,\n",
    "             color='darkblue',\n",
    "             markers='o',\n",
    "             linestyles='-',\n",
    "             capsize=0.1)\n",
    "\n",
    "plt.title('Trend of ICU Mortality with Readmission Count\\nwith 95% CI', pad=15)\n",
    "plt.xlabel('Number of Readmissions')\n",
    "plt.ylabel('Mortality Rate')\n",
    "\n",
    "# Add a trend line if needed\n",
    "readmission_counts = physio_data_epoch_first['readmission_count'].unique()\n",
    "mean_deaths = [physio_data_epoch_first[physio_data_epoch_first['readmission_count'] == count]['death_in_ICU'].mean() \n",
    "               for count in readmission_counts]\n",
    "\n",
    "# Optional: Add statistical annotations\n",
    "plt.text(0.02, 0.98, \n",
    "         f'n = {len(physio_data_epoch_first)}',\n",
    "         transform=plt.gca().transAxes,\n",
    "         fontsize=10,\n",
    "         verticalalignment='top')\n",
    "\n",
    "plt.tight_layout()\n",
    "plt.show()"
   ]
  },
  {
   "cell_type": "code",
   "execution_count": null,
   "metadata": {},
   "outputs": [],
   "source": [
    "# Optional: Statistical summary\n",
    "print(\"\\nStatistical Summary:\")\n",
    "print(physio_data_epoch_first.groupby('readmission_count')['death_in_ICU'].agg(['count', 'mean', 'std']).round(3))"
   ]
  },
  {
   "cell_type": "markdown",
   "metadata": {},
   "source": [
    "- Death out of ICU (30 days now)\n"
   ]
  },
  {
   "cell_type": "code",
   "execution_count": null,
   "metadata": {
    "scrolled": true
   },
   "outputs": [],
   "source": [
    "[physio_data_epoch_first[physio_data_epoch_first['readmission_count'] == 0]['death_out_ICU'].mean(),\n",
    " physio_data_epoch_first[physio_data_epoch_first['readmission_count'] == 1]['death_out_ICU'].mean(),\n",
    " physio_data_epoch_first[physio_data_epoch_first['readmission_count'] == 2]['death_out_ICU'].mean(),\n",
    " physio_data_epoch_first[physio_data_epoch_first['readmission_count'] == 3]['death_out_ICU'].mean(),\n",
    " physio_data_epoch_first[physio_data_epoch_first['readmission_count'] == 4]['death_out_ICU'].mean()]"
   ]
  },
  {
   "cell_type": "code",
   "execution_count": null,
   "metadata": {
    "scrolled": true
   },
   "outputs": [],
   "source": [
    "sns.barplot(x = 'readmission_count', y = 'death_out_ICU', data = physio_data_epoch_first)\n",
    "plt.show()"
   ]
  },
  {
   "cell_type": "code",
   "execution_count": null,
   "metadata": {},
   "outputs": [],
   "source": [
    "condition = (physio_data_epoch_first['death_in_ICU'] == 1) | (physio_data_epoch_first['death_out_ICU'] == 1)\n",
    "\n",
    "physio_data_epoch_first['pa_death'] = 0.0\n",
    "physio_data_epoch_first.loc[condition, 'pa_death'] = 1.0"
   ]
  },
  {
   "cell_type": "code",
   "execution_count": null,
   "metadata": {},
   "outputs": [],
   "source": [
    "sns.barplot(x = 'readmission_count', y = 'pa_death', data = physio_data_epoch_first)\n",
    "plt.show()"
   ]
  },
  {
   "cell_type": "code",
   "execution_count": null,
   "metadata": {},
   "outputs": [],
   "source": [
    "correlation = physio_data_epoch_first['pa_death'].corr(physio_data_epoch_first['discharge_fail'])"
   ]
  },
  {
   "cell_type": "code",
   "execution_count": null,
   "metadata": {},
   "outputs": [],
   "source": [
    "print(correlation)"
   ]
  },
  {
   "cell_type": "code",
   "execution_count": null,
   "metadata": {},
   "outputs": [],
   "source": [
    "sns.heatmap(physio_data_epoch_first[['pa_death', 'discharge_fail']].corr(), annot=True, cmap='coolwarm')\n",
    "plt.show()"
   ]
  },
  {
   "cell_type": "code",
   "execution_count": null,
   "metadata": {},
   "outputs": [],
   "source": [
    "plt.scatter(physio_data_epoch_first['pa_death'], physio_data_epoch_first['discharge_fail'])\n",
    "plt.xlabel('death')\n",
    "plt.ylabel('discharge_fail')\n",
    "plt.show()"
   ]
  },
  {
   "cell_type": "raw",
   "metadata": {},
   "source": []
  },
  {
   "cell_type": "code",
   "execution_count": null,
   "metadata": {
    "scrolled": true
   },
   "outputs": [],
   "source": [
    "# Set the aesthetic style of the plots\n",
    "plt.style.use('seaborn-whitegrid')\n",
    "sns.set_context(\"paper\", font_scale = 1.4)\n",
    "\n",
    "# Create the figure with a specific size for better proportions\n",
    "plt.figure(figsize = (10, 6))\n",
    "\n",
    "# Create a color palette - using a blue palette that's colorblind-friendly\n",
    "palette = sns.color_palette(\"Blues_d\", len(physio_data_epoch_first['readmission_count'].unique()))\n",
    "\n",
    "# Create the barplot with error bars and improved aesthetics\n",
    "ax = sns.barplot(\n",
    "    x = 'readmission_count', \n",
    "    y = 'pa_death', \n",
    "    data = physio_data_epoch_first,\n",
    "    palette = palette,\n",
    "    errorbar = ('ci', 95),  # Add 95% confidence intervals\n",
    "    capsize = 0.2           # Add caps to error bars\n",
    ")\n",
    "\n",
    "# Add value labels on top of each bar\n",
    "for i, bar in enumerate(ax.patches):\n",
    "    height = bar.get_height()\n",
    "    ax.text(\n",
    "        bar.get_x() + bar.get_width()/2.,\n",
    "        height + 0.005,  # Small offset above the bar\n",
    "        f'{height:.3f}',\n",
    "        ha = 'center',\n",
    "        va = 'bottom',\n",
    "        fontsize = 12\n",
    "    )\n",
    "\n",
    "# Improve the axes labels and title\n",
    "plt.xlabel('Number of Readmissions', fontweight = 'bold')\n",
    "plt.ylabel('Probability of Adverse Death', fontweight = 'bold')\n",
    "plt.title('Relationship Between Readmission Count and Mortality', fontsize = 16, pad = 20)\n",
    "\n",
    "# If x-axis represents counts, ensure they're integers\n",
    "ax.xaxis.set_major_locator(mtick.MaxNLocator(integer=True))\n",
    "\n",
    "# Ensure the y-axis starts from 0 for proper visual comparison\n",
    "plt.ylim(bottom = 0)\n",
    "\n",
    "# Add a light grid for easier reading of values\n",
    "ax.grid(axis = 'y', linestyle = '--', alpha = 0.7)\n",
    "\n",
    "# Add a note about the confidence intervals\n",
    "plt.annotate('Error bars represent 95% confidence intervals', \n",
    "             xy = (0.5, -0.15), \n",
    "             xycoords = 'axes fraction', \n",
    "             ha = 'center', \n",
    "             fontsize = 10, \n",
    "             style = 'italic')\n",
    "\n",
    "# Adjust layout to make room for labels\n",
    "plt.tight_layout()\n",
    "\n",
    "# Save the figure with high resolution if needed\n",
    "plt.savefig('../Experiment Figure/EDA_figures/readmission_mortality.png', dpi = 300, bbox_inches = 'tight')\n",
    "\n",
    "# Show the plot\n",
    "plt.show()"
   ]
  },
  {
   "cell_type": "markdown",
   "metadata": {},
   "source": [
    "## Relationship between readmission risk and readmission count."
   ]
  },
  {
   "cell_type": "code",
   "execution_count": null,
   "metadata": {
    "scrolled": true
   },
   "outputs": [],
   "source": [
    "physio_data_epoch_first.info()"
   ]
  },
  {
   "cell_type": "code",
   "execution_count": null,
   "metadata": {},
   "outputs": [],
   "source": [
    "[physio_data_epoch_first[physio_data_epoch_first['readmission_count'] == 0]['discharge_fail'].mean(),\n",
    " physio_data_epoch_first[physio_data_epoch_first['readmission_count'] == 1]['discharge_fail'].mean(),\n",
    " physio_data_epoch_first[physio_data_epoch_first['readmission_count'] == 2]['discharge_fail'].mean(),\n",
    " physio_data_epoch_first[physio_data_epoch_first['readmission_count'] == 3]['discharge_fail'].mean(),\n",
    " physio_data_epoch_first[physio_data_epoch_first['readmission_count'] == 4]['discharge_fail'].mean()]"
   ]
  },
  {
   "cell_type": "code",
   "execution_count": null,
   "metadata": {},
   "outputs": [],
   "source": [
    "sns.barplot(x = 'readmission_count', y = 'discharge_fail', data = physio_data_epoch_first)\n",
    "plt.show()"
   ]
  },
  {
   "cell_type": "code",
   "execution_count": null,
   "metadata": {
    "scrolled": true
   },
   "outputs": [],
   "source": [
    "physio_data_epoch_first[physio_data_epoch_first['readmission_count'] == 4][['subject_id', 'stay_id', 'discharge_fail', 'readmission_count', 'death_in_ICU', 'death_out_ICU']]"
   ]
  },
  {
   "cell_type": "code",
   "execution_count": null,
   "metadata": {
    "scrolled": true
   },
   "outputs": [],
   "source": [
    "physio_data"
   ]
  },
  {
   "cell_type": "markdown",
   "metadata": {},
   "source": [
    "## Relationship between lenth-of-stay in ICU and readmission count."
   ]
  },
  {
   "cell_type": "code",
   "execution_count": null,
   "metadata": {},
   "outputs": [],
   "source": [
    "[physio_data_epoch_first[physio_data_epoch_first['readmission_count'] == 0]['los'].mean(),\n",
    " physio_data_epoch_first[physio_data_epoch_first['readmission_count'] == 1]['los'].mean(),\n",
    " physio_data_epoch_first[physio_data_epoch_first['readmission_count'] == 2]['los'].mean(),\n",
    " physio_data_epoch_first[physio_data_epoch_first['readmission_count'] == 3]['los'].mean(),\n",
    " physio_data_epoch_first[physio_data_epoch_first['readmission_count'] == 4]['los'].mean()]"
   ]
  },
  {
   "cell_type": "code",
   "execution_count": null,
   "metadata": {
    "scrolled": true
   },
   "outputs": [],
   "source": [
    "sns.barplot(x = 'readmission_count', y = 'los', data = physio_data_epoch_first)\n",
    "plt.show()"
   ]
  },
  {
   "cell_type": "code",
   "execution_count": null,
   "metadata": {},
   "outputs": [],
   "source": [
    "physio_data['los'].describe().T"
   ]
  },
  {
   "cell_type": "code",
   "execution_count": null,
   "metadata": {},
   "outputs": [],
   "source": [
    "# physio_data['los_costs'].describe().T"
   ]
  },
  {
   "cell_type": "markdown",
   "metadata": {},
   "source": [
    "# Statistical Analysis - Part 2"
   ]
  },
  {
   "cell_type": "code",
   "execution_count": 3,
   "metadata": {},
   "outputs": [],
   "source": [
    "id_table_train = pd.read_csv('../data_output/id_table_train_v13.csv')\n",
    "rl_table_train = pd.read_csv('../data_output/rl_table_train_v13.csv')\n",
    "rl_table_train_scaled = pd.read_csv('../data_output/rl_table_train_scaled_v13.csv')"
   ]
  },
  {
   "cell_type": "code",
   "execution_count": 4,
   "metadata": {},
   "outputs": [],
   "source": [
    "id_table_val = pd.read_csv('../data_output/id_table_val_v13.csv')\n",
    "rl_table_val = pd.read_csv('../data_output/rl_table_val_v13.csv')\n",
    "rl_table_val_scaled = pd.read_csv('../data_output/rl_table_val_scaled_v13.csv')"
   ]
  },
  {
   "cell_type": "code",
   "execution_count": 5,
   "metadata": {},
   "outputs": [],
   "source": [
    "id_table_test = pd.read_csv('../data_output/id_table_test_v13.csv')\n",
    "rl_table_test = pd.read_csv('../data_output/rl_table_test_v13.csv')\n",
    "rl_table_test_scaled = pd.read_csv('../data_output/rl_table_test_scaled_v13.csv')"
   ]
  },
  {
   "cell_type": "code",
   "execution_count": 6,
   "metadata": {},
   "outputs": [
    {
     "name": "stdout",
     "output_type": "stream",
     "text": [
      "<class 'pandas.core.frame.DataFrame'>\n",
      "RangeIndex: 393856 entries, 0 to 393855\n",
      "Data columns (total 21 columns):\n",
      " #   Column                Non-Null Count   Dtype  \n",
      "---  ------                --------------   -----  \n",
      " 0   subject_id            393856 non-null  int64  \n",
      " 1   hadm_id               393856 non-null  int64  \n",
      " 2   stay_id               393856 non-null  int64  \n",
      " 3   time                  393856 non-null  object \n",
      " 4   discharge_action      393856 non-null  float64\n",
      " 5   epoch                 393856 non-null  int64  \n",
      " 6   icu_starttime         393856 non-null  object \n",
      " 7   icu_endtime           393856 non-null  object \n",
      " 8   los                   393856 non-null  float64\n",
      " 9   discharge_fail        393856 non-null  float64\n",
      " 10  readmission           393856 non-null  int64  \n",
      " 11  readmission_count     393856 non-null  int64  \n",
      " 12  death_in_ICU          393856 non-null  int64  \n",
      " 13  death_out_ICU         393856 non-null  int64  \n",
      " 14  qSOFA                 393856 non-null  int64  \n",
      " 15  death                 393856 non-null  int64  \n",
      " 16  mortality_costs       393856 non-null  float64\n",
      " 17  discharge_fail_costs  393856 non-null  float64\n",
      " 18  los_costs             393856 non-null  float64\n",
      " 19  los_costs_scaled      393856 non-null  float64\n",
      " 20  safe_action           393856 non-null  float64\n",
      "dtypes: float64(8), int64(10), object(3)\n",
      "memory usage: 63.1+ MB\n"
     ]
    }
   ],
   "source": [
    "id_table_train.info()"
   ]
  },
  {
   "cell_type": "code",
   "execution_count": 7,
   "metadata": {
    "scrolled": true
   },
   "outputs": [
    {
     "name": "stdout",
     "output_type": "stream",
     "text": [
      "<class 'pandas.core.frame.DataFrame'>\n",
      "RangeIndex: 393856 entries, 0 to 393855\n",
      "Data columns (total 37 columns):\n",
      " #   Column                    Non-Null Count   Dtype  \n",
      "---  ------                    --------------   -----  \n",
      " 0   age                       393856 non-null  float64\n",
      " 1   M                         393856 non-null  float64\n",
      " 2   weight                    393856 non-null  float64\n",
      " 3   Heart Rate                393856 non-null  float64\n",
      " 4   Arterial O2 pressure      393856 non-null  float64\n",
      " 5   Hemoglobin                393856 non-null  float64\n",
      " 6   Arterial CO2 Pressure     393856 non-null  float64\n",
      " 7   PH (Venous)               393856 non-null  float64\n",
      " 8   Hematocrit (serum)        393856 non-null  float64\n",
      " 9   WBC                       393856 non-null  float64\n",
      " 10  Chloride (serum)          393856 non-null  float64\n",
      " 11  Creatinine (serum)        393856 non-null  float64\n",
      " 12  Glucose (serum)           393856 non-null  float64\n",
      " 13  Magnesium                 393856 non-null  float64\n",
      " 14  Sodium (serum)            393856 non-null  float64\n",
      " 15  PH (Arterial)             393856 non-null  float64\n",
      " 16  Inspired O2 Fraction      393856 non-null  float64\n",
      " 17  Arterial Base Excess      393856 non-null  float64\n",
      " 18  BUN                       393856 non-null  float64\n",
      " 19  Ionized Calcium           393856 non-null  float64\n",
      " 20  Total Bilirubin           393856 non-null  float64\n",
      " 21  Glucose (whole blood)     393856 non-null  float64\n",
      " 22  Potassium (serum)         393856 non-null  float64\n",
      " 23  HCO3 (serum)              393856 non-null  float64\n",
      " 24  Platelet Count            393856 non-null  float64\n",
      " 25  Prothrombin time          393856 non-null  float64\n",
      " 26  PTT                       393856 non-null  float64\n",
      " 27  INR                       393856 non-null  float64\n",
      " 28  Blood Pressure Systolic   393856 non-null  float64\n",
      " 29  Blood Pressure Diastolic  393856 non-null  float64\n",
      " 30  Blood Pressure Mean       393856 non-null  float64\n",
      " 31  Temperature C             393856 non-null  float64\n",
      " 32  SaO2                      393856 non-null  float64\n",
      " 33  GCS score                 393856 non-null  float64\n",
      " 34  Respiratory Rate          393856 non-null  float64\n",
      " 35  Tidal Volume              393856 non-null  float64\n",
      " 36  readmission_count         393856 non-null  float64\n",
      "dtypes: float64(37)\n",
      "memory usage: 111.2 MB\n"
     ]
    }
   ],
   "source": [
    "rl_table_train.info()"
   ]
  },
  {
   "cell_type": "code",
   "execution_count": 8,
   "metadata": {
    "scrolled": true
   },
   "outputs": [
    {
     "name": "stdout",
     "output_type": "stream",
     "text": [
      "<class 'pandas.core.frame.DataFrame'>\n",
      "RangeIndex: 393856 entries, 0 to 393855\n",
      "Data columns (total 37 columns):\n",
      " #   Column                    Non-Null Count   Dtype  \n",
      "---  ------                    --------------   -----  \n",
      " 0   age                       393856 non-null  float64\n",
      " 1   M                         393856 non-null  float64\n",
      " 2   weight                    393856 non-null  float64\n",
      " 3   Heart Rate                393856 non-null  float64\n",
      " 4   Arterial O2 pressure      393856 non-null  float64\n",
      " 5   Hemoglobin                393856 non-null  float64\n",
      " 6   Arterial CO2 Pressure     393856 non-null  float64\n",
      " 7   PH (Venous)               393856 non-null  float64\n",
      " 8   Hematocrit (serum)        393856 non-null  float64\n",
      " 9   WBC                       393856 non-null  float64\n",
      " 10  Chloride (serum)          393856 non-null  float64\n",
      " 11  Creatinine (serum)        393856 non-null  float64\n",
      " 12  Glucose (serum)           393856 non-null  float64\n",
      " 13  Magnesium                 393856 non-null  float64\n",
      " 14  Sodium (serum)            393856 non-null  float64\n",
      " 15  PH (Arterial)             393856 non-null  float64\n",
      " 16  Inspired O2 Fraction      393856 non-null  float64\n",
      " 17  Arterial Base Excess      393856 non-null  float64\n",
      " 18  BUN                       393856 non-null  float64\n",
      " 19  Ionized Calcium           393856 non-null  float64\n",
      " 20  Total Bilirubin           393856 non-null  float64\n",
      " 21  Glucose (whole blood)     393856 non-null  float64\n",
      " 22  Potassium (serum)         393856 non-null  float64\n",
      " 23  HCO3 (serum)              393856 non-null  float64\n",
      " 24  Platelet Count            393856 non-null  float64\n",
      " 25  Prothrombin time          393856 non-null  float64\n",
      " 26  PTT                       393856 non-null  float64\n",
      " 27  INR                       393856 non-null  float64\n",
      " 28  Blood Pressure Systolic   393856 non-null  float64\n",
      " 29  Blood Pressure Diastolic  393856 non-null  float64\n",
      " 30  Blood Pressure Mean       393856 non-null  float64\n",
      " 31  Temperature C             393856 non-null  float64\n",
      " 32  SaO2                      393856 non-null  float64\n",
      " 33  GCS score                 393856 non-null  float64\n",
      " 34  Respiratory Rate          393856 non-null  float64\n",
      " 35  Tidal Volume              393856 non-null  float64\n",
      " 36  readmission_count         393856 non-null  float64\n",
      "dtypes: float64(37)\n",
      "memory usage: 111.2 MB\n"
     ]
    }
   ],
   "source": [
    "rl_table_train_scaled.info()"
   ]
  },
  {
   "cell_type": "code",
   "execution_count": 9,
   "metadata": {
    "scrolled": true
   },
   "outputs": [
    {
     "data": {
      "text/html": [
       "<div>\n",
       "<style scoped>\n",
       "    .dataframe tbody tr th:only-of-type {\n",
       "        vertical-align: middle;\n",
       "    }\n",
       "\n",
       "    .dataframe tbody tr th {\n",
       "        vertical-align: top;\n",
       "    }\n",
       "\n",
       "    .dataframe thead th {\n",
       "        text-align: right;\n",
       "    }\n",
       "</style>\n",
       "<table border=\"1\" class=\"dataframe\">\n",
       "  <thead>\n",
       "    <tr style=\"text-align: right;\">\n",
       "      <th></th>\n",
       "      <th>count</th>\n",
       "      <th>mean</th>\n",
       "      <th>std</th>\n",
       "      <th>min</th>\n",
       "      <th>25%</th>\n",
       "      <th>50%</th>\n",
       "      <th>75%</th>\n",
       "      <th>max</th>\n",
       "    </tr>\n",
       "  </thead>\n",
       "  <tbody>\n",
       "    <tr>\n",
       "      <th>age</th>\n",
       "      <td>393856.0</td>\n",
       "      <td>63.908152</td>\n",
       "      <td>16.036702</td>\n",
       "      <td>18.000000</td>\n",
       "      <td>54.000000</td>\n",
       "      <td>65.000000</td>\n",
       "      <td>76.000000</td>\n",
       "      <td>91.000000</td>\n",
       "    </tr>\n",
       "    <tr>\n",
       "      <th>M</th>\n",
       "      <td>393856.0</td>\n",
       "      <td>0.576772</td>\n",
       "      <td>0.494072</td>\n",
       "      <td>0.000000</td>\n",
       "      <td>0.000000</td>\n",
       "      <td>1.000000</td>\n",
       "      <td>1.000000</td>\n",
       "      <td>1.000000</td>\n",
       "    </tr>\n",
       "    <tr>\n",
       "      <th>weight</th>\n",
       "      <td>393856.0</td>\n",
       "      <td>82.749625</td>\n",
       "      <td>35.776076</td>\n",
       "      <td>0.000000</td>\n",
       "      <td>66.541946</td>\n",
       "      <td>79.300000</td>\n",
       "      <td>94.982165</td>\n",
       "      <td>8106.000000</td>\n",
       "    </tr>\n",
       "    <tr>\n",
       "      <th>Heart Rate</th>\n",
       "      <td>393856.0</td>\n",
       "      <td>85.489183</td>\n",
       "      <td>16.351815</td>\n",
       "      <td>13.500000</td>\n",
       "      <td>73.727273</td>\n",
       "      <td>84.250000</td>\n",
       "      <td>96.000000</td>\n",
       "      <td>167.000000</td>\n",
       "    </tr>\n",
       "    <tr>\n",
       "      <th>Arterial O2 pressure</th>\n",
       "      <td>393856.0</td>\n",
       "      <td>123.904643</td>\n",
       "      <td>46.200886</td>\n",
       "      <td>0.000000</td>\n",
       "      <td>90.600000</td>\n",
       "      <td>114.400000</td>\n",
       "      <td>147.000000</td>\n",
       "      <td>300.000000</td>\n",
       "    </tr>\n",
       "    <tr>\n",
       "      <th>Hemoglobin</th>\n",
       "      <td>393856.0</td>\n",
       "      <td>9.902724</td>\n",
       "      <td>1.893896</td>\n",
       "      <td>2.100000</td>\n",
       "      <td>8.500000</td>\n",
       "      <td>9.600000</td>\n",
       "      <td>11.100000</td>\n",
       "      <td>18.200000</td>\n",
       "    </tr>\n",
       "    <tr>\n",
       "      <th>Arterial CO2 Pressure</th>\n",
       "      <td>393856.0</td>\n",
       "      <td>41.198398</td>\n",
       "      <td>7.743124</td>\n",
       "      <td>8.666667</td>\n",
       "      <td>36.607143</td>\n",
       "      <td>40.400000</td>\n",
       "      <td>44.820000</td>\n",
       "      <td>78.000000</td>\n",
       "    </tr>\n",
       "    <tr>\n",
       "      <th>PH (Venous)</th>\n",
       "      <td>393856.0</td>\n",
       "      <td>7.377011</td>\n",
       "      <td>0.057719</td>\n",
       "      <td>7.030000</td>\n",
       "      <td>7.350000</td>\n",
       "      <td>7.381000</td>\n",
       "      <td>7.411000</td>\n",
       "      <td>7.710000</td>\n",
       "    </tr>\n",
       "    <tr>\n",
       "      <th>Hematocrit (serum)</th>\n",
       "      <td>393856.0</td>\n",
       "      <td>30.222009</td>\n",
       "      <td>5.458172</td>\n",
       "      <td>6.900000</td>\n",
       "      <td>26.200000</td>\n",
       "      <td>29.400000</td>\n",
       "      <td>33.500000</td>\n",
       "      <td>53.900000</td>\n",
       "    </tr>\n",
       "    <tr>\n",
       "      <th>WBC</th>\n",
       "      <td>393856.0</td>\n",
       "      <td>11.265371</td>\n",
       "      <td>5.476172</td>\n",
       "      <td>0.100000</td>\n",
       "      <td>7.600000</td>\n",
       "      <td>10.300000</td>\n",
       "      <td>13.800000</td>\n",
       "      <td>37.050000</td>\n",
       "    </tr>\n",
       "    <tr>\n",
       "      <th>Chloride (serum)</th>\n",
       "      <td>393856.0</td>\n",
       "      <td>103.250564</td>\n",
       "      <td>6.391262</td>\n",
       "      <td>75.000000</td>\n",
       "      <td>99.200000</td>\n",
       "      <td>103.500000</td>\n",
       "      <td>107.000000</td>\n",
       "      <td>131.000000</td>\n",
       "    </tr>\n",
       "    <tr>\n",
       "      <th>Creatinine (serum)</th>\n",
       "      <td>393856.0</td>\n",
       "      <td>1.325237</td>\n",
       "      <td>0.973574</td>\n",
       "      <td>0.000000</td>\n",
       "      <td>0.700000</td>\n",
       "      <td>1.000000</td>\n",
       "      <td>1.580000</td>\n",
       "      <td>5.100000</td>\n",
       "    </tr>\n",
       "    <tr>\n",
       "      <th>Glucose (serum)</th>\n",
       "      <td>393856.0</td>\n",
       "      <td>132.436587</td>\n",
       "      <td>43.485084</td>\n",
       "      <td>0.000000</td>\n",
       "      <td>103.000000</td>\n",
       "      <td>123.000000</td>\n",
       "      <td>150.000000</td>\n",
       "      <td>322.000000</td>\n",
       "    </tr>\n",
       "    <tr>\n",
       "      <th>Magnesium</th>\n",
       "      <td>393856.0</td>\n",
       "      <td>2.090961</td>\n",
       "      <td>0.315697</td>\n",
       "      <td>0.800000</td>\n",
       "      <td>1.900000</td>\n",
       "      <td>2.100000</td>\n",
       "      <td>2.300000</td>\n",
       "      <td>3.466667</td>\n",
       "    </tr>\n",
       "    <tr>\n",
       "      <th>Sodium (serum)</th>\n",
       "      <td>393856.0</td>\n",
       "      <td>138.580615</td>\n",
       "      <td>4.938705</td>\n",
       "      <td>116.000000</td>\n",
       "      <td>136.000000</td>\n",
       "      <td>139.000000</td>\n",
       "      <td>141.000000</td>\n",
       "      <td>161.500000</td>\n",
       "    </tr>\n",
       "    <tr>\n",
       "      <th>PH (Arterial)</th>\n",
       "      <td>393856.0</td>\n",
       "      <td>7.402329</td>\n",
       "      <td>0.057872</td>\n",
       "      <td>7.060000</td>\n",
       "      <td>7.370000</td>\n",
       "      <td>7.404000</td>\n",
       "      <td>7.440000</td>\n",
       "      <td>7.700000</td>\n",
       "    </tr>\n",
       "    <tr>\n",
       "      <th>Inspired O2 Fraction</th>\n",
       "      <td>393856.0</td>\n",
       "      <td>49.804842</td>\n",
       "      <td>15.226906</td>\n",
       "      <td>0.000000</td>\n",
       "      <td>40.000000</td>\n",
       "      <td>48.100000</td>\n",
       "      <td>56.666667</td>\n",
       "      <td>1790.000000</td>\n",
       "    </tr>\n",
       "    <tr>\n",
       "      <th>Arterial Base Excess</th>\n",
       "      <td>393856.0</td>\n",
       "      <td>0.772688</td>\n",
       "      <td>3.921265</td>\n",
       "      <td>-19.750000</td>\n",
       "      <td>-1.000000</td>\n",
       "      <td>0.333333</td>\n",
       "      <td>2.666667</td>\n",
       "      <td>20.000000</td>\n",
       "    </tr>\n",
       "    <tr>\n",
       "      <th>BUN</th>\n",
       "      <td>393856.0</td>\n",
       "      <td>28.715625</td>\n",
       "      <td>22.120227</td>\n",
       "      <td>1.000000</td>\n",
       "      <td>14.000000</td>\n",
       "      <td>21.000000</td>\n",
       "      <td>36.400000</td>\n",
       "      <td>127.000000</td>\n",
       "    </tr>\n",
       "    <tr>\n",
       "      <th>Ionized Calcium</th>\n",
       "      <td>393856.0</td>\n",
       "      <td>1.125858</td>\n",
       "      <td>0.067955</td>\n",
       "      <td>0.775000</td>\n",
       "      <td>1.090000</td>\n",
       "      <td>1.124400</td>\n",
       "      <td>1.160000</td>\n",
       "      <td>1.466667</td>\n",
       "    </tr>\n",
       "    <tr>\n",
       "      <th>Total Bilirubin</th>\n",
       "      <td>393856.0</td>\n",
       "      <td>1.143784</td>\n",
       "      <td>1.359742</td>\n",
       "      <td>0.000000</td>\n",
       "      <td>0.440000</td>\n",
       "      <td>0.700000</td>\n",
       "      <td>1.200000</td>\n",
       "      <td>9.600000</td>\n",
       "    </tr>\n",
       "    <tr>\n",
       "      <th>Glucose (whole blood)</th>\n",
       "      <td>393856.0</td>\n",
       "      <td>135.723219</td>\n",
       "      <td>31.720000</td>\n",
       "      <td>0.000000</td>\n",
       "      <td>115.800000</td>\n",
       "      <td>131.500000</td>\n",
       "      <td>150.000000</td>\n",
       "      <td>308.000000</td>\n",
       "    </tr>\n",
       "    <tr>\n",
       "      <th>Potassium (serum)</th>\n",
       "      <td>393856.0</td>\n",
       "      <td>4.089943</td>\n",
       "      <td>0.531244</td>\n",
       "      <td>1.700000</td>\n",
       "      <td>3.700000</td>\n",
       "      <td>4.000000</td>\n",
       "      <td>4.400000</td>\n",
       "      <td>6.500000</td>\n",
       "    </tr>\n",
       "    <tr>\n",
       "      <th>HCO3 (serum)</th>\n",
       "      <td>393856.0</td>\n",
       "      <td>24.729556</td>\n",
       "      <td>4.835444</td>\n",
       "      <td>3.333333</td>\n",
       "      <td>22.000000</td>\n",
       "      <td>24.000000</td>\n",
       "      <td>27.000000</td>\n",
       "      <td>45.000000</td>\n",
       "    </tr>\n",
       "    <tr>\n",
       "      <th>Platelet Count</th>\n",
       "      <td>393856.0</td>\n",
       "      <td>205.328747</td>\n",
       "      <td>112.482827</td>\n",
       "      <td>0.000000</td>\n",
       "      <td>128.000000</td>\n",
       "      <td>186.000000</td>\n",
       "      <td>260.000000</td>\n",
       "      <td>703.000000</td>\n",
       "    </tr>\n",
       "    <tr>\n",
       "      <th>Prothrombin time</th>\n",
       "      <td>393856.0</td>\n",
       "      <td>15.148424</td>\n",
       "      <td>4.069970</td>\n",
       "      <td>7.200000</td>\n",
       "      <td>12.600000</td>\n",
       "      <td>14.000000</td>\n",
       "      <td>16.200000</td>\n",
       "      <td>32.800000</td>\n",
       "    </tr>\n",
       "    <tr>\n",
       "      <th>PTT</th>\n",
       "      <td>393856.0</td>\n",
       "      <td>36.980368</td>\n",
       "      <td>15.295612</td>\n",
       "      <td>0.000000</td>\n",
       "      <td>27.900000</td>\n",
       "      <td>31.700000</td>\n",
       "      <td>39.500000</td>\n",
       "      <td>123.500000</td>\n",
       "    </tr>\n",
       "    <tr>\n",
       "      <th>INR</th>\n",
       "      <td>393856.0</td>\n",
       "      <td>1.373276</td>\n",
       "      <td>0.368467</td>\n",
       "      <td>0.500000</td>\n",
       "      <td>1.100000</td>\n",
       "      <td>1.300000</td>\n",
       "      <td>1.500000</td>\n",
       "      <td>2.800000</td>\n",
       "    </tr>\n",
       "    <tr>\n",
       "      <th>Blood Pressure Systolic</th>\n",
       "      <td>393856.0</td>\n",
       "      <td>119.126906</td>\n",
       "      <td>18.703956</td>\n",
       "      <td>30.000000</td>\n",
       "      <td>105.833333</td>\n",
       "      <td>117.000000</td>\n",
       "      <td>130.833333</td>\n",
       "      <td>205.000000</td>\n",
       "    </tr>\n",
       "    <tr>\n",
       "      <th>Blood Pressure Diastolic</th>\n",
       "      <td>393856.0</td>\n",
       "      <td>63.188815</td>\n",
       "      <td>12.360517</td>\n",
       "      <td>6.000000</td>\n",
       "      <td>54.600000</td>\n",
       "      <td>62.083333</td>\n",
       "      <td>70.769231</td>\n",
       "      <td>119.000000</td>\n",
       "    </tr>\n",
       "    <tr>\n",
       "      <th>Blood Pressure Mean</th>\n",
       "      <td>393856.0</td>\n",
       "      <td>78.706092</td>\n",
       "      <td>12.662070</td>\n",
       "      <td>20.400000</td>\n",
       "      <td>70.000000</td>\n",
       "      <td>77.250000</td>\n",
       "      <td>86.333333</td>\n",
       "      <td>135.166667</td>\n",
       "    </tr>\n",
       "    <tr>\n",
       "      <th>Temperature C</th>\n",
       "      <td>393856.0</td>\n",
       "      <td>36.860327</td>\n",
       "      <td>0.496964</td>\n",
       "      <td>34.911111</td>\n",
       "      <td>36.583333</td>\n",
       "      <td>36.833333</td>\n",
       "      <td>37.111111</td>\n",
       "      <td>38.875000</td>\n",
       "    </tr>\n",
       "    <tr>\n",
       "      <th>SaO2</th>\n",
       "      <td>393856.0</td>\n",
       "      <td>96.576144</td>\n",
       "      <td>2.192877</td>\n",
       "      <td>85.750000</td>\n",
       "      <td>95.166667</td>\n",
       "      <td>96.750000</td>\n",
       "      <td>98.166667</td>\n",
       "      <td>107.750000</td>\n",
       "    </tr>\n",
       "    <tr>\n",
       "      <th>GCS score</th>\n",
       "      <td>393856.0</td>\n",
       "      <td>12.859811</td>\n",
       "      <td>3.185684</td>\n",
       "      <td>3.000000</td>\n",
       "      <td>11.000000</td>\n",
       "      <td>14.875000</td>\n",
       "      <td>15.000000</td>\n",
       "      <td>15.000000</td>\n",
       "    </tr>\n",
       "    <tr>\n",
       "      <th>Respiratory Rate</th>\n",
       "      <td>393856.0</td>\n",
       "      <td>14.993339</td>\n",
       "      <td>7.234854</td>\n",
       "      <td>0.000000</td>\n",
       "      <td>9.666667</td>\n",
       "      <td>15.000000</td>\n",
       "      <td>19.900000</td>\n",
       "      <td>79.000000</td>\n",
       "    </tr>\n",
       "    <tr>\n",
       "      <th>Tidal Volume</th>\n",
       "      <td>393856.0</td>\n",
       "      <td>0.000476</td>\n",
       "      <td>0.000133</td>\n",
       "      <td>0.000000</td>\n",
       "      <td>0.000396</td>\n",
       "      <td>0.000468</td>\n",
       "      <td>0.000546</td>\n",
       "      <td>0.001080</td>\n",
       "    </tr>\n",
       "    <tr>\n",
       "      <th>readmission_count</th>\n",
       "      <td>393856.0</td>\n",
       "      <td>0.525629</td>\n",
       "      <td>0.948405</td>\n",
       "      <td>0.000000</td>\n",
       "      <td>0.000000</td>\n",
       "      <td>0.000000</td>\n",
       "      <td>1.000000</td>\n",
       "      <td>5.000000</td>\n",
       "    </tr>\n",
       "  </tbody>\n",
       "</table>\n",
       "</div>"
      ],
      "text/plain": [
       "                             count        mean         std         min  \\\n",
       "age                       393856.0   63.908152   16.036702   18.000000   \n",
       "M                         393856.0    0.576772    0.494072    0.000000   \n",
       "weight                    393856.0   82.749625   35.776076    0.000000   \n",
       "Heart Rate                393856.0   85.489183   16.351815   13.500000   \n",
       "Arterial O2 pressure      393856.0  123.904643   46.200886    0.000000   \n",
       "Hemoglobin                393856.0    9.902724    1.893896    2.100000   \n",
       "Arterial CO2 Pressure     393856.0   41.198398    7.743124    8.666667   \n",
       "PH (Venous)               393856.0    7.377011    0.057719    7.030000   \n",
       "Hematocrit (serum)        393856.0   30.222009    5.458172    6.900000   \n",
       "WBC                       393856.0   11.265371    5.476172    0.100000   \n",
       "Chloride (serum)          393856.0  103.250564    6.391262   75.000000   \n",
       "Creatinine (serum)        393856.0    1.325237    0.973574    0.000000   \n",
       "Glucose (serum)           393856.0  132.436587   43.485084    0.000000   \n",
       "Magnesium                 393856.0    2.090961    0.315697    0.800000   \n",
       "Sodium (serum)            393856.0  138.580615    4.938705  116.000000   \n",
       "PH (Arterial)             393856.0    7.402329    0.057872    7.060000   \n",
       "Inspired O2 Fraction      393856.0   49.804842   15.226906    0.000000   \n",
       "Arterial Base Excess      393856.0    0.772688    3.921265  -19.750000   \n",
       "BUN                       393856.0   28.715625   22.120227    1.000000   \n",
       "Ionized Calcium           393856.0    1.125858    0.067955    0.775000   \n",
       "Total Bilirubin           393856.0    1.143784    1.359742    0.000000   \n",
       "Glucose (whole blood)     393856.0  135.723219   31.720000    0.000000   \n",
       "Potassium (serum)         393856.0    4.089943    0.531244    1.700000   \n",
       "HCO3 (serum)              393856.0   24.729556    4.835444    3.333333   \n",
       "Platelet Count            393856.0  205.328747  112.482827    0.000000   \n",
       "Prothrombin time          393856.0   15.148424    4.069970    7.200000   \n",
       "PTT                       393856.0   36.980368   15.295612    0.000000   \n",
       "INR                       393856.0    1.373276    0.368467    0.500000   \n",
       "Blood Pressure Systolic   393856.0  119.126906   18.703956   30.000000   \n",
       "Blood Pressure Diastolic  393856.0   63.188815   12.360517    6.000000   \n",
       "Blood Pressure Mean       393856.0   78.706092   12.662070   20.400000   \n",
       "Temperature C             393856.0   36.860327    0.496964   34.911111   \n",
       "SaO2                      393856.0   96.576144    2.192877   85.750000   \n",
       "GCS score                 393856.0   12.859811    3.185684    3.000000   \n",
       "Respiratory Rate          393856.0   14.993339    7.234854    0.000000   \n",
       "Tidal Volume              393856.0    0.000476    0.000133    0.000000   \n",
       "readmission_count         393856.0    0.525629    0.948405    0.000000   \n",
       "\n",
       "                                 25%         50%         75%          max  \n",
       "age                        54.000000   65.000000   76.000000    91.000000  \n",
       "M                           0.000000    1.000000    1.000000     1.000000  \n",
       "weight                     66.541946   79.300000   94.982165  8106.000000  \n",
       "Heart Rate                 73.727273   84.250000   96.000000   167.000000  \n",
       "Arterial O2 pressure       90.600000  114.400000  147.000000   300.000000  \n",
       "Hemoglobin                  8.500000    9.600000   11.100000    18.200000  \n",
       "Arterial CO2 Pressure      36.607143   40.400000   44.820000    78.000000  \n",
       "PH (Venous)                 7.350000    7.381000    7.411000     7.710000  \n",
       "Hematocrit (serum)         26.200000   29.400000   33.500000    53.900000  \n",
       "WBC                         7.600000   10.300000   13.800000    37.050000  \n",
       "Chloride (serum)           99.200000  103.500000  107.000000   131.000000  \n",
       "Creatinine (serum)          0.700000    1.000000    1.580000     5.100000  \n",
       "Glucose (serum)           103.000000  123.000000  150.000000   322.000000  \n",
       "Magnesium                   1.900000    2.100000    2.300000     3.466667  \n",
       "Sodium (serum)            136.000000  139.000000  141.000000   161.500000  \n",
       "PH (Arterial)               7.370000    7.404000    7.440000     7.700000  \n",
       "Inspired O2 Fraction       40.000000   48.100000   56.666667  1790.000000  \n",
       "Arterial Base Excess       -1.000000    0.333333    2.666667    20.000000  \n",
       "BUN                        14.000000   21.000000   36.400000   127.000000  \n",
       "Ionized Calcium             1.090000    1.124400    1.160000     1.466667  \n",
       "Total Bilirubin             0.440000    0.700000    1.200000     9.600000  \n",
       "Glucose (whole blood)     115.800000  131.500000  150.000000   308.000000  \n",
       "Potassium (serum)           3.700000    4.000000    4.400000     6.500000  \n",
       "HCO3 (serum)               22.000000   24.000000   27.000000    45.000000  \n",
       "Platelet Count            128.000000  186.000000  260.000000   703.000000  \n",
       "Prothrombin time           12.600000   14.000000   16.200000    32.800000  \n",
       "PTT                        27.900000   31.700000   39.500000   123.500000  \n",
       "INR                         1.100000    1.300000    1.500000     2.800000  \n",
       "Blood Pressure Systolic   105.833333  117.000000  130.833333   205.000000  \n",
       "Blood Pressure Diastolic   54.600000   62.083333   70.769231   119.000000  \n",
       "Blood Pressure Mean        70.000000   77.250000   86.333333   135.166667  \n",
       "Temperature C              36.583333   36.833333   37.111111    38.875000  \n",
       "SaO2                       95.166667   96.750000   98.166667   107.750000  \n",
       "GCS score                  11.000000   14.875000   15.000000    15.000000  \n",
       "Respiratory Rate            9.666667   15.000000   19.900000    79.000000  \n",
       "Tidal Volume                0.000396    0.000468    0.000546     0.001080  \n",
       "readmission_count           0.000000    0.000000    1.000000     5.000000  "
      ]
     },
     "execution_count": 9,
     "metadata": {},
     "output_type": "execute_result"
    }
   ],
   "source": [
    "rl_table_train.describe().T"
   ]
  },
  {
   "cell_type": "code",
   "execution_count": 10,
   "metadata": {},
   "outputs": [
    {
     "data": {
      "text/plain": [
       "[393856, 48393, 49747]"
      ]
     },
     "execution_count": 10,
     "metadata": {},
     "output_type": "execute_result"
    }
   ],
   "source": [
    "[len(rl_table_train_scaled), \n",
    " len(rl_table_val_scaled),\n",
    " len(rl_table_test_scaled)]"
   ]
  },
  {
   "cell_type": "code",
   "execution_count": 11,
   "metadata": {},
   "outputs": [
    {
     "data": {
      "text/plain": [
       "491996"
      ]
     },
     "execution_count": 11,
     "metadata": {},
     "output_type": "execute_result"
    }
   ],
   "source": [
    "393856 + 48393 + 49747"
   ]
  },
  {
   "cell_type": "code",
   "execution_count": null,
   "metadata": {},
   "outputs": [],
   "source": []
  },
  {
   "cell_type": "code",
   "execution_count": 12,
   "metadata": {
    "scrolled": true
   },
   "outputs": [
    {
     "name": "stdout",
     "output_type": "stream",
     "text": [
      "\\begin{table}\n",
      "\\caption{Summary statistics of the study samples.}\n",
      "\\label{tab:summary_stats}\n",
      "\\begin{tabular}{llcccc}\n",
      "\\toprule\n",
      " & Mean & SD & Min & Q1 & Q2 & Q3 & Max \\\\\n",
      "\\midrule\n",
      "age & 63.91 & 16.04 & 18.00 & 54.00 & 65.00 & 76.00 & 91.00 \\\\\n",
      "M & 0.58 & 0.49 & 0.00 & 0.00 & 1.00 & 1.00 & 1.00 \\\\\n",
      "weight & 82.75 & 35.78 & 0.00 & 66.54 & 79.30 & 94.98 & 8106.00 \\\\\n",
      "Heart Rate & 85.49 & 16.35 & 13.50 & 73.73 & 84.25 & 96.00 & 167.00 \\\\\n",
      "Arterial O2 pressure & 123.90 & 46.20 & 0.00 & 90.60 & 114.40 & 147.00 & 300.00 \\\\\n",
      "Hemoglobin & 9.90 & 1.89 & 2.10 & 8.50 & 9.60 & 11.10 & 18.20 \\\\\n",
      "Arterial CO2 Pressure & 41.20 & 7.74 & 8.67 & 36.61 & 40.40 & 44.82 & 78.00 \\\\\n",
      "PH (Venous) & 7.38 & 0.06 & 7.03 & 7.35 & 7.38 & 7.41 & 7.71 \\\\\n",
      "Hematocrit (serum) & 30.22 & 5.46 & 6.90 & 26.20 & 29.40 & 33.50 & 53.90 \\\\\n",
      "WBC & 11.27 & 5.48 & 0.10 & 7.60 & 10.30 & 13.80 & 37.05 \\\\\n",
      "Chloride (serum) & 103.25 & 6.39 & 75.00 & 99.20 & 103.50 & 107.00 & 131.00 \\\\\n",
      "Creatinine (serum) & 1.33 & 0.97 & 0.00 & 0.70 & 1.00 & 1.58 & 5.10 \\\\\n",
      "Glucose (serum) & 132.44 & 43.49 & 0.00 & 103.00 & 123.00 & 150.00 & 322.00 \\\\\n",
      "Magnesium & 2.09 & 0.32 & 0.80 & 1.90 & 2.10 & 2.30 & 3.47 \\\\\n",
      "Sodium (serum) & 138.58 & 4.94 & 116.00 & 136.00 & 139.00 & 141.00 & 161.50 \\\\\n",
      "PH (Arterial) & 7.40 & 0.06 & 7.06 & 7.37 & 7.40 & 7.44 & 7.70 \\\\\n",
      "Inspired O2 Fraction & 49.80 & 15.23 & 0.00 & 40.00 & 48.10 & 56.67 & 1790.00 \\\\\n",
      "Arterial Base Excess & 0.77 & 3.92 & -19.75 & -1.00 & 0.33 & 2.67 & 20.00 \\\\\n",
      "BUN & 28.72 & 22.12 & 1.00 & 14.00 & 21.00 & 36.40 & 127.00 \\\\\n",
      "Ionized Calcium & 1.13 & 0.07 & 0.77 & 1.09 & 1.12 & 1.16 & 1.47 \\\\\n",
      "Total Bilirubin & 1.14 & 1.36 & 0.00 & 0.44 & 0.70 & 1.20 & 9.60 \\\\\n",
      "Glucose (whole blood) & 135.72 & 31.72 & 0.00 & 115.80 & 131.50 & 150.00 & 308.00 \\\\\n",
      "Potassium (serum) & 4.09 & 0.53 & 1.70 & 3.70 & 4.00 & 4.40 & 6.50 \\\\\n",
      "HCO3 (serum) & 24.73 & 4.84 & 3.33 & 22.00 & 24.00 & 27.00 & 45.00 \\\\\n",
      "Platelet Count & 205.33 & 112.48 & 0.00 & 128.00 & 186.00 & 260.00 & 703.00 \\\\\n",
      "Prothrombin time & 15.15 & 4.07 & 7.20 & 12.60 & 14.00 & 16.20 & 32.80 \\\\\n",
      "PTT & 36.98 & 15.30 & 0.00 & 27.90 & 31.70 & 39.50 & 123.50 \\\\\n",
      "INR & 1.37 & 0.37 & 0.50 & 1.10 & 1.30 & 1.50 & 2.80 \\\\\n",
      "Blood Pressure Systolic & 119.13 & 18.70 & 30.00 & 105.83 & 117.00 & 130.83 & 205.00 \\\\\n",
      "Blood Pressure Diastolic & 63.19 & 12.36 & 6.00 & 54.60 & 62.08 & 70.77 & 119.00 \\\\\n",
      "Blood Pressure Mean & 78.71 & 12.66 & 20.40 & 70.00 & 77.25 & 86.33 & 135.17 \\\\\n",
      "Temperature C & 36.86 & 0.50 & 34.91 & 36.58 & 36.83 & 37.11 & 38.88 \\\\\n",
      "SaO2 & 96.58 & 2.19 & 85.75 & 95.17 & 96.75 & 98.17 & 107.75 \\\\\n",
      "GCS score & 12.86 & 3.19 & 3.00 & 11.00 & 14.88 & 15.00 & 15.00 \\\\\n",
      "Respiratory Rate & 14.99 & 7.23 & 0.00 & 9.67 & 15.00 & 19.90 & 79.00 \\\\\n",
      "Tidal Volume & 0.00 & 0.00 & 0.00 & 0.00 & 0.00 & 0.00 & 0.00 \\\\\n",
      "readmission_count & 0.53 & 0.95 & 0.00 & 0.00 & 0.00 & 1.00 & 5.00 \\\\\n",
      "\\bottomrule\n",
      "\\end{tabular}\n",
      "\\end{table}\n",
      "\n"
     ]
    }
   ],
   "source": [
    "summary_stats = rl_table_train.describe().T\n",
    "\n",
    "summary_stats.insert(0, \"Category\", \"Clinical Information\")\n",
    "\n",
    "latex_table = summary_stats.to_latex(\n",
    "    index = True,\n",
    "    columns = [\"mean\", \"std\", \"min\", \"25%\", \"50%\", \"75%\", \"max\"],\n",
    "    header = [\"Mean\", \"SD\", \"Min\", \"Q1\", \"Q2\", \"Q3\", \"Max\"],\n",
    "    float_format = \"%.2f\",  \n",
    "    column_format = \"llcccc\",  \n",
    "    caption = \"Summary statistics of the study samples.\",\n",
    "    label = \"tab:summary_stats\",\n",
    "    longtable = False,\n",
    "    escape = False  \n",
    ")\n",
    "\n",
    "print(latex_table)"
   ]
  },
  {
   "cell_type": "code",
   "execution_count": null,
   "metadata": {},
   "outputs": [],
   "source": []
  },
  {
   "cell_type": "code",
   "execution_count": null,
   "metadata": {},
   "outputs": [],
   "source": []
  },
  {
   "cell_type": "code",
   "execution_count": null,
   "metadata": {},
   "outputs": [],
   "source": []
  },
  {
   "cell_type": "code",
   "execution_count": 13,
   "metadata": {},
   "outputs": [
    {
     "data": {
      "text/plain": [
       "Counter({0.0: 269319,\n",
       "         1.0: 74313,\n",
       "         2.0: 28684,\n",
       "         3.0: 13380,\n",
       "         4.0: 5599,\n",
       "         5.0: 2561})"
      ]
     },
     "execution_count": 13,
     "metadata": {},
     "output_type": "execute_result"
    }
   ],
   "source": [
    "Counter(rl_table_train_scaled['readmission_count'])"
   ]
  },
  {
   "cell_type": "markdown",
   "metadata": {},
   "source": [
    "- Threshold settings for length-of-stay in ICU"
   ]
  },
  {
   "cell_type": "code",
   "execution_count": 14,
   "metadata": {},
   "outputs": [],
   "source": [
    "id_table_train_first_epoch = id_table_train[id_table_train['epoch'] == 1].copy()\n",
    "id_table_train_last_epoch = id_table_train[id_table_train['discharge_action'] == 1].copy()"
   ]
  },
  {
   "cell_type": "code",
   "execution_count": 15,
   "metadata": {},
   "outputs": [],
   "source": [
    "id_table_val_first_epoch = id_table_val[id_table_val['epoch'] == 1].copy()\n",
    "id_table_val_last_epoch = id_table_val[id_table_val['discharge_action'] == 1].copy()"
   ]
  },
  {
   "cell_type": "code",
   "execution_count": 16,
   "metadata": {},
   "outputs": [],
   "source": [
    "id_table_test_first_epoch = id_table_test[id_table_test['epoch'] == 1].copy()\n",
    "id_table_test_last_epoch = id_table_test[id_table_test['discharge_action'] == 1].copy()"
   ]
  },
  {
   "cell_type": "code",
   "execution_count": 17,
   "metadata": {},
   "outputs": [],
   "source": [
    "patient_list_train = pd.unique(id_table_train_first_epoch['subject_id'])\n",
    "patient_list_val = pd.unique(id_table_val_first_epoch['subject_id'])\n",
    "patient_list_test = pd.unique(id_table_test_first_epoch['subject_id'])"
   ]
  },
  {
   "cell_type": "code",
   "execution_count": 18,
   "metadata": {},
   "outputs": [],
   "source": [
    "stayid_list_train = pd.unique(id_table_train_first_epoch['stay_id'])\n",
    "stayid_list_val = pd.unique(id_table_val_first_epoch['stay_id'])\n",
    "stayid_list_test = pd.unique(id_table_test_first_epoch['stay_id']) "
   ]
  },
  {
   "cell_type": "code",
   "execution_count": 19,
   "metadata": {},
   "outputs": [
    {
     "data": {
      "text/plain": [
       "[39664, 4958, 4959]"
      ]
     },
     "execution_count": 19,
     "metadata": {},
     "output_type": "execute_result"
    }
   ],
   "source": [
    "[len(patient_list_train), len(patient_list_val), len(patient_list_test)]"
   ]
  },
  {
   "cell_type": "code",
   "execution_count": 20,
   "metadata": {},
   "outputs": [
    {
     "data": {
      "text/plain": [
       "49581"
      ]
     },
     "execution_count": 20,
     "metadata": {},
     "output_type": "execute_result"
    }
   ],
   "source": [
    "39664 + 4958 + 4959"
   ]
  },
  {
   "cell_type": "code",
   "execution_count": 21,
   "metadata": {},
   "outputs": [
    {
     "data": {
      "text/plain": [
       "[54905, 6880, 6868]"
      ]
     },
     "execution_count": 21,
     "metadata": {},
     "output_type": "execute_result"
    }
   ],
   "source": [
    "[len(stayid_list_train), len(stayid_list_val), len(stayid_list_test)]"
   ]
  },
  {
   "cell_type": "code",
   "execution_count": 22,
   "metadata": {},
   "outputs": [
    {
     "data": {
      "text/plain": [
       "68653"
      ]
     },
     "execution_count": 22,
     "metadata": {},
     "output_type": "execute_result"
    }
   ],
   "source": [
    "54905 + 6880 + 6868"
   ]
  },
  {
   "cell_type": "code",
   "execution_count": 23,
   "metadata": {},
   "outputs": [
    {
     "data": {
      "text/plain": [
       "Counter({0: 47865, 1: 5715, 2: 1012, 3: 233, 4: 60, 5: 20})"
      ]
     },
     "execution_count": 23,
     "metadata": {},
     "output_type": "execute_result"
    }
   ],
   "source": [
    "Counter(id_table_train_first_epoch['readmission_count'])"
   ]
  },
  {
   "cell_type": "code",
   "execution_count": 24,
   "metadata": {},
   "outputs": [
    {
     "data": {
      "text/plain": [
       "Counter({0: 5954, 1: 746, 2: 145, 3: 27, 4: 6, 5: 2})"
      ]
     },
     "execution_count": 24,
     "metadata": {},
     "output_type": "execute_result"
    }
   ],
   "source": [
    "Counter(id_table_val_first_epoch['readmission_count'])"
   ]
  },
  {
   "cell_type": "code",
   "execution_count": 25,
   "metadata": {},
   "outputs": [
    {
     "data": {
      "text/plain": [
       "Counter({0: 5996, 1: 715, 2: 122, 3: 23, 4: 9, 5: 3})"
      ]
     },
     "execution_count": 25,
     "metadata": {},
     "output_type": "execute_result"
    }
   ],
   "source": [
    "Counter(id_table_test_first_epoch['readmission_count'])"
   ]
  },
  {
   "cell_type": "code",
   "execution_count": 26,
   "metadata": {},
   "outputs": [
    {
     "data": {
      "text/plain": [
       "count    54905.000000\n",
       "mean         2.643148\n",
       "std          2.485884\n",
       "min          0.003345\n",
       "25%          1.075278\n",
       "50%          1.825891\n",
       "75%          3.170521\n",
       "max         14.994942\n",
       "Name: los, dtype: float64"
      ]
     },
     "execution_count": 26,
     "metadata": {},
     "output_type": "execute_result"
    }
   ],
   "source": [
    "id_table_train_first_epoch['los'].describe()"
   ]
  },
  {
   "cell_type": "code",
   "execution_count": 27,
   "metadata": {},
   "outputs": [
    {
     "data": {
      "text/plain": [
       "63.585432"
      ]
     },
     "execution_count": 27,
     "metadata": {},
     "output_type": "execute_result"
    }
   ],
   "source": [
    "2.649393 * 24"
   ]
  },
  {
   "cell_type": "code",
   "execution_count": 28,
   "metadata": {},
   "outputs": [
    {
     "data": {
      "image/png": "[encoded data removed]",
      "text/plain": [
       "<Figure size 1200x1000 with 1 Axes>"
      ]
     },
     "metadata": {},
     "output_type": "display_data"
    }
   ],
   "source": [
    "# Create DataFrames from your Counter objects\n",
    "train_data = pd.DataFrame({\n",
    "    'readmission_count': [0, 1, 2, 3, 4, 5],\n",
    "    'frequency': [47865, 5715, 1012, 233, 60, 20],\n",
    "    'dataset': 'Training'\n",
    "})\n",
    "\n",
    "val_data = pd.DataFrame({\n",
    "    'readmission_count': [0, 1, 2, 3, 4, 5],\n",
    "    'frequency': [5954, 746, 145, 27, 6, 2],\n",
    "    'dataset': 'Validation'\n",
    "})\n",
    "\n",
    "test_data = pd.DataFrame({\n",
    "    'readmission_count': [0, 1, 2, 3, 4, 5],\n",
    "    'frequency': [5996, 715, 122, 23, 9, 3],\n",
    "    'dataset': 'Testing'\n",
    "})\n",
    "\n",
    "# Combine the data\n",
    "combined_data = pd.concat([train_data, val_data, test_data])\n",
    "\n",
    "# Calculate percentages for each dataset\n",
    "for dataset in ['Training', 'Validation', 'Testing']:\n",
    "    dataset_total = combined_data[combined_data['dataset'] == dataset]['frequency'].sum()\n",
    "    combined_data.loc[combined_data['dataset'] == dataset, 'percentage'] = (\n",
    "        combined_data.loc[combined_data['dataset'] == dataset, 'frequency'] / dataset_total * 100\n",
    "    )\n",
    "\n",
    "# Set up the figure with a larger size for better readability\n",
    "plt.figure(figsize = (12, 10))\n",
    "\n",
    "# Create a custom color palette\n",
    "colors = sns.color_palette(\"viridis\", 2)\n",
    "\n",
    "# Create the grouped bar chart with percentages\n",
    "ax = sns.barplot(\n",
    "    x = 'readmission_count', \n",
    "    y = 'percentage', \n",
    "    hue = 'dataset',\n",
    "    data = combined_data,\n",
    "    palette = colors,\n",
    "    alpha = 0.8\n",
    ")\n",
    "\n",
    "# Add value labels on top of each bar\n",
    "for container in ax.containers:\n",
    "    ax.bar_label(container, fmt = '%.2f%%', fontsize = 8)\n",
    "\n",
    "# Add count annotations inside the bars\n",
    "for i, bar in enumerate(ax.patches):\n",
    "    if bar.get_height() > 3:  # Only annotate bars tall enough to fit text\n",
    "        count = combined_data.iloc[i]['frequency']\n",
    "        ax.text(\n",
    "            bar.get_x() + bar.get_width()/2,\n",
    "            bar.get_height()/2,\n",
    "            f'n = {count:,}',\n",
    "            ha = 'center',\n",
    "            va = 'center',\n",
    "            color = 'white',\n",
    "            fontsize = '6',\n",
    "            fontweight = 'bold'\n",
    "        )\n",
    "\n",
    "# Improve the labels and title\n",
    "plt.xlabel('Number of Readmissions', fontsize = 12, fontweight = 'bold')\n",
    "plt.ylabel('Percentage of ICU Admissions (%)', fontsize = 12, fontweight = 'bold')\n",
    "plt.title('Distribution of Readmission Counts in Training, Validation and Testing Sets', fontsize = 12, fontweight = 'bold', pad = 20)\n",
    "\n",
    "# Enhance the legend\n",
    "plt.legend(title = 'Dataset', fontsize = 12, title_fontsize = 13)\n",
    "\n",
    "# Add grid lines for easier reading\n",
    "plt.grid(axis = 'y', linestyle = '--', alpha = 0.3)\n",
    "\n",
    "# Improve the x-axis ticks\n",
    "plt.xticks(fontsize = 12)\n",
    "plt.yticks(fontsize = 12)\n",
    "\n",
    "# # Add a text annotation describing the distribution\n",
    "# total_train = train_data['frequency'].sum()\n",
    "# total_test = test_data['frequency'].sum()\n",
    "# plt.figtext(\n",
    "#     0.5, 0.01, \n",
    "#     f\"Training set: {total_train:,} patients | Test set: {total_test:,} patients\\n\"\n",
    "#     f\"Note: Both datasets show similar distribution patterns with majority of patients having 0 readmissions.\",\n",
    "#     ha='center', fontsize=11, style='italic'\n",
    "# )\n",
    "\n",
    "# Ensure the layout is clean\n",
    "plt.tight_layout()\n",
    "plt.subplots_adjust(bottom = 0.15)\n",
    "\n",
    "# Save the figure with high resolution if needed\n",
    "plt.savefig('../Experiment Figure/EDA_figures/distribution_of_readmission_counts.png', \n",
    "            dpi = 400, \n",
    "            bbox_inches = 'tight')\n",
    "\n",
    "# Show the plot\n",
    "plt.show()"
   ]
  },
  {
   "cell_type": "code",
   "execution_count": null,
   "metadata": {},
   "outputs": [],
   "source": []
  },
  {
   "cell_type": "code",
   "execution_count": null,
   "metadata": {},
   "outputs": [],
   "source": []
  },
  {
   "cell_type": "code",
   "execution_count": 29,
   "metadata": {},
   "outputs": [],
   "source": [
    "# id_table_train['total_los_costs'] = id_table_train.groupby('stay_id')['los_costs'].cumsum()\n",
    "# id_table_val['total_los_costs'] = id_table_val.groupby('stay_id')['los_costs'].cumsum()\n",
    "# id_table_test['total_los_costs'] = id_table_test.groupby('stay_id')['los_costs'].cumsum()"
   ]
  },
  {
   "cell_type": "code",
   "execution_count": 30,
   "metadata": {},
   "outputs": [
    {
     "data": {
      "text/plain": [
       "Index(['subject_id', 'hadm_id', 'stay_id', 'time', 'discharge_action', 'epoch',\n",
       "       'icu_starttime', 'icu_endtime', 'los', 'discharge_fail', 'readmission',\n",
       "       'readmission_count', 'death_in_ICU', 'death_out_ICU', 'qSOFA', 'death',\n",
       "       'mortality_costs', 'discharge_fail_costs', 'los_costs',\n",
       "       'los_costs_scaled', 'safe_action'],\n",
       "      dtype='object')"
      ]
     },
     "execution_count": 30,
     "metadata": {},
     "output_type": "execute_result"
    }
   ],
   "source": [
    "id_table_train.columns"
   ]
  },
  {
   "cell_type": "code",
   "execution_count": 31,
   "metadata": {},
   "outputs": [],
   "source": [
    "id_table_train['mortality_costs_md'] = id_table_train['mortality_costs'].copy()\n",
    "\n",
    "for i in range(len(id_table_train)):\n",
    "    if id_table_train['discharge_action'].iloc[i] == 1:\n",
    "        if id_table_train['death'].iloc[i] == 0:\n",
    "            id_table_train['mortality_costs_md'].iloc[i] = 0\n",
    "        else:\n",
    "            if id_table_train['discharge_fail'].iloc[i] == 1:\n",
    "                id_table_train['mortality_costs_md'].iloc[i] = 0\n",
    "            else:\n",
    "                id_table_train['mortality_costs_md'].iloc[i] = id_table_train['mortality_costs'].iloc[i]\n",
    "    else:\n",
    "        id_table_train['mortality_costs_md'].iloc[i] = id_table_train['mortality_costs'].iloc[i]"
   ]
  },
  {
   "cell_type": "code",
   "execution_count": 32,
   "metadata": {},
   "outputs": [],
   "source": [
    "id_table_val['mortality_costs_md'] = id_table_val['mortality_costs'].copy()\n",
    "\n",
    "for i in range(len(id_table_val)):\n",
    "    if id_table_val['discharge_action'].iloc[i] == 1:\n",
    "        if id_table_val['death'].iloc[i] == 0:\n",
    "            id_table_val['mortality_costs_md'].iloc[i] = 0\n",
    "        else:\n",
    "            if id_table_val['discharge_fail'].iloc[i] == 1:\n",
    "                id_table_val['mortality_costs_md'].iloc[i] = 0\n",
    "            else:\n",
    "                id_table_val['mortality_costs_md'].iloc[i] = id_table_val['mortality_costs'].iloc[i]\n",
    "    else:\n",
    "        id_table_val['mortality_costs_md'].iloc[i] = id_table_val['mortality_costs'].iloc[i]"
   ]
  },
  {
   "cell_type": "code",
   "execution_count": 33,
   "metadata": {},
   "outputs": [],
   "source": [
    "id_table_test['mortality_costs_md'] = id_table_test['mortality_costs'].copy()\n",
    "\n",
    "for i in range(len(id_table_test)):\n",
    "    if id_table_test['discharge_action'].iloc[i] == 1:\n",
    "        if id_table_test['death'].iloc[i] == 0:\n",
    "            id_table_test['mortality_costs_md'].iloc[i] = 0\n",
    "        else:\n",
    "            if id_table_test['discharge_fail'].iloc[i] == 1:\n",
    "                id_table_test['mortality_costs_md'].iloc[i] = 0\n",
    "            else:\n",
    "                id_table_test['mortality_costs_md'].iloc[i] = id_table_test['mortality_costs'].iloc[i]\n",
    "    else:\n",
    "        id_table_test['mortality_costs_md'].iloc[i] = id_table_test['mortality_costs'].iloc[i]"
   ]
  },
  {
   "cell_type": "code",
   "execution_count": 34,
   "metadata": {
    "jupyter": {
     "source_hidden": true
    }
   },
   "outputs": [],
   "source": [
    "# # Create a copy of the 'mortality_costs' column\n",
    "# id_table_train['mortality_costs_md'] = id_table_train['mortality_costs'].copy()\n",
    "\n",
    "# # Apply the conditions using vectorized operations\n",
    "# discharge_action_mask = id_table_train['discharge_action'] == 1\n",
    "# death_mask = id_table_train['death'] == 0\n",
    "# discharge_fail_mask = id_table_train['discharge_fail'] == 1\n",
    "\n",
    "# # Update 'mortality_costs_md' based on the conditions\n",
    "# id_table_train.loc[discharge_action_mask & death_mask, 'mortality_costs_md'] = 0\n",
    "# id_table_train.loc[discharge_action_mask & ~death_mask & discharge_fail_mask, 'mortality_costs_md'] = 0"
   ]
  },
  {
   "cell_type": "code",
   "execution_count": null,
   "metadata": {},
   "outputs": [],
   "source": []
  },
  {
   "cell_type": "code",
   "execution_count": 35,
   "metadata": {
    "scrolled": true
   },
   "outputs": [],
   "source": [
    "# id_table_train[['subject_id', 'stay_id', 'epoch', 'los_costs', 'total_los_costs']].head(50)"
   ]
  },
  {
   "cell_type": "code",
   "execution_count": 36,
   "metadata": {},
   "outputs": [],
   "source": [
    "id_table_train['total_los_costs'] = id_table_train['los_costs'].copy()\n",
    "\n",
    "for i in range(len(patient_list_train)):\n",
    "    sub_table = id_table_train[id_table_train['subject_id'] == patient_list_train[i]].copy()\n",
    "\n",
    "    cumulative_los = 0\n",
    "    \n",
    "    for j in reversed(range(len(sub_table))):\n",
    "        if sub_table['readmission'].iloc[j] == 1:\n",
    "            cumulative_los += sub_table['los_costs'].iloc[j]\n",
    "            sub_table['total_los_costs'].iloc[j] = cumulative_los\n",
    "                    \n",
    "        else:\n",
    "            cumulative_los += sub_table['los_costs'].iloc[j]\n",
    "            sub_table['total_los_costs'].iloc[j] = cumulative_los\n",
    "            if sub_table['epoch'].iloc[j] == 1:\n",
    "                cumulative_los = 0\n",
    "    \n",
    "    index_list = sub_table.index\n",
    "    id_table_train.loc[index_list, 'total_los_costs'] = sub_table['total_los_costs']"
   ]
  },
  {
   "cell_type": "code",
   "execution_count": 37,
   "metadata": {
    "jupyter": {
     "source_hidden": true
    }
   },
   "outputs": [],
   "source": [
    "# id_table_train['total_los_costs_scaled'] = id_table_train['los_costs_scaled'].copy()\n",
    "\n",
    "# for i in range(len(patient_list_train)):\n",
    "#     sub_table = id_table_train[id_table_train['subject_id'] == patient_list_train[i]].copy()\n",
    "\n",
    "#     cumulative_los = 0\n",
    "    \n",
    "#     for j in reversed(range(len(sub_table))):\n",
    "#         if sub_table['readmission'].iloc[j] == 1:\n",
    "#             cumulative_los += sub_table['los_costs_scaled'].iloc[j]\n",
    "#             sub_table['total_los_costs_scaled'].iloc[j] = cumulative_los\n",
    "#         else:\n",
    "#             cumulative_los += sub_table['los_costs_scaled'].iloc[j]\n",
    "#             sub_table['total_los_costs_scaled'].iloc[j] = cumulative_los\n",
    "#             if sub_table['epoch'].iloc[j] == 1:\n",
    "#                 cumulative_los = 0\n",
    "    \n",
    "#     index_list = sub_table.index\n",
    "#     id_table_train.loc[index_list, 'total_los_costs_scaled'] = sub_table['total_los_costs_scaled']"
   ]
  },
  {
   "cell_type": "code",
   "execution_count": 38,
   "metadata": {},
   "outputs": [],
   "source": [
    "id_table_val['total_los_costs'] = id_table_val['los_costs'].copy()\n",
    "\n",
    "for i in range(len(patient_list_val)):\n",
    "    sub_table = id_table_val[id_table_val['subject_id'] == patient_list_val[i]].copy()\n",
    "\n",
    "    cumulative_los = 0\n",
    "    \n",
    "    for j in reversed(range(len(sub_table))):\n",
    "        if sub_table['readmission'].iloc[j] == 1:\n",
    "            cumulative_los += sub_table['los_costs'].iloc[j]\n",
    "            sub_table['total_los_costs'].iloc[j] = cumulative_los\n",
    "        else:\n",
    "            cumulative_los += sub_table['los_costs'].iloc[j]\n",
    "            sub_table['total_los_costs'].iloc[j] = cumulative_los\n",
    "            if sub_table['epoch'].iloc[j] == 1:\n",
    "                cumulative_los = 0\n",
    "    \n",
    "    index_list = sub_table.index\n",
    "    id_table_val.loc[index_list, 'total_los_costs'] = sub_table['total_los_costs']"
   ]
  },
  {
   "cell_type": "code",
   "execution_count": 39,
   "metadata": {
    "jupyter": {
     "source_hidden": true
    }
   },
   "outputs": [],
   "source": [
    "# id_table_val['total_los_costs_scaled'] = id_table_val['los_costs_scaled'].copy()\n",
    "\n",
    "# for i in range(len(patient_list_val)):\n",
    "#     sub_table = id_table_val[id_table_val['subject_id'] == patient_list_val[i]].copy()\n",
    "\n",
    "#     cumulative_los = 0\n",
    "    \n",
    "#     for j in reversed(range(len(sub_table))):\n",
    "#         if sub_table['readmission'].iloc[j] == 1:\n",
    "#             cumulative_los += sub_table['los_costs_scaled'].iloc[j]\n",
    "#             sub_table['total_los_costs_scaled'].iloc[j] = cumulative_los\n",
    "#         else:\n",
    "#             cumulative_los += sub_table['los_costs_scaled'].iloc[j]\n",
    "#             sub_table['total_los_costs_scaled'].iloc[j] = cumulative_los\n",
    "#             if sub_table['epoch'].iloc[j] == 1:\n",
    "#                 cumulative_los = 0\n",
    "    \n",
    "#     index_list = sub_table.index\n",
    "#     id_table_val.loc[index_list, 'total_los_costs_scaled'] = sub_table['total_los_costs_scaled']"
   ]
  },
  {
   "cell_type": "code",
   "execution_count": 40,
   "metadata": {},
   "outputs": [],
   "source": [
    "id_table_test['total_los_costs'] = id_table_test['los_costs'].copy()\n",
    "\n",
    "for i in range(len(patient_list_test)):\n",
    "    sub_table = id_table_test[id_table_test['subject_id'] == patient_list_test[i]].copy()\n",
    "\n",
    "    cumulative_los = 0\n",
    "    \n",
    "    for j in reversed(range(len(sub_table))):\n",
    "        if sub_table['readmission'].iloc[j] == 1:\n",
    "            cumulative_los += sub_table['los_costs'].iloc[j]\n",
    "            sub_table['total_los_costs'].iloc[j] = cumulative_los\n",
    "        else:\n",
    "            cumulative_los += sub_table['los_costs'].iloc[j]\n",
    "            sub_table['total_los_costs'].iloc[j] = cumulative_los\n",
    "            if sub_table['epoch'].iloc[j] == 1:\n",
    "                cumulative_los = 0\n",
    "    \n",
    "    index_list = sub_table.index\n",
    "    id_table_test.loc[index_list, 'total_los_costs'] = sub_table['total_los_costs']"
   ]
  },
  {
   "cell_type": "code",
   "execution_count": 41,
   "metadata": {
    "jupyter": {
     "source_hidden": true
    }
   },
   "outputs": [],
   "source": [
    "# id_table_test['total_los_costs_scaled'] = id_table_test['los_costs_scaled'].copy()\n",
    "\n",
    "# for i in range(len(patient_list_test)):\n",
    "#     sub_table = id_table_test[id_table_test['subject_id'] == patient_list_test[i]].copy()\n",
    "\n",
    "#     cumulative_los = 0\n",
    "    \n",
    "#     for j in reversed(range(len(sub_table))):\n",
    "#         if sub_table['readmission'].iloc[j] == 1:\n",
    "#             cumulative_los += sub_table['los_costs_scaled'].iloc[j]\n",
    "#             sub_table['total_los_costs_scaled'].iloc[j] = cumulative_los\n",
    "#         else:\n",
    "#             cumulative_los += sub_table['los_costs_scaled'].iloc[j]\n",
    "#             sub_table['total_los_costs_scaled'].iloc[j] = cumulative_los\n",
    "#             if sub_table['epoch'].iloc[j] == 1:\n",
    "#                 cumulative_los = 0\n",
    "    \n",
    "#     index_list = sub_table.index\n",
    "#     id_table_test.loc[index_list, 'total_los_costs_scaled'] = sub_table['total_los_costs_scaled']"
   ]
  },
  {
   "cell_type": "code",
   "execution_count": null,
   "metadata": {},
   "outputs": [],
   "source": []
  },
  {
   "cell_type": "code",
   "execution_count": 42,
   "metadata": {},
   "outputs": [],
   "source": [
    "id_table_train_first_epoch = id_table_train[id_table_train['epoch'] == 1].copy()\n",
    "id_table_train_last_epoch = id_table_train[id_table_train['discharge_action'] == 1].copy()\n",
    "\n",
    "id_table_val_first_epoch = id_table_val[id_table_val['epoch'] == 1].copy()\n",
    "id_table_val_last_epoch = id_table_val[id_table_val['discharge_action'] == 1].copy()\n",
    "\n",
    "id_table_test_first_epoch = id_table_test[id_table_test['epoch'] == 1].copy()\n",
    "id_table_test_last_epoch = id_table_test[id_table_test['discharge_action'] == 1].copy()"
   ]
  },
  {
   "cell_type": "code",
   "execution_count": null,
   "metadata": {},
   "outputs": [],
   "source": []
  },
  {
   "cell_type": "code",
   "execution_count": 43,
   "metadata": {},
   "outputs": [],
   "source": [
    "id_table_train_first_epoch['total_los'] = id_table_train_first_epoch['los'].copy()\n",
    "\n",
    "for i in range(len(patient_list_train)):\n",
    "    sub_table = id_table_train_first_epoch[id_table_train_first_epoch['subject_id'] == patient_list_train[i]].copy()\n",
    "    if len(sub_table) > 1:\n",
    "        cumulative_los = 0\n",
    "        for j in reversed(range(len(sub_table))):\n",
    "            if sub_table['readmission'].iloc[j] == 1:\n",
    "                cumulative_los += sub_table['los'].iloc[j]\n",
    "                sub_table['total_los'].iloc[j] = cumulative_los\n",
    "            else:\n",
    "                cumulative_los += sub_table['los'].iloc[j]\n",
    "                sub_table['total_los'].iloc[j] = cumulative_los\n",
    "                cumulative_los = 0\n",
    "        \n",
    "        index_list = sub_table.index\n",
    "        id_table_train_first_epoch.loc[index_list, 'total_los'] = sub_table['total_los']"
   ]
  },
  {
   "cell_type": "code",
   "execution_count": 44,
   "metadata": {
    "jupyter": {
     "source_hidden": true
    }
   },
   "outputs": [],
   "source": [
    "# id_table_train_last_epoch['total_los'] = id_table_train_last_epoch['total_los_costs'].copy()\n",
    "\n",
    "# for i in range(len(patient_list_train)):\n",
    "#     sub_table = id_table_train_last_epoch[id_table_train_last_epoch['subject_id'] == patient_list_train[i]].copy()\n",
    "#     if len(sub_table) > 1:\n",
    "#         cumulative_los = 0\n",
    "#         for j in reversed(range(len(sub_table))):\n",
    "#             if sub_table['readmission'].iloc[j] == 1:\n",
    "#                 if sub_table['death'].iloc[j] == 0:\n",
    "#                     cumulative_los += sub_table['total_los_costs'].iloc[j]\n",
    "#                     sub_table['total_los'].iloc[j] = cumulative_los\n",
    "#                 else:\n",
    "#                     sub_table['total_los'].iloc[j] = sub_table['total_los_costs'].iloc[j]\n",
    "#                     cumulative_los = sub_table['total_los_costs'].iloc[j]\n",
    "#             else:\n",
    "#                 if sub_table['death'].iloc[j] == 0:\n",
    "#                     cumulative_los += sub_table['total_los_costs'].iloc[j]\n",
    "#                     sub_table['total_los'].iloc[j] = cumulative_los\n",
    "#                     cumulative_los = 0\n",
    "#                 else:\n",
    "#                     sub_table['total_los'].iloc[j] = sub_table['total_los_costs'].iloc[j]\n",
    "#                     cumulative_los = 0\n",
    "        \n",
    "#         index_list = sub_table.index\n",
    "#         id_table_train_last_epoch.loc[index_list, 'total_los'] = sub_table['total_los']       "
   ]
  },
  {
   "cell_type": "code",
   "execution_count": 45,
   "metadata": {},
   "outputs": [],
   "source": [
    "id_table_train_last_epoch['total_mr'] = id_table_train_last_epoch['mortality_costs_md'].copy()\n",
    "\n",
    "for i in range(len(patient_list_train)):\n",
    "    sub_table = id_table_train_last_epoch[id_table_train_last_epoch['subject_id'] == patient_list_train[i]].copy()\n",
    "    if len(sub_table) > 1:\n",
    "        cumulative_mr = 0\n",
    "        for j in reversed(range(len(sub_table))):\n",
    "            if sub_table['readmission'].iloc[j] == 1:\n",
    "                cumulative_mr += sub_table['mortality_costs_md'].iloc[j]\n",
    "                sub_table['total_mr'].iloc[j] = cumulative_mr\n",
    "            else:\n",
    "                cumulative_mr += sub_table['mortality_costs_md'].iloc[j]\n",
    "                sub_table['total_mr'].iloc[j] = cumulative_mr\n",
    "                cumulative_mr = 0\n",
    "        \n",
    "        index_list = sub_table.index\n",
    "        id_table_train_last_epoch.loc[index_list, 'total_mr'] = sub_table['total_mr']"
   ]
  },
  {
   "cell_type": "code",
   "execution_count": 46,
   "metadata": {
    "jupyter": {
     "source_hidden": true
    }
   },
   "outputs": [],
   "source": [
    "# id_table_train_last_epoch['total_mr'] = id_table_train_last_epoch['mortality_costs'].copy()\n",
    "\n",
    "# for i in range(len(patient_list_train)):\n",
    "#     sub_table = id_table_train_last_epoch[id_table_train_last_epoch['subject_id'] == patient_list_train[i]].copy()\n",
    "#     if len(sub_table) > 1:\n",
    "#         cumulative_mr = 0\n",
    "#         for j in reversed(range(len(sub_table))):\n",
    "#             if sub_table['readmission'].iloc[j] == 1:\n",
    "#                 if sub_table['death'].iloc[j] == 0:\n",
    "#                     cumulative_mr += sub_table['mortality_costs'].iloc[j]\n",
    "#                     sub_table['total_mr'].iloc[j] = cumulative_mr\n",
    "#                 else:\n",
    "#                     sub_table['total_mr'].iloc[j] = sub_table['mortality_costs'].iloc[j]\n",
    "#                     cumulative_mr = sub_table['mortality_costs'].iloc[j]\n",
    "#             else:\n",
    "#                 if sub_table['death'].iloc[j] == 0:\n",
    "#                     cumulative_mr += sub_table['mortality_costs'].iloc[j]\n",
    "#                     sub_table['total_mr'].iloc[j] = cumulative_mr\n",
    "#                     cumulative_mr = 0\n",
    "#                 else:\n",
    "#                     sub_table['total_mr'].iloc[j] = sub_table['mortality_costs'].iloc[j]\n",
    "#                     cumulative_mr = 0\n",
    "        \n",
    "#         index_list = sub_table.index\n",
    "#         id_table_train_last_epoch.loc[index_list, 'total_mr'] = sub_table['total_mr']       "
   ]
  },
  {
   "cell_type": "code",
   "execution_count": 47,
   "metadata": {},
   "outputs": [],
   "source": [
    "id_table_train_last_epoch['total_rr'] = id_table_train_last_epoch['discharge_fail_costs'].copy()\n",
    "\n",
    "for i in range(len(patient_list_train)):\n",
    "    sub_table = id_table_train_last_epoch[id_table_train_last_epoch['subject_id'] == patient_list_train[i]].copy()\n",
    "    if len(sub_table) > 1:\n",
    "        cumulative_rr = 0\n",
    "        for j in reversed(range(len(sub_table))):\n",
    "            if sub_table['readmission'].iloc[j] == 1:\n",
    "                cumulative_rr += sub_table['discharge_fail_costs'].iloc[j]\n",
    "                sub_table['total_rr'].iloc[j] = cumulative_rr\n",
    "            else:\n",
    "                cumulative_rr += sub_table['discharge_fail_costs'].iloc[j]\n",
    "                sub_table['total_rr'].iloc[j] = cumulative_rr\n",
    "                cumulative_rr = 0\n",
    "        \n",
    "        index_list = sub_table.index\n",
    "        id_table_train_last_epoch.loc[index_list, 'total_rr'] = sub_table['total_rr']"
   ]
  },
  {
   "cell_type": "code",
   "execution_count": 48,
   "metadata": {
    "jupyter": {
     "source_hidden": true
    }
   },
   "outputs": [],
   "source": [
    "# id_table_train_last_epoch['total_rr'] = id_table_train_last_epoch['discharge_fail_costs'].copy()\n",
    "\n",
    "# for i in range(len(patient_list_train)):\n",
    "#     sub_table = id_table_train_last_epoch[id_table_train_last_epoch['subject_id'] == patient_list_train[i]].copy()\n",
    "#     if len(sub_table) > 1:\n",
    "#         cumulative_rr = 0\n",
    "#         for j in reversed(range(len(sub_table))):\n",
    "#             if sub_table['readmission'].iloc[j] == 1:\n",
    "#                 if sub_table['death'].iloc[j] == 0:\n",
    "#                     cumulative_rr += sub_table['discharge_fail_costs'].iloc[j]\n",
    "#                     sub_table['total_rr'].iloc[j] = cumulative_rr\n",
    "#                 else:\n",
    "#                     sub_table['total_rr'].iloc[j] = sub_table['discharge_fail_costs'].iloc[j]\n",
    "#                     cumulative_rr = sub_table['discharge_fail_costs'].iloc[j]\n",
    "#             else:\n",
    "#                 if sub_table['death'].iloc[j] == 0:\n",
    "#                     cumulative_rr += sub_table['discharge_fail_costs'].iloc[j]\n",
    "#                     sub_table['total_rr'].iloc[j] = cumulative_rr\n",
    "#                     cumulative_rr = 0\n",
    "#                 else:\n",
    "#                     sub_table['total_rr'].iloc[j] = sub_table['discharge_fail_costs'].iloc[j]\n",
    "#                     cumulative_rr = 0\n",
    "        \n",
    "#         index_list = sub_table.index\n",
    "#         id_table_train_last_epoch.loc[index_list, 'total_rr'] = sub_table['total_rr']       "
   ]
  },
  {
   "cell_type": "code",
   "execution_count": null,
   "metadata": {},
   "outputs": [],
   "source": []
  },
  {
   "cell_type": "code",
   "execution_count": 49,
   "metadata": {},
   "outputs": [],
   "source": [
    "id_table_val_first_epoch['total_los'] = id_table_val_first_epoch['los'].copy()\n",
    "\n",
    "for i in range(len(patient_list_val)):\n",
    "    sub_table = id_table_val_first_epoch[id_table_val_first_epoch['subject_id'] == patient_list_val[i]].copy()\n",
    "    if len(sub_table) > 1:\n",
    "        cumulative_los = 0\n",
    "        for j in reversed(range(len(sub_table))):\n",
    "            if sub_table['readmission'].iloc[j] == 1:\n",
    "                cumulative_los += sub_table['los'].iloc[j]\n",
    "                sub_table['total_los'].iloc[j] = cumulative_los\n",
    "            else:\n",
    "                cumulative_los += sub_table['los'].iloc[j]\n",
    "                sub_table['total_los'].iloc[j] = cumulative_los\n",
    "                cumulative_los = 0\n",
    "        \n",
    "        index_list = sub_table.index\n",
    "        id_table_val_first_epoch.loc[index_list, 'total_los'] = sub_table['total_los']"
   ]
  },
  {
   "cell_type": "code",
   "execution_count": 50,
   "metadata": {
    "jupyter": {
     "source_hidden": true
    }
   },
   "outputs": [],
   "source": [
    "# id_table_val_last_epoch['total_los'] = id_table_val_last_epoch['total_los_costs'].copy()\n",
    "\n",
    "# for i in range(len(patient_list_val)):\n",
    "#     sub_table = id_table_val_last_epoch[id_table_val_last_epoch['subject_id'] == patient_list_val[i]].copy()\n",
    "#     if len(sub_table) > 1:\n",
    "#         cumulative_los = 0\n",
    "#         for j in reversed(range(len(sub_table))):\n",
    "#             if sub_table['readmission'].iloc[j] == 1:\n",
    "#                 if sub_table['death'].iloc[j] == 0:\n",
    "#                     cumulative_los += sub_table['total_los_costs'].iloc[j]\n",
    "#                     sub_table['total_los'].iloc[j] = cumulative_los\n",
    "#                 else:\n",
    "#                     sub_table['total_los'].iloc[j] = sub_table['total_los_costs'].iloc[j]\n",
    "#                     cumulative_los = sub_table['total_los_costs'].iloc[j]\n",
    "#             else:\n",
    "#                 if sub_table['death'].iloc[j] == 0:\n",
    "#                     cumulative_los += sub_table['total_los_costs'].iloc[j]\n",
    "#                     sub_table['total_los'].iloc[j] = cumulative_los\n",
    "#                     cumulative_los = 0\n",
    "#                 else:\n",
    "#                     sub_table['total_los'].iloc[j] = sub_table['total_los_costs'].iloc[j]\n",
    "#                     cumulative_los = 0\n",
    "        \n",
    "#         index_list = sub_table.index\n",
    "#         id_table_val_last_epoch.loc[index_list, 'total_los'] = sub_table['total_los']       "
   ]
  },
  {
   "cell_type": "code",
   "execution_count": 51,
   "metadata": {},
   "outputs": [],
   "source": [
    "id_table_val_last_epoch['total_mr'] = id_table_val_last_epoch['mortality_costs_md'].copy()\n",
    "\n",
    "for i in range(len(patient_list_val)):\n",
    "    sub_table = id_table_val_last_epoch[id_table_val_last_epoch['subject_id'] == patient_list_val[i]].copy()\n",
    "    if len(sub_table) > 1:\n",
    "        cumulative_mr = 0\n",
    "        for j in reversed(range(len(sub_table))):\n",
    "            if sub_table['readmission'].iloc[j] == 1:\n",
    "                cumulative_mr += sub_table['mortality_costs_md'].iloc[j]\n",
    "                sub_table['total_mr'].iloc[j] = cumulative_mr\n",
    "            else:\n",
    "                cumulative_mr += sub_table['mortality_costs_md'].iloc[j]\n",
    "                sub_table['total_mr'].iloc[j] = cumulative_mr\n",
    "                cumulative_mr = 0\n",
    "        \n",
    "        index_list = sub_table.index\n",
    "        id_table_val_last_epoch.loc[index_list, 'total_mr'] = sub_table['total_mr']"
   ]
  },
  {
   "cell_type": "code",
   "execution_count": 52,
   "metadata": {
    "jupyter": {
     "source_hidden": true
    }
   },
   "outputs": [],
   "source": [
    "# id_table_val_last_epoch['total_mr'] = id_table_val_last_epoch['mortality_costs'].copy()\n",
    "\n",
    "# for i in range(len(patient_list_val)):\n",
    "#     sub_table = id_table_val_last_epoch[id_table_val_last_epoch['subject_id'] == patient_list_val[i]].copy()\n",
    "#     if len(sub_table) > 1:\n",
    "#         cumulative_mr = 0\n",
    "#         for j in reversed(range(len(sub_table))):\n",
    "#             if sub_table['readmission'].iloc[j] == 1:\n",
    "#                 if sub_table['death'].iloc[j] == 0:\n",
    "#                     cumulative_mr += sub_table['mortality_costs'].iloc[j]\n",
    "#                     sub_table['total_mr'].iloc[j] = cumulative_mr\n",
    "#                 else:\n",
    "#                     sub_table['total_mr'].iloc[j] = sub_table['mortality_costs'].iloc[j]\n",
    "#                     cumulative_mr = sub_table['mortality_costs'].iloc[j]\n",
    "#             else:\n",
    "#                 if sub_table['death'].iloc[j] == 0:\n",
    "#                     cumulative_mr += sub_table['mortality_costs'].iloc[j]\n",
    "#                     sub_table['total_mr'].iloc[j] = cumulative_mr\n",
    "#                     cumulative_mr = 0\n",
    "#                 else:\n",
    "#                     sub_table['total_mr'].iloc[j] = sub_table['mortality_costs'].iloc[j]\n",
    "#                     cumulative_mr = 0\n",
    "        \n",
    "#         index_list = sub_table.index\n",
    "#         id_table_val_last_epoch.loc[index_list, 'total_mr'] = sub_table['total_mr']       "
   ]
  },
  {
   "cell_type": "code",
   "execution_count": 53,
   "metadata": {},
   "outputs": [],
   "source": [
    "id_table_val_last_epoch['total_rr'] = id_table_val_last_epoch['discharge_fail_costs'].copy()\n",
    "\n",
    "for i in range(len(patient_list_val)):\n",
    "    sub_table = id_table_val_last_epoch[id_table_val_last_epoch['subject_id'] == patient_list_val[i]].copy()\n",
    "    if len(sub_table) > 1:\n",
    "        cumulative_rr = 0\n",
    "        for j in reversed(range(len(sub_table))):\n",
    "            if sub_table['readmission'].iloc[j] == 1:\n",
    "                cumulative_rr += sub_table['discharge_fail_costs'].iloc[j]\n",
    "                sub_table['total_rr'].iloc[j] = cumulative_rr\n",
    "            else:\n",
    "                cumulative_rr += sub_table['discharge_fail_costs'].iloc[j]\n",
    "                sub_table['total_rr'].iloc[j] = cumulative_rr\n",
    "                cumulative_rr = 0\n",
    "        \n",
    "        index_list = sub_table.index\n",
    "        id_table_val_last_epoch.loc[index_list, 'total_rr'] = sub_table['total_rr']"
   ]
  },
  {
   "cell_type": "code",
   "execution_count": 54,
   "metadata": {
    "jupyter": {
     "source_hidden": true
    }
   },
   "outputs": [],
   "source": [
    "# id_table_val_last_epoch['total_rr'] = id_table_val_last_epoch['discharge_fail_costs'].copy()\n",
    "\n",
    "# for i in range(len(patient_list_val)):\n",
    "#     sub_table = id_table_val_last_epoch[id_table_val_last_epoch['subject_id'] == patient_list_val[i]].copy()\n",
    "#     if len(sub_table) > 1:\n",
    "#         cumulative_rr = 0\n",
    "#         for j in reversed(range(len(sub_table))):\n",
    "#             if sub_table['readmission'].iloc[j] == 1:\n",
    "#                 if sub_table['death'].iloc[j] == 0:\n",
    "#                     cumulative_rr += sub_table['discharge_fail_costs'].iloc[j]\n",
    "#                     sub_table['total_rr'].iloc[j] = cumulative_rr\n",
    "#                 else:\n",
    "#                     sub_table['total_rr'].iloc[j] = sub_table['discharge_fail_costs'].iloc[j]\n",
    "#                     cumulative_rr = sub_table['discharge_fail_costs'].iloc[j]\n",
    "#             else:\n",
    "#                 if sub_table['death'].iloc[j] == 0:\n",
    "#                     cumulative_rr += sub_table['discharge_fail_costs'].iloc[j]\n",
    "#                     sub_table['total_rr'].iloc[j] = cumulative_rr\n",
    "#                     cumulative_rr = 0\n",
    "#                 else:\n",
    "#                     sub_table['total_rr'].iloc[j] = sub_table['discharge_fail_costs'].iloc[j]\n",
    "#                     cumulative_rr = 0\n",
    "        \n",
    "#         index_list = sub_table.index\n",
    "#         id_table_val_last_epoch.loc[index_list, 'total_rr'] = sub_table['total_rr']       "
   ]
  },
  {
   "cell_type": "code",
   "execution_count": null,
   "metadata": {},
   "outputs": [],
   "source": []
  },
  {
   "cell_type": "code",
   "execution_count": 55,
   "metadata": {},
   "outputs": [],
   "source": [
    "id_table_test_first_epoch['total_los'] = id_table_test_first_epoch['los'].copy()\n",
    "\n",
    "for i in range(len(patient_list_test)):\n",
    "    sub_table = id_table_test_first_epoch[id_table_test_first_epoch['subject_id'] == patient_list_test[i]].copy()\n",
    "    if len(sub_table) > 1:\n",
    "        cumulative_los = 0\n",
    "        for j in reversed(range(len(sub_table))):\n",
    "            if sub_table['readmission'].iloc[j] == 1:\n",
    "                cumulative_los += sub_table['los'].iloc[j]\n",
    "                sub_table['total_los'].iloc[j] = cumulative_los\n",
    "            else:\n",
    "                cumulative_los += sub_table['los'].iloc[j]\n",
    "                sub_table['total_los'].iloc[j] = cumulative_los\n",
    "                cumulative_los = 0\n",
    "        \n",
    "        index_list = sub_table.index\n",
    "        id_table_test_first_epoch.loc[index_list, 'total_los'] = sub_table['total_los']"
   ]
  },
  {
   "cell_type": "code",
   "execution_count": 56,
   "metadata": {
    "jupyter": {
     "source_hidden": true
    }
   },
   "outputs": [],
   "source": [
    "# id_table_test_last_epoch['total_los'] = id_table_test_last_epoch['total_los_costs'].copy()\n",
    "\n",
    "# for i in range(len(patient_list_test)):\n",
    "#     sub_table = id_table_test_last_epoch[id_table_test_last_epoch['subject_id'] == patient_list_test[i]].copy()\n",
    "#     if len(sub_table) > 1:\n",
    "#         cumulative_los = 0\n",
    "#         for j in reversed(range(len(sub_table))):\n",
    "#             if sub_table['readmission'].iloc[j] == 1:\n",
    "#                 if sub_table['death'].iloc[j] == 0:\n",
    "#                     cumulative_los += sub_table['total_los_costs'].iloc[j]\n",
    "#                     sub_table['total_los'].iloc[j] = cumulative_los\n",
    "#                 else:\n",
    "#                     sub_table['total_los'].iloc[j] = sub_table['total_los_costs'].iloc[j]\n",
    "#                     cumulative_los = sub_table['total_los_costs'].iloc[j]\n",
    "#             else:\n",
    "#                 if sub_table['death'].iloc[j] == 0:\n",
    "#                     cumulative_los += sub_table['total_los_costs'].iloc[j]\n",
    "#                     sub_table['total_los'].iloc[j] = cumulative_los\n",
    "#                     cumulative_los = 0\n",
    "#                 else:\n",
    "#                     sub_table['total_los'].iloc[j] = sub_table['total_los_costs'].iloc[j]\n",
    "#                     cumulative_los = 0\n",
    "        \n",
    "#         index_list = sub_table.index\n",
    "#         id_table_test_last_epoch.loc[index_list, 'total_los'] = sub_table['total_los']       "
   ]
  },
  {
   "cell_type": "code",
   "execution_count": 57,
   "metadata": {},
   "outputs": [],
   "source": [
    "id_table_test_last_epoch['total_mr'] = id_table_test_last_epoch['mortality_costs_md'].copy()\n",
    "\n",
    "for i in range(len(patient_list_test)):\n",
    "    sub_table = id_table_test_last_epoch[id_table_test_last_epoch['subject_id'] == patient_list_test[i]].copy()\n",
    "    if len(sub_table) > 1:\n",
    "        cumulative_mr = 0\n",
    "        for j in reversed(range(len(sub_table))):\n",
    "            if sub_table['readmission'].iloc[j] == 1:\n",
    "                cumulative_mr += sub_table['mortality_costs_md'].iloc[j]\n",
    "                sub_table['total_mr'].iloc[j] = cumulative_mr\n",
    "            else:\n",
    "                cumulative_mr += sub_table['mortality_costs_md'].iloc[j]\n",
    "                sub_table['total_mr'].iloc[j] = cumulative_mr\n",
    "                cumulative_mr = 0\n",
    "        \n",
    "        index_list = sub_table.index\n",
    "        id_table_test_last_epoch.loc[index_list, 'total_mr'] = sub_table['total_mr']"
   ]
  },
  {
   "cell_type": "code",
   "execution_count": 58,
   "metadata": {
    "jupyter": {
     "source_hidden": true
    }
   },
   "outputs": [],
   "source": [
    "# id_table_test_last_epoch['total_mr'] = id_table_test_last_epoch['mortality_costs'].copy()\n",
    "\n",
    "# for i in range(len(patient_list_test)):\n",
    "#     sub_table = id_table_test_last_epoch[id_table_test_last_epoch['subject_id'] == patient_list_test[i]].copy()\n",
    "#     if len(sub_table) > 1:\n",
    "#         cumulative_mr = 0\n",
    "#         for j in reversed(range(len(sub_table))):\n",
    "#             if sub_table['readmission'].iloc[j] == 1:\n",
    "#                 if sub_table['death'].iloc[j] == 0:\n",
    "#                     cumulative_mr += sub_table['mortality_costs'].iloc[j]\n",
    "#                     sub_table['total_mr'].iloc[j] = cumulative_mr\n",
    "#                 else:\n",
    "#                     sub_table['total_mr'].iloc[j] = sub_table['mortality_costs'].iloc[j]\n",
    "#                     cumulative_mr = sub_table['mortality_costs'].iloc[j]\n",
    "#             else:\n",
    "#                 if sub_table['death'].iloc[j] == 0:\n",
    "#                     cumulative_mr += sub_table['mortality_costs'].iloc[j]\n",
    "#                     sub_table['total_mr'].iloc[j] = cumulative_mr\n",
    "#                     cumulative_mr = 0\n",
    "#                 else:\n",
    "#                     sub_table['total_mr'].iloc[j] = sub_table['mortality_costs'].iloc[j]\n",
    "#                     cumulative_mr = 0\n",
    "        \n",
    "#         index_list = sub_table.index\n",
    "#         id_table_test_last_epoch.loc[index_list, 'total_mr'] = sub_table['total_mr']       "
   ]
  },
  {
   "cell_type": "code",
   "execution_count": 59,
   "metadata": {},
   "outputs": [],
   "source": [
    "id_table_test_last_epoch['total_rr'] = id_table_test_last_epoch['discharge_fail_costs'].copy()\n",
    "\n",
    "for i in range(len(patient_list_test)):\n",
    "    sub_table = id_table_test_last_epoch[id_table_test_last_epoch['subject_id'] == patient_list_test[i]].copy()\n",
    "    if len(sub_table) > 1:\n",
    "        cumulative_rr = 0\n",
    "        for j in reversed(range(len(sub_table))):\n",
    "            if sub_table['readmission'].iloc[j] == 1:\n",
    "                cumulative_rr += sub_table['discharge_fail_costs'].iloc[j]\n",
    "                sub_table['total_rr'].iloc[j] = cumulative_rr\n",
    "            else:\n",
    "                cumulative_rr += sub_table['discharge_fail_costs'].iloc[j]\n",
    "                sub_table['total_rr'].iloc[j] = cumulative_rr\n",
    "                cumulative_rr = 0\n",
    "        \n",
    "        index_list = sub_table.index\n",
    "        id_table_test_last_epoch.loc[index_list, 'total_rr'] = sub_table['total_rr']"
   ]
  },
  {
   "cell_type": "code",
   "execution_count": 60,
   "metadata": {
    "jupyter": {
     "source_hidden": true
    }
   },
   "outputs": [],
   "source": [
    "# id_table_test_last_epoch['total_rr'] = id_table_test_last_epoch['discharge_fail_costs'].copy()\n",
    "\n",
    "# for i in range(len(patient_list_test)):\n",
    "#     sub_table = id_table_test_last_epoch[id_table_test_last_epoch['subject_id'] == patient_list_test[i]].copy()\n",
    "#     if len(sub_table) > 1:\n",
    "#         cumulative_rr = 0\n",
    "#         for j in reversed(range(len(sub_table))):\n",
    "#             if sub_table['readmission'].iloc[j] == 1:\n",
    "#                 if sub_table['death'].iloc[j] == 0:\n",
    "#                     cumulative_rr += sub_table['discharge_fail_costs'].iloc[j]\n",
    "#                     sub_table['total_rr'].iloc[j] = cumulative_rr\n",
    "#                 else:\n",
    "#                     sub_table['total_rr'].iloc[j] = sub_table['discharge_fail_costs'].iloc[j]\n",
    "#                     cumulative_rr = sub_table['discharge_fail_costs'].iloc[j]\n",
    "#             else:\n",
    "#                 if sub_table['death'].iloc[j] == 0:\n",
    "#                     cumulative_rr += sub_table['discharge_fail_costs'].iloc[j]\n",
    "#                     sub_table['total_rr'].iloc[j] = cumulative_rr\n",
    "#                     cumulative_rr = 0\n",
    "#                 else:\n",
    "#                     sub_table['total_rr'].iloc[j] = sub_table['discharge_fail_costs'].iloc[j]\n",
    "#                     cumulative_rr = 0\n",
    "        \n",
    "#         index_list = sub_table.index\n",
    "#         id_table_test_last_epoch.loc[index_list, 'total_rr'] = sub_table['total_rr']       "
   ]
  },
  {
   "cell_type": "code",
   "execution_count": 61,
   "metadata": {
    "jupyter": {
     "source_hidden": true
    }
   },
   "outputs": [],
   "source": [
    "# id_table_train_first_epoch= id_table_train_first_epoch[id_table_train_first_epoch['readmission_count'] == 0]\n",
    "# id_table_test_first_epoch = id_table_test_first_epoch[id_table_test_first_epoch['readmission_count'] == 0]"
   ]
  },
  {
   "cell_type": "code",
   "execution_count": 62,
   "metadata": {
    "jupyter": {
     "source_hidden": true
    }
   },
   "outputs": [],
   "source": [
    "# id_table_train_last_epoch= id_table_train_last_epoch[id_table_train_last_epoch['readmission_count'] == 0]\n",
    "# id_table_test_last_epoch = id_table_test_last_epoch[id_table_test_last_epoch['readmission_count'] == 0]"
   ]
  },
  {
   "cell_type": "code",
   "execution_count": 63,
   "metadata": {
    "jupyter": {
     "source_hidden": true
    },
    "scrolled": true
   },
   "outputs": [],
   "source": [
    "# id_table_train_first_epoch"
   ]
  },
  {
   "cell_type": "code",
   "execution_count": 64,
   "metadata": {
    "jupyter": {
     "source_hidden": true
    },
    "scrolled": true
   },
   "outputs": [],
   "source": [
    "# id_table_train_last_epoch"
   ]
  },
  {
   "cell_type": "code",
   "execution_count": 65,
   "metadata": {
    "jupyter": {
     "source_hidden": true
    }
   },
   "outputs": [],
   "source": [
    "# id_table_test_first_epoch"
   ]
  },
  {
   "cell_type": "code",
   "execution_count": 66,
   "metadata": {
    "jupyter": {
     "source_hidden": true
    }
   },
   "outputs": [],
   "source": [
    "# id_table_test_last_epoch"
   ]
  },
  {
   "cell_type": "code",
   "execution_count": 67,
   "metadata": {
    "jupyter": {
     "source_hidden": true
    }
   },
   "outputs": [],
   "source": [
    "# id_table_train_first_epoch['los'].describe()"
   ]
  },
  {
   "cell_type": "code",
   "execution_count": 68,
   "metadata": {
    "jupyter": {
     "source_hidden": true
    }
   },
   "outputs": [],
   "source": [
    "# id_table_train_last_epoch['los'].describe()"
   ]
  },
  {
   "cell_type": "code",
   "execution_count": 69,
   "metadata": {
    "jupyter": {
     "source_hidden": true
    }
   },
   "outputs": [],
   "source": [
    "# id_table_test_first_epoch['los'].describe()"
   ]
  },
  {
   "cell_type": "code",
   "execution_count": 70,
   "metadata": {
    "jupyter": {
     "source_hidden": true
    }
   },
   "outputs": [],
   "source": [
    "# id_table_test_last_epoch['los'].describe()"
   ]
  },
  {
   "cell_type": "code",
   "execution_count": 71,
   "metadata": {
    "jupyter": {
     "source_hidden": true
    }
   },
   "outputs": [],
   "source": [
    "# sns.histplot(x = 'los', data = id_table_train_first_epoch)\n",
    "# plt.show()"
   ]
  },
  {
   "cell_type": "code",
   "execution_count": 72,
   "metadata": {
    "jupyter": {
     "source_hidden": true
    }
   },
   "outputs": [],
   "source": [
    "# id_table_train_first_epoch[['subject_id', 'stay_id', 'discharge_fail', 'readmission', 'readmission_count', 'los', 'total_los']][50:101]"
   ]
  },
  {
   "cell_type": "code",
   "execution_count": 73,
   "metadata": {
    "jupyter": {
     "source_hidden": true
    }
   },
   "outputs": [],
   "source": [
    "# id_table_train_first_epoch['los_hours'] = (id_table_train_first_epoch['total_los'] * 24) - (12 * (0.5**id_table_train_first_epoch['readmission_count']))\n",
    "# id_table_test_first_epoch['los_hours'] = (id_table_test_first_epoch['total_los']*24) - (12 * (0.5**id_table_test_first_epoch['readmission_count']))"
   ]
  },
  {
   "cell_type": "code",
   "execution_count": 74,
   "metadata": {
    "jupyter": {
     "source_hidden": true
    }
   },
   "outputs": [],
   "source": [
    "# id_table_train_first_epoch['los_hours'] = np.maximum((id_table_train_first_epoch['total_los'] * 24) - (12 * (0.5**np.minimum(id_table_train_first_epoch['readmission_count'], 4))), 0)\n",
    "# id_table_val_first_epoch['los_hours'] = np.maximum((id_table_val_first_epoch['total_los'] * 24) - (12 * (0.5**np.minimum(id_table_val_first_epoch['readmission_count'], 4))), 0)\n",
    "# id_table_test_first_epoch['los_hours'] = np.maximum((id_table_test_first_epoch['total_los']*24) - (12 * (0.5**np.minimum(id_table_test_first_epoch['readmission_count'], 4))), 0)"
   ]
  },
  {
   "cell_type": "code",
   "execution_count": 75,
   "metadata": {
    "jupyter": {
     "source_hidden": true
    }
   },
   "outputs": [],
   "source": [
    "# id_table_train_last_epoch['los_hours'] = np.maximum((id_table_train_last_epoch['total_los'] * 24) - (12 * (0.5**np.minimum(id_table_train_last_epoch['readmission_count'], 4))), 0)\n",
    "# id_table_val_last_epoch['los_hours'] = np.maximum((id_table_val_last_epoch['total_los'] * 24) - (12 * (0.5**np.minimum(id_table_val_last_epoch['readmission_count'], 4))), 0)\n",
    "# id_table_test_last_epoch['los_hours'] = np.maximum((id_table_test_last_epoch['total_los']*24) - (12 * (0.5**np.minimum(id_table_test_last_epoch['readmission_count'], 4))), 0)"
   ]
  },
  {
   "cell_type": "code",
   "execution_count": 76,
   "metadata": {
    "jupyter": {
     "source_hidden": true
    }
   },
   "outputs": [],
   "source": [
    "# # id_table_train_first_epoch['los_hours'].describe()\n",
    "# id_table_train_last_epoch['los_hours'].describe()"
   ]
  },
  {
   "cell_type": "code",
   "execution_count": 77,
   "metadata": {
    "jupyter": {
     "source_hidden": true
    }
   },
   "outputs": [],
   "source": [
    "# # id_table_val_first_epoch['los_hours'].describe()\n",
    "# id_table_val_last_epoch['los_hours'].describe()"
   ]
  },
  {
   "cell_type": "code",
   "execution_count": 78,
   "metadata": {
    "jupyter": {
     "source_hidden": true
    }
   },
   "outputs": [],
   "source": [
    "# # id_table_test_first_epoch['los_hours'].describe()\n",
    "# id_table_test_last_epoch['los_hours'].describe()"
   ]
  },
  {
   "cell_type": "code",
   "execution_count": 79,
   "metadata": {
    "jupyter": {
     "source_hidden": true
    },
    "scrolled": true
   },
   "outputs": [],
   "source": [
    "# # Basic groupby with multiple aggregation functions\n",
    "# stats = id_table_train_first_epoch.groupby('readmission_count')['los_hours'].agg([\n",
    "#     'count',\n",
    "#     'mean',\n",
    "#     'std',\n",
    "#     'median',\n",
    "#     'min',\n",
    "#     'max'\n",
    "# ]).round(2)\n",
    "\n",
    "# # Add confidence intervals\n",
    "# def ci_95(x):\n",
    "#     return 1.96 * x.std() / np.sqrt(len(x))\n",
    "\n",
    "# enhanced_stats = id_table_train_first_epoch.groupby('readmission_count')['los_hours'].agg([\n",
    "#     'count',\n",
    "#     'mean',\n",
    "#     'std',\n",
    "#     'median',\n",
    "#     ci_95,\n",
    "# ]).round(2)\n",
    "\n",
    "# # Rename columns for clarity\n",
    "# enhanced_stats.columns = ['Count', 'Mean LOS', 'Std Dev', 'Median LOS', '95% CI']\n",
    "\n",
    "# # Create visualization\n",
    "# plt.figure(figsize=(12, 6))\n",
    "# sns.boxplot(x='readmission_count', \n",
    "#             y='los_hours',\n",
    "#             data=id_table_train_first_epoch,\n",
    "#             color='lightblue')\n",
    "\n",
    "# plt.title('Length of Stay Distribution by Readmission Count')\n",
    "# plt.xlabel('Number of Readmissions')\n",
    "# plt.ylabel('Length of Stay (hours)')\n",
    "\n",
    "# plt.show()"
   ]
  },
  {
   "cell_type": "code",
   "execution_count": 80,
   "metadata": {
    "jupyter": {
     "source_hidden": true
    }
   },
   "outputs": [],
   "source": [
    "# print(\"\\nDescriptive Statistics for Length of Stay by Readmission Count:\")\n",
    "# print(enhanced_stats)"
   ]
  },
  {
   "cell_type": "code",
   "execution_count": 81,
   "metadata": {},
   "outputs": [
    {
     "data": {
      "text/plain": [
       "count    54905.000000\n",
       "mean        69.947687\n",
       "std         79.213387\n",
       "min          0.000000\n",
       "25%         24.000000\n",
       "50%         42.000000\n",
       "75%         84.000000\n",
       "max       1594.500000\n",
       "Name: total_los_costs, dtype: float64"
      ]
     },
     "execution_count": 81,
     "metadata": {},
     "output_type": "execute_result"
    }
   ],
   "source": [
    "id_table_train_first_epoch['total_los_costs'].describe()"
   ]
  },
  {
   "cell_type": "code",
   "execution_count": 82,
   "metadata": {},
   "outputs": [
    {
     "data": {
      "text/plain": [
       "count    6880.000000\n",
       "mean       68.800509\n",
       "std        75.687445\n",
       "min         0.000000\n",
       "25%        24.000000\n",
       "50%        47.625000\n",
       "75%        84.000000\n",
       "max       747.000000\n",
       "Name: total_los_costs, dtype: float64"
      ]
     },
     "execution_count": 82,
     "metadata": {},
     "output_type": "execute_result"
    }
   ],
   "source": [
    "id_table_val_first_epoch['total_los_costs'].describe()"
   ]
  },
  {
   "cell_type": "code",
   "execution_count": 83,
   "metadata": {},
   "outputs": [
    {
     "data": {
      "text/plain": [
       "count    6868.000000\n",
       "mean       69.820326\n",
       "std        78.026153\n",
       "min         0.000000\n",
       "25%        24.000000\n",
       "50%        48.000000\n",
       "75%        84.000000\n",
       "max       677.250000\n",
       "Name: total_los_costs, dtype: float64"
      ]
     },
     "execution_count": 83,
     "metadata": {},
     "output_type": "execute_result"
    }
   ],
   "source": [
    "id_table_test_first_epoch['total_los_costs'].describe()"
   ]
  },
  {
   "cell_type": "code",
   "execution_count": null,
   "metadata": {},
   "outputs": [],
   "source": []
  },
  {
   "cell_type": "code",
   "execution_count": null,
   "metadata": {},
   "outputs": [],
   "source": []
  },
  {
   "cell_type": "code",
   "execution_count": null,
   "metadata": {},
   "outputs": [],
   "source": []
  },
  {
   "cell_type": "code",
   "execution_count": 84,
   "metadata": {},
   "outputs": [
    {
     "data": {
      "text/plain": [
       "count    47865.000000\n",
       "mean        66.385678\n",
       "std         75.700144\n",
       "min          0.000000\n",
       "25%         24.000000\n",
       "50%         36.000000\n",
       "75%         84.000000\n",
       "max       1594.500000\n",
       "Name: total_los_costs, dtype: float64"
      ]
     },
     "execution_count": 84,
     "metadata": {},
     "output_type": "execute_result"
    }
   ],
   "source": [
    "id_table_train_first_epoch[id_table_train_first_epoch['readmission_count'] == 0]['total_los_costs'].describe()"
   ]
  },
  {
   "cell_type": "code",
   "execution_count": 85,
   "metadata": {},
   "outputs": [
    {
     "data": {
      "text/plain": [
       "count    5954.000000\n",
       "mean       66.162496\n",
       "std        73.846662\n",
       "min         0.000000\n",
       "25%        24.000000\n",
       "50%        36.000000\n",
       "75%        84.000000\n",
       "max       747.000000\n",
       "Name: total_los_costs, dtype: float64"
      ]
     },
     "execution_count": 85,
     "metadata": {},
     "output_type": "execute_result"
    }
   ],
   "source": [
    "id_table_val_first_epoch[id_table_val_first_epoch['readmission_count'] == 0]['total_los_costs'].describe()"
   ]
  },
  {
   "cell_type": "code",
   "execution_count": 86,
   "metadata": {},
   "outputs": [
    {
     "data": {
      "text/plain": [
       "count    5996.000000\n",
       "mean       66.175492\n",
       "std        74.200482\n",
       "min         0.000000\n",
       "25%        24.000000\n",
       "50%        36.000000\n",
       "75%        84.000000\n",
       "max       677.250000\n",
       "Name: total_los_costs, dtype: float64"
      ]
     },
     "execution_count": 86,
     "metadata": {},
     "output_type": "execute_result"
    }
   ],
   "source": [
    "id_table_test_first_epoch[id_table_test_first_epoch['readmission_count'] == 0]['total_los_costs'].describe()"
   ]
  },
  {
   "cell_type": "code",
   "execution_count": null,
   "metadata": {},
   "outputs": [],
   "source": []
  },
  {
   "cell_type": "code",
   "execution_count": null,
   "metadata": {},
   "outputs": [],
   "source": []
  },
  {
   "cell_type": "code",
   "execution_count": null,
   "metadata": {},
   "outputs": [],
   "source": []
  },
  {
   "cell_type": "code",
   "execution_count": 87,
   "metadata": {},
   "outputs": [
    {
     "data": {
      "text/plain": [
       "Index(['subject_id', 'hadm_id', 'stay_id', 'time', 'discharge_action', 'epoch',\n",
       "       'icu_starttime', 'icu_endtime', 'los', 'discharge_fail', 'readmission',\n",
       "       'readmission_count', 'death_in_ICU', 'death_out_ICU', 'qSOFA', 'death',\n",
       "       'mortality_costs', 'discharge_fail_costs', 'los_costs',\n",
       "       'los_costs_scaled', 'safe_action', 'mortality_costs_md',\n",
       "       'total_los_costs', 'total_los'],\n",
       "      dtype='object')"
      ]
     },
     "execution_count": 87,
     "metadata": {},
     "output_type": "execute_result"
    }
   ],
   "source": [
    "id_table_train_first_epoch.columns"
   ]
  },
  {
   "cell_type": "code",
   "execution_count": 88,
   "metadata": {},
   "outputs": [
    {
     "data": {
      "text/plain": [
       "Index(['subject_id', 'hadm_id', 'stay_id', 'time', 'discharge_action', 'epoch',\n",
       "       'icu_starttime', 'icu_endtime', 'los', 'discharge_fail', 'readmission',\n",
       "       'readmission_count', 'death_in_ICU', 'death_out_ICU', 'qSOFA', 'death',\n",
       "       'mortality_costs', 'discharge_fail_costs', 'los_costs',\n",
       "       'los_costs_scaled', 'safe_action', 'mortality_costs_md',\n",
       "       'total_los_costs', 'total_mr', 'total_rr'],\n",
       "      dtype='object')"
      ]
     },
     "execution_count": 88,
     "metadata": {},
     "output_type": "execute_result"
    }
   ],
   "source": [
    "id_table_train_last_epoch.columns"
   ]
  },
  {
   "cell_type": "code",
   "execution_count": 89,
   "metadata": {},
   "outputs": [],
   "source": [
    "id_table_train_last_epoch['total_los_costs_first'] = np.nan\n",
    "\n",
    "for i in range(len(id_table_train_last_epoch)):\n",
    "    if id_table_train_last_epoch['stay_id'].iloc[i] == id_table_train_first_epoch['stay_id'].iloc[i]:\n",
    "        id_table_train_last_epoch['total_los_costs_first'].iloc[i] = id_table_train_first_epoch['total_los_costs'].iloc[i]\n",
    "    else:\n",
    "        id_table_train_last_epoch['total_los_costs_first'].iloc[i] = np.nan"
   ]
  },
  {
   "cell_type": "code",
   "execution_count": 90,
   "metadata": {},
   "outputs": [],
   "source": [
    "id_table_train_last_epoch['qSOFA_first'] = np.nan\n",
    "\n",
    "for i in range(len(id_table_train_last_epoch)):\n",
    "    if id_table_train_last_epoch['stay_id'].iloc[i] == id_table_train_first_epoch['stay_id'].iloc[i]:\n",
    "        id_table_train_last_epoch['qSOFA_first'].iloc[i] = id_table_train_first_epoch['qSOFA'].iloc[i]\n",
    "    else:\n",
    "        id_table_train_last_epoch['qSOFA_first'].iloc[i] = np.nan"
   ]
  },
  {
   "cell_type": "code",
   "execution_count": 91,
   "metadata": {},
   "outputs": [
    {
     "data": {
      "text/plain": [
       "Counter({0: 47865, 1: 5715, 2: 1012, 3: 233, 4: 60, 5: 20})"
      ]
     },
     "execution_count": 91,
     "metadata": {},
     "output_type": "execute_result"
    }
   ],
   "source": [
    "Counter(id_table_train_last_epoch['readmission_count'])"
   ]
  },
  {
   "cell_type": "code",
   "execution_count": 92,
   "metadata": {},
   "outputs": [
    {
     "data": {
      "text/plain": [
       "Counter({1.0: 30545, 0.0: 18505, 2.0: 5473, 3.0: 382})"
      ]
     },
     "execution_count": 92,
     "metadata": {},
     "output_type": "execute_result"
    }
   ],
   "source": [
    "Counter(id_table_train_last_epoch['qSOFA_first'])"
   ]
  },
  {
   "cell_type": "code",
   "execution_count": 93,
   "metadata": {},
   "outputs": [],
   "source": [
    "id_table_train_last_epoch_q_0 = id_table_train_last_epoch[id_table_train_last_epoch['qSOFA_first'] == 1]"
   ]
  },
  {
   "cell_type": "code",
   "execution_count": 94,
   "metadata": {},
   "outputs": [
    {
     "data": {
      "image/png": "[encoded data removed]",
      "text/plain": [
       "<Figure size 640x480 with 1 Axes>"
      ]
     },
     "metadata": {},
     "output_type": "display_data"
    }
   ],
   "source": [
    "ax = sns.barplot(x = 'readmission_count', \n",
    "                 y = 'total_mr', \n",
    "                 data = id_table_train_last_epoch_q_0,\n",
    "                 color = 'steelblue')\n",
    "\n",
    "for i, bar in enumerate(ax.patches):\n",
    "    height = bar.get_height()\n",
    "    ax.text(\n",
    "        bar.get_x() + bar.get_width()/2.5,\n",
    "        height + 0.005, \n",
    "        f'{height:.2f}', \n",
    "        ha = 'right', \n",
    "        va = 'bottom',\n",
    "        fontsize = 10,\n",
    "        color = 'black'\n",
    "    )\n",
    "\n",
    "plt.xlabel(r'Readmission Count')\n",
    "plt.ylabel(r'Average Mortality Risk')\n",
    "\n",
    "plt.grid(linestyle = '--', alpha = 0.4)\n",
    "\n",
    "plt.savefig('../Experiment Figure/EDA_figures/qsofa_RC_MR_1.png',\n",
    "            dpi = 400, \n",
    "            bbox_inches = 'tight')\n",
    "\n",
    "plt.show()"
   ]
  },
  {
   "cell_type": "code",
   "execution_count": 95,
   "metadata": {},
   "outputs": [],
   "source": [
    "id_table_train_last_epoch_first = id_table_train_last_epoch[id_table_train_last_epoch['readmission_count'] == 0]\n",
    "# id_table_train_last_epoch_first = id_table_train_last_epoch_first[id_table_train_last_epoch_first['discharge_fail'] == 0]"
   ]
  },
  {
   "cell_type": "code",
   "execution_count": 96,
   "metadata": {
    "scrolled": true
   },
   "outputs": [
    {
     "data": {
      "text/html": [
       "<div>\n",
       "<style scoped>\n",
       "    .dataframe tbody tr th:only-of-type {\n",
       "        vertical-align: middle;\n",
       "    }\n",
       "\n",
       "    .dataframe tbody tr th {\n",
       "        vertical-align: top;\n",
       "    }\n",
       "\n",
       "    .dataframe thead th {\n",
       "        text-align: right;\n",
       "    }\n",
       "</style>\n",
       "<table border=\"1\" class=\"dataframe\">\n",
       "  <thead>\n",
       "    <tr style=\"text-align: right;\">\n",
       "      <th></th>\n",
       "      <th>subject_id</th>\n",
       "      <th>hadm_id</th>\n",
       "      <th>stay_id</th>\n",
       "      <th>time</th>\n",
       "      <th>discharge_action</th>\n",
       "      <th>epoch</th>\n",
       "      <th>icu_starttime</th>\n",
       "      <th>icu_endtime</th>\n",
       "      <th>los</th>\n",
       "      <th>discharge_fail</th>\n",
       "      <th>...</th>\n",
       "      <th>discharge_fail_costs</th>\n",
       "      <th>los_costs</th>\n",
       "      <th>los_costs_scaled</th>\n",
       "      <th>safe_action</th>\n",
       "      <th>mortality_costs_md</th>\n",
       "      <th>total_los_costs</th>\n",
       "      <th>total_mr</th>\n",
       "      <th>total_rr</th>\n",
       "      <th>total_los_costs_first</th>\n",
       "      <th>qSOFA_first</th>\n",
       "    </tr>\n",
       "  </thead>\n",
       "  <tbody>\n",
       "    <tr>\n",
       "      <th>0</th>\n",
       "      <td>10000032</td>\n",
       "      <td>29079034</td>\n",
       "      <td>39553978</td>\n",
       "      <td>2180-07-23 23:50:47</td>\n",
       "      <td>1.0</td>\n",
       "      <td>1</td>\n",
       "      <td>2180-07-23 14:00:00</td>\n",
       "      <td>2180-07-23 23:50:47</td>\n",
       "      <td>0.410266</td>\n",
       "      <td>0.0</td>\n",
       "      <td>...</td>\n",
       "      <td>0.0</td>\n",
       "      <td>0.0</td>\n",
       "      <td>0.0</td>\n",
       "      <td>0.0</td>\n",
       "      <td>0.0</td>\n",
       "      <td>0.0</td>\n",
       "      <td>0.0</td>\n",
       "      <td>0.0</td>\n",
       "      <td>0.0</td>\n",
       "      <td>2.0</td>\n",
       "    </tr>\n",
       "    <tr>\n",
       "      <th>8</th>\n",
       "      <td>10000690</td>\n",
       "      <td>25860671</td>\n",
       "      <td>37081114</td>\n",
       "      <td>2150-11-06 17:03:17</td>\n",
       "      <td>1.0</td>\n",
       "      <td>8</td>\n",
       "      <td>2150-11-02 19:37:00</td>\n",
       "      <td>2150-11-06 17:03:17</td>\n",
       "      <td>3.893252</td>\n",
       "      <td>0.0</td>\n",
       "      <td>...</td>\n",
       "      <td>0.0</td>\n",
       "      <td>0.0</td>\n",
       "      <td>0.0</td>\n",
       "      <td>1.0</td>\n",
       "      <td>0.0</td>\n",
       "      <td>0.0</td>\n",
       "      <td>0.0</td>\n",
       "      <td>0.0</td>\n",
       "      <td>84.0</td>\n",
       "      <td>0.0</td>\n",
       "    </tr>\n",
       "    <tr>\n",
       "      <th>9</th>\n",
       "      <td>10000980</td>\n",
       "      <td>26913865</td>\n",
       "      <td>39765666</td>\n",
       "      <td>2189-06-27 20:38:27</td>\n",
       "      <td>1.0</td>\n",
       "      <td>1</td>\n",
       "      <td>2189-06-27 08:42:00</td>\n",
       "      <td>2189-06-27 20:38:27</td>\n",
       "      <td>0.497535</td>\n",
       "      <td>0.0</td>\n",
       "      <td>...</td>\n",
       "      <td>0.0</td>\n",
       "      <td>0.0</td>\n",
       "      <td>0.0</td>\n",
       "      <td>1.0</td>\n",
       "      <td>0.0</td>\n",
       "      <td>0.0</td>\n",
       "      <td>0.0</td>\n",
       "      <td>0.0</td>\n",
       "      <td>0.0</td>\n",
       "      <td>1.0</td>\n",
       "    </tr>\n",
       "    <tr>\n",
       "      <th>12</th>\n",
       "      <td>10001217</td>\n",
       "      <td>24597018</td>\n",
       "      <td>37067082</td>\n",
       "      <td>2157-11-21 22:08:00</td>\n",
       "      <td>1.0</td>\n",
       "      <td>3</td>\n",
       "      <td>2157-11-20 19:18:02</td>\n",
       "      <td>2157-11-21 22:08:00</td>\n",
       "      <td>1.118032</td>\n",
       "      <td>1.0</td>\n",
       "      <td>...</td>\n",
       "      <td>1.0</td>\n",
       "      <td>0.0</td>\n",
       "      <td>0.0</td>\n",
       "      <td>1.0</td>\n",
       "      <td>0.0</td>\n",
       "      <td>18.0</td>\n",
       "      <td>0.0</td>\n",
       "      <td>1.0</td>\n",
       "      <td>42.0</td>\n",
       "      <td>0.0</td>\n",
       "    </tr>\n",
       "    <tr>\n",
       "      <th>19</th>\n",
       "      <td>10002013</td>\n",
       "      <td>23581541</td>\n",
       "      <td>39060235</td>\n",
       "      <td>2160-05-19 17:33:33</td>\n",
       "      <td>1.0</td>\n",
       "      <td>3</td>\n",
       "      <td>2160-05-18 10:00:53</td>\n",
       "      <td>2160-05-19 17:33:33</td>\n",
       "      <td>1.314352</td>\n",
       "      <td>0.0</td>\n",
       "      <td>...</td>\n",
       "      <td>0.0</td>\n",
       "      <td>0.0</td>\n",
       "      <td>0.0</td>\n",
       "      <td>1.0</td>\n",
       "      <td>0.0</td>\n",
       "      <td>0.0</td>\n",
       "      <td>0.0</td>\n",
       "      <td>0.0</td>\n",
       "      <td>24.0</td>\n",
       "      <td>1.0</td>\n",
       "    </tr>\n",
       "    <tr>\n",
       "      <th>...</th>\n",
       "      <td>...</td>\n",
       "      <td>...</td>\n",
       "      <td>...</td>\n",
       "      <td>...</td>\n",
       "      <td>...</td>\n",
       "      <td>...</td>\n",
       "      <td>...</td>\n",
       "      <td>...</td>\n",
       "      <td>...</td>\n",
       "      <td>...</td>\n",
       "      <td>...</td>\n",
       "      <td>...</td>\n",
       "      <td>...</td>\n",
       "      <td>...</td>\n",
       "      <td>...</td>\n",
       "      <td>...</td>\n",
       "      <td>...</td>\n",
       "      <td>...</td>\n",
       "      <td>...</td>\n",
       "      <td>...</td>\n",
       "      <td>...</td>\n",
       "    </tr>\n",
       "    <tr>\n",
       "      <th>393831</th>\n",
       "      <td>19998878</td>\n",
       "      <td>26489544</td>\n",
       "      <td>34403689</td>\n",
       "      <td>2132-10-01 15:43:11</td>\n",
       "      <td>1.0</td>\n",
       "      <td>2</td>\n",
       "      <td>2132-09-30 21:55:00</td>\n",
       "      <td>2132-10-01 15:43:11</td>\n",
       "      <td>0.741794</td>\n",
       "      <td>0.0</td>\n",
       "      <td>...</td>\n",
       "      <td>0.0</td>\n",
       "      <td>0.0</td>\n",
       "      <td>0.0</td>\n",
       "      <td>1.0</td>\n",
       "      <td>0.0</td>\n",
       "      <td>0.0</td>\n",
       "      <td>0.0</td>\n",
       "      <td>0.0</td>\n",
       "      <td>12.0</td>\n",
       "      <td>0.0</td>\n",
       "    </tr>\n",
       "    <tr>\n",
       "      <th>393845</th>\n",
       "      <td>19999442</td>\n",
       "      <td>26785317</td>\n",
       "      <td>32336619</td>\n",
       "      <td>2148-11-26 13:12:15</td>\n",
       "      <td>1.0</td>\n",
       "      <td>14</td>\n",
       "      <td>2148-11-19 14:23:43</td>\n",
       "      <td>2148-11-26 13:12:15</td>\n",
       "      <td>6.950370</td>\n",
       "      <td>0.0</td>\n",
       "      <td>...</td>\n",
       "      <td>0.0</td>\n",
       "      <td>0.0</td>\n",
       "      <td>0.0</td>\n",
       "      <td>1.0</td>\n",
       "      <td>0.0</td>\n",
       "      <td>0.0</td>\n",
       "      <td>0.0</td>\n",
       "      <td>0.0</td>\n",
       "      <td>156.0</td>\n",
       "      <td>1.0</td>\n",
       "    </tr>\n",
       "    <tr>\n",
       "      <th>393847</th>\n",
       "      <td>19999625</td>\n",
       "      <td>25304202</td>\n",
       "      <td>31070865</td>\n",
       "      <td>2139-10-11 18:21:28</td>\n",
       "      <td>1.0</td>\n",
       "      <td>2</td>\n",
       "      <td>2139-10-10 19:18:00</td>\n",
       "      <td>2139-10-11 18:21:28</td>\n",
       "      <td>0.960741</td>\n",
       "      <td>0.0</td>\n",
       "      <td>...</td>\n",
       "      <td>0.0</td>\n",
       "      <td>0.0</td>\n",
       "      <td>0.0</td>\n",
       "      <td>1.0</td>\n",
       "      <td>0.0</td>\n",
       "      <td>0.0</td>\n",
       "      <td>0.0</td>\n",
       "      <td>0.0</td>\n",
       "      <td>12.0</td>\n",
       "      <td>1.0</td>\n",
       "    </tr>\n",
       "    <tr>\n",
       "      <th>393851</th>\n",
       "      <td>19999828</td>\n",
       "      <td>25744818</td>\n",
       "      <td>36075953</td>\n",
       "      <td>2149-01-10 13:11:02</td>\n",
       "      <td>1.0</td>\n",
       "      <td>4</td>\n",
       "      <td>2149-01-08 18:12:00</td>\n",
       "      <td>2149-01-10 13:11:02</td>\n",
       "      <td>1.790995</td>\n",
       "      <td>0.0</td>\n",
       "      <td>...</td>\n",
       "      <td>0.0</td>\n",
       "      <td>0.0</td>\n",
       "      <td>0.0</td>\n",
       "      <td>1.0</td>\n",
       "      <td>0.0</td>\n",
       "      <td>0.0</td>\n",
       "      <td>0.0</td>\n",
       "      <td>0.0</td>\n",
       "      <td>36.0</td>\n",
       "      <td>1.0</td>\n",
       "    </tr>\n",
       "    <tr>\n",
       "      <th>393855</th>\n",
       "      <td>19999987</td>\n",
       "      <td>23865745</td>\n",
       "      <td>36195440</td>\n",
       "      <td>2145-11-04 21:29:30</td>\n",
       "      <td>1.0</td>\n",
       "      <td>4</td>\n",
       "      <td>2145-11-02 22:59:00</td>\n",
       "      <td>2145-11-04 21:29:30</td>\n",
       "      <td>1.937847</td>\n",
       "      <td>0.0</td>\n",
       "      <td>...</td>\n",
       "      <td>0.0</td>\n",
       "      <td>0.0</td>\n",
       "      <td>0.0</td>\n",
       "      <td>1.0</td>\n",
       "      <td>0.0</td>\n",
       "      <td>0.0</td>\n",
       "      <td>0.0</td>\n",
       "      <td>0.0</td>\n",
       "      <td>36.0</td>\n",
       "      <td>1.0</td>\n",
       "    </tr>\n",
       "  </tbody>\n",
       "</table>\n",
       "<p>47865 rows × 27 columns</p>\n",
       "</div>"
      ],
      "text/plain": [
       "        subject_id   hadm_id   stay_id                 time  discharge_action  \\\n",
       "0         10000032  29079034  39553978  2180-07-23 23:50:47               1.0   \n",
       "8         10000690  25860671  37081114  2150-11-06 17:03:17               1.0   \n",
       "9         10000980  26913865  39765666  2189-06-27 20:38:27               1.0   \n",
       "12        10001217  24597018  37067082  2157-11-21 22:08:00               1.0   \n",
       "19        10002013  23581541  39060235  2160-05-19 17:33:33               1.0   \n",
       "...            ...       ...       ...                  ...               ...   \n",
       "393831    19998878  26489544  34403689  2132-10-01 15:43:11               1.0   \n",
       "393845    19999442  26785317  32336619  2148-11-26 13:12:15               1.0   \n",
       "393847    19999625  25304202  31070865  2139-10-11 18:21:28               1.0   \n",
       "393851    19999828  25744818  36075953  2149-01-10 13:11:02               1.0   \n",
       "393855    19999987  23865745  36195440  2145-11-04 21:29:30               1.0   \n",
       "\n",
       "        epoch        icu_starttime          icu_endtime       los  \\\n",
       "0           1  2180-07-23 14:00:00  2180-07-23 23:50:47  0.410266   \n",
       "8           8  2150-11-02 19:37:00  2150-11-06 17:03:17  3.893252   \n",
       "9           1  2189-06-27 08:42:00  2189-06-27 20:38:27  0.497535   \n",
       "12          3  2157-11-20 19:18:02  2157-11-21 22:08:00  1.118032   \n",
       "19          3  2160-05-18 10:00:53  2160-05-19 17:33:33  1.314352   \n",
       "...       ...                  ...                  ...       ...   \n",
       "393831      2  2132-09-30 21:55:00  2132-10-01 15:43:11  0.741794   \n",
       "393845     14  2148-11-19 14:23:43  2148-11-26 13:12:15  6.950370   \n",
       "393847      2  2139-10-10 19:18:00  2139-10-11 18:21:28  0.960741   \n",
       "393851      4  2149-01-08 18:12:00  2149-01-10 13:11:02  1.790995   \n",
       "393855      4  2145-11-02 22:59:00  2145-11-04 21:29:30  1.937847   \n",
       "\n",
       "        discharge_fail  ...  discharge_fail_costs  los_costs  \\\n",
       "0                  0.0  ...                   0.0        0.0   \n",
       "8                  0.0  ...                   0.0        0.0   \n",
       "9                  0.0  ...                   0.0        0.0   \n",
       "12                 1.0  ...                   1.0        0.0   \n",
       "19                 0.0  ...                   0.0        0.0   \n",
       "...                ...  ...                   ...        ...   \n",
       "393831             0.0  ...                   0.0        0.0   \n",
       "393845             0.0  ...                   0.0        0.0   \n",
       "393847             0.0  ...                   0.0        0.0   \n",
       "393851             0.0  ...                   0.0        0.0   \n",
       "393855             0.0  ...                   0.0        0.0   \n",
       "\n",
       "        los_costs_scaled  safe_action  mortality_costs_md  total_los_costs  \\\n",
       "0                    0.0          0.0                 0.0              0.0   \n",
       "8                    0.0          1.0                 0.0              0.0   \n",
       "9                    0.0          1.0                 0.0              0.0   \n",
       "12                   0.0          1.0                 0.0             18.0   \n",
       "19                   0.0          1.0                 0.0              0.0   \n",
       "...                  ...          ...                 ...              ...   \n",
       "393831               0.0          1.0                 0.0              0.0   \n",
       "393845               0.0          1.0                 0.0              0.0   \n",
       "393847               0.0          1.0                 0.0              0.0   \n",
       "393851               0.0          1.0                 0.0              0.0   \n",
       "393855               0.0          1.0                 0.0              0.0   \n",
       "\n",
       "        total_mr  total_rr  total_los_costs_first  qSOFA_first  \n",
       "0            0.0       0.0                    0.0          2.0  \n",
       "8            0.0       0.0                   84.0          0.0  \n",
       "9            0.0       0.0                    0.0          1.0  \n",
       "12           0.0       1.0                   42.0          0.0  \n",
       "19           0.0       0.0                   24.0          1.0  \n",
       "...          ...       ...                    ...          ...  \n",
       "393831       0.0       0.0                   12.0          0.0  \n",
       "393845       0.0       0.0                  156.0          1.0  \n",
       "393847       0.0       0.0                   12.0          1.0  \n",
       "393851       0.0       0.0                   36.0          1.0  \n",
       "393855       0.0       0.0                   36.0          1.0  \n",
       "\n",
       "[47865 rows x 27 columns]"
      ]
     },
     "execution_count": 96,
     "metadata": {},
     "output_type": "execute_result"
    }
   ],
   "source": [
    "id_table_train_last_epoch_first"
   ]
  },
  {
   "cell_type": "code",
   "execution_count": 97,
   "metadata": {},
   "outputs": [
    {
     "data": {
      "text/plain": [
       "count    47865.000000\n",
       "mean        66.385678\n",
       "std         75.700144\n",
       "min          0.000000\n",
       "25%         24.000000\n",
       "50%         36.000000\n",
       "75%         84.000000\n",
       "max       1594.500000\n",
       "Name: total_los_costs_first, dtype: float64"
      ]
     },
     "execution_count": 97,
     "metadata": {},
     "output_type": "execute_result"
    }
   ],
   "source": [
    "id_table_train_last_epoch_first['total_los_costs_first'].describe()"
   ]
  },
  {
   "cell_type": "code",
   "execution_count": 98,
   "metadata": {},
   "outputs": [
    {
     "data": {
      "text/plain": [
       "count    47865.000000\n",
       "mean         0.081939\n",
       "std          0.274274\n",
       "min          0.000000\n",
       "25%          0.000000\n",
       "50%          0.000000\n",
       "75%          0.000000\n",
       "max          1.000000\n",
       "Name: total_mr, dtype: float64"
      ]
     },
     "execution_count": 98,
     "metadata": {},
     "output_type": "execute_result"
    }
   ],
   "source": [
    "id_table_train_last_epoch_first['total_mr'].describe()"
   ]
  },
  {
   "cell_type": "code",
   "execution_count": 99,
   "metadata": {},
   "outputs": [
    {
     "data": {
      "text/plain": [
       "count    47865.000000\n",
       "mean         0.146746\n",
       "std          0.444788\n",
       "min          0.000000\n",
       "25%          0.000000\n",
       "50%          0.000000\n",
       "75%          0.000000\n",
       "max          5.000000\n",
       "Name: total_rr, dtype: float64"
      ]
     },
     "execution_count": 99,
     "metadata": {},
     "output_type": "execute_result"
    }
   ],
   "source": [
    "id_table_train_last_epoch_first['total_rr'].describe()"
   ]
  },
  {
   "cell_type": "code",
   "execution_count": 100,
   "metadata": {},
   "outputs": [
    {
     "data": {
      "image/png": "[encoded data removed]",
      "text/plain": [
       "<Figure size 640x480 with 1 Axes>"
      ]
     },
     "metadata": {},
     "output_type": "display_data"
    }
   ],
   "source": [
    "ax = sns.barplot(x = 'total_mr', \n",
    "                 y = 'total_los_costs_first', \n",
    "                 data = id_table_train_last_epoch_first,\n",
    "                 ci = 95,\n",
    "                 color = 'steelblue')\n",
    "\n",
    "for i, bar in enumerate(ax.patches):\n",
    "    height = bar.get_height()\n",
    "    ax.text(\n",
    "        bar.get_x() + bar.get_width()/2.5,\n",
    "        height + 0.005, \n",
    "        f'{height:.2f}', \n",
    "        ha = 'right', \n",
    "        va = 'bottom',\n",
    "        fontsize = 10,\n",
    "        color = 'black'\n",
    "    )\n",
    "\n",
    "plt.xlabel('Mortality Risk')\n",
    "plt.ylabel('ICU LOS (hours)')\n",
    "\n",
    "plt.grid(linestyle = '--', alpha = 0.4)\n",
    "\n",
    "plt.savefig('../Experiment Figure/EDA_figures/mr_los_endo.png',\n",
    "            dpi = 400, \n",
    "            bbox_inches = 'tight')\n",
    "\n",
    "plt.show()"
   ]
  },
  {
   "cell_type": "code",
   "execution_count": 101,
   "metadata": {},
   "outputs": [
    {
     "data": {
      "image/png": "[encoded data removed]",
      "text/plain": [
       "<Figure size 640x480 with 1 Axes>"
      ]
     },
     "metadata": {},
     "output_type": "display_data"
    }
   ],
   "source": [
    "ax = sns.barplot(x = 'total_mr', \n",
    "                 y = 'total_rr', \n",
    "                 data = id_table_train_last_epoch_first,\n",
    "                 ci = 95,\n",
    "                 color = 'steelblue')\n",
    "\n",
    "for i, bar in enumerate(ax.patches):\n",
    "    height = bar.get_height()\n",
    "    ax.text(\n",
    "        bar.get_x() + bar.get_width()/2.5,\n",
    "        height + 0.005, \n",
    "        f'{height:.3f}', \n",
    "        ha = 'right', \n",
    "        va = 'bottom',\n",
    "        fontsize = 10,\n",
    "        color = 'black'\n",
    "    )\n",
    "\n",
    "plt.xlabel('Mortality Risk')\n",
    "plt.ylabel('Readmission Risk')\n",
    "\n",
    "plt.grid(linestyle = '--', alpha = 0.4)\n",
    "\n",
    "plt.savefig('../Experiment Figure/EDA_figures/mr_rr_relationship.png',\n",
    "            dpi = 400, \n",
    "            bbox_inches = 'tight')\n",
    "\n",
    "plt.show()"
   ]
  },
  {
   "cell_type": "code",
   "execution_count": null,
   "metadata": {},
   "outputs": [],
   "source": []
  },
  {
   "cell_type": "code",
   "execution_count": null,
   "metadata": {},
   "outputs": [],
   "source": []
  },
  {
   "cell_type": "code",
   "execution_count": null,
   "metadata": {},
   "outputs": [],
   "source": []
  },
  {
   "cell_type": "markdown",
   "metadata": {},
   "source": [
    "- Threshold settings for readmission risk"
   ]
  },
  {
   "cell_type": "code",
   "execution_count": 103,
   "metadata": {},
   "outputs": [
    {
     "data": {
      "text/plain": [
       "count    54905.000000\n",
       "mean         0.127930\n",
       "std          0.334015\n",
       "min          0.000000\n",
       "25%          0.000000\n",
       "50%          0.000000\n",
       "75%          0.000000\n",
       "max          1.000000\n",
       "Name: discharge_fail, dtype: float64"
      ]
     },
     "execution_count": 103,
     "metadata": {},
     "output_type": "execute_result"
    }
   ],
   "source": [
    "id_table_train_first_epoch['discharge_fail'].describe()"
   ]
  },
  {
   "cell_type": "code",
   "execution_count": 104,
   "metadata": {},
   "outputs": [
    {
     "data": {
      "text/plain": [
       "count    54905.000000\n",
       "mean         0.127930\n",
       "std          0.334015\n",
       "min          0.000000\n",
       "25%          0.000000\n",
       "50%          0.000000\n",
       "75%          0.000000\n",
       "max          1.000000\n",
       "Name: discharge_fail, dtype: float64"
      ]
     },
     "execution_count": 104,
     "metadata": {},
     "output_type": "execute_result"
    }
   ],
   "source": [
    "id_table_train_last_epoch['discharge_fail'].describe()"
   ]
  },
  {
   "cell_type": "code",
   "execution_count": 105,
   "metadata": {},
   "outputs": [
    {
     "data": {
      "text/plain": [
       "count    6868.000000\n",
       "mean        0.126820\n",
       "std         0.332795\n",
       "min         0.000000\n",
       "25%         0.000000\n",
       "50%         0.000000\n",
       "75%         0.000000\n",
       "max         1.000000\n",
       "Name: discharge_fail, dtype: float64"
      ]
     },
     "execution_count": 105,
     "metadata": {},
     "output_type": "execute_result"
    }
   ],
   "source": [
    "id_table_test_last_epoch['discharge_fail'].describe()"
   ]
  },
  {
   "cell_type": "code",
   "execution_count": 106,
   "metadata": {},
   "outputs": [
    {
     "data": {
      "text/plain": [
       "count    54905.000000\n",
       "mean         0.127930\n",
       "std          0.334015\n",
       "min          0.000000\n",
       "25%          0.000000\n",
       "50%          0.000000\n",
       "75%          0.000000\n",
       "max          1.000000\n",
       "Name: discharge_fail_costs, dtype: float64"
      ]
     },
     "execution_count": 106,
     "metadata": {},
     "output_type": "execute_result"
    }
   ],
   "source": [
    "id_table_train_last_epoch['discharge_fail_costs'].describe()"
   ]
  },
  {
   "cell_type": "code",
   "execution_count": 107,
   "metadata": {},
   "outputs": [
    {
     "data": {
      "text/plain": [
       "count    6868.000000\n",
       "mean        0.126820\n",
       "std         0.332795\n",
       "min         0.000000\n",
       "25%         0.000000\n",
       "50%         0.000000\n",
       "75%         0.000000\n",
       "max         1.000000\n",
       "Name: discharge_fail_costs, dtype: float64"
      ]
     },
     "execution_count": 107,
     "metadata": {},
     "output_type": "execute_result"
    }
   ],
   "source": [
    "id_table_test_last_epoch['discharge_fail_costs'].describe()"
   ]
  },
  {
   "cell_type": "code",
   "execution_count": 108,
   "metadata": {},
   "outputs": [
    {
     "data": {
      "text/plain": [
       "count    54905.000000\n",
       "mean         0.159585\n",
       "std          0.465667\n",
       "min          0.000000\n",
       "25%          0.000000\n",
       "50%          0.000000\n",
       "75%          0.000000\n",
       "max          5.000000\n",
       "Name: total_rr, dtype: float64"
      ]
     },
     "execution_count": 108,
     "metadata": {},
     "output_type": "execute_result"
    }
   ],
   "source": [
    "id_table_train_last_epoch['total_rr'].describe()"
   ]
  },
  {
   "cell_type": "code",
   "execution_count": 109,
   "metadata": {},
   "outputs": [
    {
     "data": {
      "text/plain": [
       "count    6880.000000\n",
       "mean        0.166715\n",
       "std         0.470032\n",
       "min         0.000000\n",
       "25%         0.000000\n",
       "50%         0.000000\n",
       "75%         0.000000\n",
       "max         5.000000\n",
       "Name: total_rr, dtype: float64"
      ]
     },
     "execution_count": 109,
     "metadata": {},
     "output_type": "execute_result"
    }
   ],
   "source": [
    "id_table_val_last_epoch['total_rr'].describe()"
   ]
  },
  {
   "cell_type": "code",
   "execution_count": 110,
   "metadata": {},
   "outputs": [
    {
     "data": {
      "text/plain": [
       "count    6868.000000\n",
       "mean        0.156960\n",
       "std         0.460908\n",
       "min         0.000000\n",
       "25%         0.000000\n",
       "50%         0.000000\n",
       "75%         0.000000\n",
       "max         5.000000\n",
       "Name: total_rr, dtype: float64"
      ]
     },
     "execution_count": 110,
     "metadata": {},
     "output_type": "execute_result"
    }
   ],
   "source": [
    "id_table_test_last_epoch['total_rr'].describe()"
   ]
  },
  {
   "cell_type": "code",
   "execution_count": 111,
   "metadata": {},
   "outputs": [],
   "source": [
    "# id_table_test_last_epoch[id_table_test_last_epoch['readmission_count'] == 0]['total_rr'].describe()"
   ]
  },
  {
   "cell_type": "code",
   "execution_count": 112,
   "metadata": {},
   "outputs": [],
   "source": [
    "# (100 + np.mean(id_table_train_last_epoch['total_rr']))/200"
   ]
  },
  {
   "cell_type": "code",
   "execution_count": 113,
   "metadata": {},
   "outputs": [],
   "source": [
    "# (100 + np.mean(id_table_test_last_epoch['total_rr']))/200"
   ]
  },
  {
   "cell_type": "code",
   "execution_count": 114,
   "metadata": {},
   "outputs": [
    {
     "data": {
      "text/plain": [
       "[0.15958473727347236, 0.16671511627906976, 0.15695981362842168]"
      ]
     },
     "execution_count": 114,
     "metadata": {},
     "output_type": "execute_result"
    }
   ],
   "source": [
    "[np.mean(id_table_train_last_epoch['total_rr']), \n",
    " np.mean(id_table_val_last_epoch['total_rr']),\n",
    " np.mean(id_table_test_last_epoch['total_rr'])]"
   ]
  },
  {
   "cell_type": "code",
   "execution_count": 115,
   "metadata": {},
   "outputs": [
    {
     "data": {
      "text/plain": [
       "[0.14674605661757026, 0.15485387974470943, 0.14526350900600402]"
      ]
     },
     "execution_count": 115,
     "metadata": {},
     "output_type": "execute_result"
    }
   ],
   "source": [
    "[np.mean(id_table_train_last_epoch[id_table_train_last_epoch['readmission_count'] == 0]['total_rr']), \n",
    " np.mean(id_table_val_last_epoch[id_table_val_last_epoch['readmission_count'] == 0]['total_rr']),\n",
    " np.mean(id_table_test_last_epoch[id_table_test_last_epoch['readmission_count'] == 0]['total_rr'])]"
   ]
  },
  {
   "cell_type": "code",
   "execution_count": null,
   "metadata": {
    "jupyter": {
     "source_hidden": true
    }
   },
   "outputs": [],
   "source": [
    "# # Basic groupby with multiple aggregation functions\n",
    "# stats = id_table_train_last_epoch.groupby('readmission_count')['discharge_fail_costs'].agg([\n",
    "#     'count',\n",
    "#     'mean',\n",
    "#     'std',\n",
    "#     'median',\n",
    "#     'min',\n",
    "#     'max'\n",
    "# ]).round(2)\n",
    "\n",
    "# # Add confidence intervals\n",
    "# def ci_95(x):\n",
    "#     return 1.96 * x.std() / np.sqrt(len(x))\n",
    "\n",
    "# enhanced_stats = id_table_train_last_epoch.groupby('readmission_count')['discharge_fail_costs'].agg([\n",
    "#     'count',\n",
    "#     'mean',\n",
    "#     'std',\n",
    "#     'median',\n",
    "#     ci_95,\n",
    "# ]).round(2)\n",
    "\n",
    "# # Rename columns for clarity\n",
    "# enhanced_stats.columns = ['Count', 'Mean', 'Std Dev', 'Median', '95% CI']"
   ]
  },
  {
   "cell_type": "code",
   "execution_count": null,
   "metadata": {
    "jupyter": {
     "source_hidden": true
    }
   },
   "outputs": [],
   "source": [
    "# print(\"\\nDescriptive Statistics for Discharge Fail Costs by Readmission Count:\")\n",
    "# print(enhanced_stats)"
   ]
  },
  {
   "cell_type": "markdown",
   "metadata": {},
   "source": [
    "- Mortality risk in training dataset"
   ]
  },
  {
   "cell_type": "code",
   "execution_count": null,
   "metadata": {},
   "outputs": [],
   "source": [
    "# id_table_train_first_epoch.columns"
   ]
  },
  {
   "cell_type": "code",
   "execution_count": null,
   "metadata": {},
   "outputs": [],
   "source": [
    "# id_table_train_first_epoch['death_in_ICU'].describe()"
   ]
  },
  {
   "cell_type": "code",
   "execution_count": null,
   "metadata": {},
   "outputs": [],
   "source": [
    "# id_table_train_first_epoch['death_out_ICU'].describe()"
   ]
  },
  {
   "cell_type": "code",
   "execution_count": null,
   "metadata": {},
   "outputs": [],
   "source": [
    "# id_table_train_last_epoch['death_out_ICU'].describe()"
   ]
  },
  {
   "cell_type": "code",
   "execution_count": 116,
   "metadata": {},
   "outputs": [
    {
     "data": {
      "text/plain": [
       "count    54905.000000\n",
       "mean         0.098461\n",
       "std          0.297940\n",
       "min          0.000000\n",
       "25%          0.000000\n",
       "50%          0.000000\n",
       "75%          0.000000\n",
       "max          1.000000\n",
       "Name: mortality_costs, dtype: float64"
      ]
     },
     "execution_count": 116,
     "metadata": {},
     "output_type": "execute_result"
    }
   ],
   "source": [
    "id_table_train_last_epoch['mortality_costs'].describe()"
   ]
  },
  {
   "cell_type": "code",
   "execution_count": 117,
   "metadata": {},
   "outputs": [
    {
     "data": {
      "text/plain": [
       "count    54905.000000\n",
       "mean         0.104945\n",
       "std          0.306485\n",
       "min          0.000000\n",
       "25%          0.000000\n",
       "50%          0.000000\n",
       "75%          0.000000\n",
       "max          1.000000\n",
       "Name: total_mr, dtype: float64"
      ]
     },
     "execution_count": 117,
     "metadata": {},
     "output_type": "execute_result"
    }
   ],
   "source": [
    "id_table_train_last_epoch['total_mr'].describe()"
   ]
  },
  {
   "cell_type": "code",
   "execution_count": 118,
   "metadata": {
    "scrolled": true
   },
   "outputs": [
    {
     "data": {
      "text/plain": [
       "count    6880.000000\n",
       "mean        0.111773\n",
       "std         0.315110\n",
       "min         0.000000\n",
       "25%         0.000000\n",
       "50%         0.000000\n",
       "75%         0.000000\n",
       "max         1.000000\n",
       "Name: total_mr, dtype: float64"
      ]
     },
     "execution_count": 118,
     "metadata": {},
     "output_type": "execute_result"
    }
   ],
   "source": [
    "id_table_val_last_epoch['total_mr'].describe()"
   ]
  },
  {
   "cell_type": "code",
   "execution_count": 119,
   "metadata": {},
   "outputs": [
    {
     "data": {
      "text/plain": [
       "count    6868.000000\n",
       "mean        0.096098\n",
       "std         0.294747\n",
       "min         0.000000\n",
       "25%         0.000000\n",
       "50%         0.000000\n",
       "75%         0.000000\n",
       "max         1.000000\n",
       "Name: mortality_costs, dtype: float64"
      ]
     },
     "execution_count": 119,
     "metadata": {},
     "output_type": "execute_result"
    }
   ],
   "source": [
    "id_table_test_last_epoch['mortality_costs'].describe()"
   ]
  },
  {
   "cell_type": "code",
   "execution_count": 120,
   "metadata": {},
   "outputs": [
    {
     "data": {
      "text/plain": [
       "count    6868.000000\n",
       "mean        0.102941\n",
       "std         0.303904\n",
       "min         0.000000\n",
       "25%         0.000000\n",
       "50%         0.000000\n",
       "75%         0.000000\n",
       "max         1.000000\n",
       "Name: total_mr, dtype: float64"
      ]
     },
     "execution_count": 120,
     "metadata": {},
     "output_type": "execute_result"
    }
   ],
   "source": [
    "id_table_test_last_epoch['total_mr'].describe()"
   ]
  },
  {
   "cell_type": "code",
   "execution_count": 121,
   "metadata": {},
   "outputs": [
    {
     "data": {
      "text/plain": [
       "count    5996.000000\n",
       "mean        0.081388\n",
       "std         0.273452\n",
       "min         0.000000\n",
       "25%         0.000000\n",
       "50%         0.000000\n",
       "75%         0.000000\n",
       "max         1.000000\n",
       "Name: total_mr, dtype: float64"
      ]
     },
     "execution_count": 121,
     "metadata": {},
     "output_type": "execute_result"
    }
   ],
   "source": [
    "id_table_test_last_epoch[id_table_test_last_epoch['readmission_count'] == 0]['total_mr'].describe()"
   ]
  },
  {
   "cell_type": "code",
   "execution_count": 122,
   "metadata": {},
   "outputs": [
    {
     "data": {
      "text/plain": [
       "count    5996.000000\n",
       "mean        0.076217\n",
       "std         0.265368\n",
       "min         0.000000\n",
       "25%         0.000000\n",
       "50%         0.000000\n",
       "75%         0.000000\n",
       "max         1.000000\n",
       "Name: mortality_costs, dtype: float64"
      ]
     },
     "execution_count": 122,
     "metadata": {},
     "output_type": "execute_result"
    }
   ],
   "source": [
    "id_table_test_last_epoch[id_table_test_last_epoch['readmission_count'] == 0]['mortality_costs'].describe()"
   ]
  },
  {
   "cell_type": "code",
   "execution_count": 123,
   "metadata": {},
   "outputs": [
    {
     "data": {
      "text/plain": [
       "count    715.000000\n",
       "mean       0.230769\n",
       "std        0.421620\n",
       "min        0.000000\n",
       "25%        0.000000\n",
       "50%        0.000000\n",
       "75%        0.000000\n",
       "max        1.000000\n",
       "Name: total_mr, dtype: float64"
      ]
     },
     "execution_count": 123,
     "metadata": {},
     "output_type": "execute_result"
    }
   ],
   "source": [
    "id_table_test_last_epoch[id_table_test_last_epoch['readmission_count'] == 1]['total_mr'].describe()"
   ]
  },
  {
   "cell_type": "code",
   "execution_count": 124,
   "metadata": {},
   "outputs": [
    {
     "data": {
      "text/plain": [
       "count    715.000000\n",
       "mean       0.220979\n",
       "std        0.415197\n",
       "min        0.000000\n",
       "25%        0.000000\n",
       "50%        0.000000\n",
       "75%        0.000000\n",
       "max        1.000000\n",
       "Name: mortality_costs, dtype: float64"
      ]
     },
     "execution_count": 124,
     "metadata": {},
     "output_type": "execute_result"
    }
   ],
   "source": [
    "id_table_test_last_epoch[id_table_test_last_epoch['readmission_count'] == 1]['mortality_costs'].describe()"
   ]
  },
  {
   "cell_type": "code",
   "execution_count": 125,
   "metadata": {},
   "outputs": [
    {
     "data": {
      "text/plain": [
       "count    122.000000\n",
       "mean       0.270492\n",
       "std        0.446046\n",
       "min        0.000000\n",
       "25%        0.000000\n",
       "50%        0.000000\n",
       "75%        1.000000\n",
       "max        1.000000\n",
       "Name: total_mr, dtype: float64"
      ]
     },
     "execution_count": 125,
     "metadata": {},
     "output_type": "execute_result"
    }
   ],
   "source": [
    "id_table_test_last_epoch[id_table_test_last_epoch['readmission_count'] == 2]['total_mr'].describe()"
   ]
  },
  {
   "cell_type": "code",
   "execution_count": 126,
   "metadata": {},
   "outputs": [
    {
     "data": {
      "text/plain": [
       "count    122.000000\n",
       "mean       0.221311\n",
       "std        0.416842\n",
       "min        0.000000\n",
       "25%        0.000000\n",
       "50%        0.000000\n",
       "75%        0.000000\n",
       "max        1.000000\n",
       "Name: mortality_costs, dtype: float64"
      ]
     },
     "execution_count": 126,
     "metadata": {},
     "output_type": "execute_result"
    }
   ],
   "source": [
    "id_table_test_last_epoch[id_table_test_last_epoch['readmission_count'] == 2]['mortality_costs'].describe()"
   ]
  },
  {
   "cell_type": "code",
   "execution_count": 127,
   "metadata": {},
   "outputs": [
    {
     "data": {
      "text/plain": [
       "count    23.000000\n",
       "mean      0.521739\n",
       "std       0.510754\n",
       "min       0.000000\n",
       "25%       0.000000\n",
       "50%       1.000000\n",
       "75%       1.000000\n",
       "max       1.000000\n",
       "Name: total_mr, dtype: float64"
      ]
     },
     "execution_count": 127,
     "metadata": {},
     "output_type": "execute_result"
    }
   ],
   "source": [
    "id_table_test_last_epoch[id_table_test_last_epoch['readmission_count'] == 3]['total_mr'].describe()"
   ]
  },
  {
   "cell_type": "code",
   "execution_count": 128,
   "metadata": {},
   "outputs": [
    {
     "data": {
      "text/plain": [
       "count    23.000000\n",
       "mean      0.434783\n",
       "std       0.506870\n",
       "min       0.000000\n",
       "25%       0.000000\n",
       "50%       0.000000\n",
       "75%       1.000000\n",
       "max       1.000000\n",
       "Name: mortality_costs, dtype: float64"
      ]
     },
     "execution_count": 128,
     "metadata": {},
     "output_type": "execute_result"
    }
   ],
   "source": [
    "id_table_test_last_epoch[id_table_test_last_epoch['readmission_count'] == 3]['mortality_costs'].describe()"
   ]
  },
  {
   "cell_type": "code",
   "execution_count": 129,
   "metadata": {},
   "outputs": [],
   "source": [
    "# (100 + np.mean(id_table_train_last_epoch['total_mr']))/200"
   ]
  },
  {
   "cell_type": "code",
   "execution_count": 130,
   "metadata": {},
   "outputs": [],
   "source": [
    "# (100 + np.mean(id_table_test_last_epoch['total_mr']))/200"
   ]
  },
  {
   "cell_type": "code",
   "execution_count": 131,
   "metadata": {},
   "outputs": [
    {
     "data": {
      "text/plain": [
       "[0.10494490483562517, 0.11177325581395349, 0.10294117647058823]"
      ]
     },
     "execution_count": 131,
     "metadata": {},
     "output_type": "execute_result"
    }
   ],
   "source": [
    "[np.mean(id_table_train_last_epoch['total_mr']), \n",
    " np.mean(id_table_val_last_epoch['total_mr']),\n",
    " np.mean(id_table_test_last_epoch['total_mr'])]"
   ]
  },
  {
   "cell_type": "code",
   "execution_count": 132,
   "metadata": {},
   "outputs": [
    {
     "data": {
      "text/plain": [
       "[0.08193878616943487, 0.0883439704400403, 0.08138759172781855]"
      ]
     },
     "execution_count": 132,
     "metadata": {},
     "output_type": "execute_result"
    }
   ],
   "source": [
    "[np.mean(id_table_train_last_epoch[id_table_train_last_epoch['readmission_count'] == 0]['total_mr']), \n",
    " np.mean(id_table_val_last_epoch[id_table_val_last_epoch['readmission_count'] == 0]['total_mr']),\n",
    " np.mean(id_table_test_last_epoch[id_table_test_last_epoch['readmission_count'] == 0]['total_mr'])]"
   ]
  },
  {
   "cell_type": "code",
   "execution_count": null,
   "metadata": {
    "jupyter": {
     "source_hidden": true
    }
   },
   "outputs": [],
   "source": [
    "# # Basic groupby with multiple aggregation functions\n",
    "# stats = id_table_train_last_epoch.groupby('readmission_count')['mortality_costs'].agg([\n",
    "#     'count',\n",
    "#     'mean',\n",
    "#     'std',\n",
    "#     'median',\n",
    "#     'min',\n",
    "#     'max'\n",
    "# ]).round(2)\n",
    "\n",
    "# # Add confidence intervals\n",
    "# def ci_95(x):\n",
    "#     return 1.96 * x.std() / np.sqrt(len(x))\n",
    "\n",
    "# enhanced_stats = id_table_train_last_epoch.groupby('readmission_count')['mortality_costs'].agg([\n",
    "#     'count',\n",
    "#     'mean',\n",
    "#     'std',\n",
    "#     'median',\n",
    "#     ci_95,\n",
    "# ]).round(2)\n",
    "\n",
    "# # Rename columns for clarity\n",
    "# enhanced_stats.columns = ['Count', 'Mean', 'Std Dev', 'Median', '95% CI']"
   ]
  },
  {
   "cell_type": "code",
   "execution_count": null,
   "metadata": {
    "jupyter": {
     "source_hidden": true
    }
   },
   "outputs": [],
   "source": [
    "# print(\"\\nDescriptive Statistics for Mortality Risk Costs by Readmission Count:\")\n",
    "# print(enhanced_stats)"
   ]
  },
  {
   "cell_type": "markdown",
   "metadata": {},
   "source": [
    "- Pearson Correlation Coefficient"
   ]
  },
  {
   "cell_type": "code",
   "execution_count": null,
   "metadata": {},
   "outputs": [],
   "source": [
    "id_table_train_last_epoch.columns"
   ]
  },
  {
   "cell_type": "code",
   "execution_count": null,
   "metadata": {},
   "outputs": [],
   "source": [
    "correlation = id_table_train_last_epoch['total_mr'].corr(id_table_train_last_epoch['total_rr'], method = 'pearson')\n",
    "\n",
    "correlation_matrix = id_table_train_last_epoch[['total_mr', 'total_rr']].corr(method = 'pearson')"
   ]
  },
  {
   "cell_type": "code",
   "execution_count": null,
   "metadata": {},
   "outputs": [],
   "source": [
    "print(correlation)"
   ]
  },
  {
   "cell_type": "code",
   "execution_count": null,
   "metadata": {},
   "outputs": [],
   "source": [
    "correlation_matrix"
   ]
  },
  {
   "cell_type": "code",
   "execution_count": null,
   "metadata": {
    "scrolled": true
   },
   "outputs": [],
   "source": [
    "id_table_train_last_epoch['total_los_costs_1'] = id_table_train_first_epoch['total_los_costs'].copy()\n",
    "id_table_train_last_epoch['total_los_costs_scaled_1'] = id_table_train_first_epoch['total_los_costs_scaled'].copy()"
   ]
  },
  {
   "cell_type": "code",
   "execution_count": null,
   "metadata": {},
   "outputs": [],
   "source": [
    "correlation = id_table_train_last_epoch['total_mr'].corr(id_table_train_last_epoch['total_los_costs_1'], method = 'pearson')\n",
    "\n",
    "correlation_matrix = id_table_train_last_epoch[['total_mr', 'total_los_costs_1']].corr(method = 'pearson')"
   ]
  },
  {
   "cell_type": "code",
   "execution_count": null,
   "metadata": {},
   "outputs": [],
   "source": [
    "print(correlation)"
   ]
  },
  {
   "cell_type": "code",
   "execution_count": null,
   "metadata": {},
   "outputs": [],
   "source": [
    "correlation = id_table_train_last_epoch['total_mr'].corr(id_table_train_last_epoch['total_los_costs_scaled_1'], method = 'pearson')\n",
    "\n",
    "correlation_matrix = id_table_train_last_epoch[['total_mr', 'total_los_costs_scaled_1']].corr(method = 'pearson')"
   ]
  },
  {
   "cell_type": "code",
   "execution_count": null,
   "metadata": {},
   "outputs": [],
   "source": [
    "print(correlation)"
   ]
  },
  {
   "cell_type": "markdown",
   "metadata": {},
   "source": [
    "-  Plot"
   ]
  },
  {
   "cell_type": "code",
   "execution_count": null,
   "metadata": {},
   "outputs": [],
   "source": [
    "# plt.figure(figsize=(10, 6))\n",
    "# sns.violinplot(x = 'total_rr', y = 'total_mr', data = id_table_train_last_epoch)\n",
    "# # plt.title('Scatter Plot using Seaborn')\n",
    "# plt.grid(True, linestyle = '--', alpha = 0.7)\n",
    "# plt.show()"
   ]
  },
  {
   "cell_type": "code",
   "execution_count": null,
   "metadata": {},
   "outputs": [],
   "source": [
    "plt.figure(figsize=(10, 6))\n",
    "sns.barplot(x = 'total_rr', y = 'total_mr', data = id_table_train_last_epoch[id_table_train_last_epoch['readmission_count'] == 0])\n",
    "# plt.title('Scatter Plot using Seaborn')\n",
    "\n",
    "plt.xlabel(\"Cumulative Readmission Risk Costs\")\n",
    "plt.ylabel(\"Cumulative Mortality Risk Costs\")\n",
    "plt.grid(True, linestyle = '--', alpha = 0.7)\n",
    "\n",
    "# plt.savefig(\"../Experiment Figure/EDA_figures/mortality_readmission_cost_relationship.png\", \n",
    "#             dpi = 300, \n",
    "#             bbox_inches = 'tight')\n",
    "\n",
    "plt.show()"
   ]
  },
  {
   "cell_type": "code",
   "execution_count": null,
   "metadata": {},
   "outputs": [],
   "source": [
    "plt.figure(figsize=(10, 6))\n",
    "sns.barplot(x = 'total_rr', y = 'total_los_costs_1', data = id_table_train_last_epoch[id_table_train_last_epoch['readmission_count'] == 0])\n",
    "# plt.title('Scatter Plot using Seaborn')\n",
    "\n",
    "plt.xlabel(\"Cumulative Readmission Risk Costs\")\n",
    "plt.ylabel(\"Cumulative Mortality Risk Costs\")\n",
    "plt.grid(True, linestyle = '--', alpha = 0.7)\n",
    "\n",
    "# plt.savefig(\"../Experiment Figure/EDA_figures/mortality_readmission_cost_relationship.png\", \n",
    "#             dpi = 300, \n",
    "#             bbox_inches = 'tight')\n",
    "\n",
    "plt.show()"
   ]
  },
  {
   "cell_type": "code",
   "execution_count": null,
   "metadata": {},
   "outputs": [],
   "source": [
    "np.mean(id_table_test_last_epoch[id_table_test_last_epoch['total_rr'] == 0.0]['total_mr'])"
   ]
  },
  {
   "cell_type": "code",
   "execution_count": null,
   "metadata": {},
   "outputs": [],
   "source": [
    "Counter(id_table_train_last_epoch['total_rr'])"
   ]
  },
  {
   "cell_type": "code",
   "execution_count": null,
   "metadata": {},
   "outputs": [],
   "source": [
    "Counter(id_table_train_last_epoch['total_mr'])"
   ]
  },
  {
   "cell_type": "code",
   "execution_count": null,
   "metadata": {},
   "outputs": [],
   "source": [
    "id_table_train.groupby('qSOFA')['discharge_action'].agg(['count', 'mean', 'std']).round(3)"
   ]
  },
  {
   "cell_type": "code",
   "execution_count": null,
   "metadata": {},
   "outputs": [],
   "source": [
    "id_table_train.groupby('discharge_action')['qSOFA'].agg(['count', 'mean', 'std']).round(3)"
   ]
  },
  {
   "cell_type": "code",
   "execution_count": null,
   "metadata": {},
   "outputs": [],
   "source": []
  },
  {
   "cell_type": "code",
   "execution_count": null,
   "metadata": {},
   "outputs": [],
   "source": []
  },
  {
   "cell_type": "code",
   "execution_count": null,
   "metadata": {},
   "outputs": [],
   "source": []
  },
  {
   "cell_type": "code",
   "execution_count": null,
   "metadata": {},
   "outputs": [],
   "source": []
  },
  {
   "cell_type": "code",
   "execution_count": null,
   "metadata": {},
   "outputs": [],
   "source": []
  },
  {
   "cell_type": "code",
   "execution_count": null,
   "metadata": {},
   "outputs": [],
   "source": []
  },
  {
   "cell_type": "code",
   "execution_count": null,
   "metadata": {},
   "outputs": [],
   "source": []
  },
  {
   "cell_type": "code",
   "execution_count": null,
   "metadata": {},
   "outputs": [],
   "source": []
  },
  {
   "cell_type": "code",
   "execution_count": null,
   "metadata": {},
   "outputs": [],
   "source": []
  },
  {
   "cell_type": "code",
   "execution_count": null,
   "metadata": {},
   "outputs": [],
   "source": []
  },
  {
   "cell_type": "code",
   "execution_count": null,
   "metadata": {},
   "outputs": [],
   "source": []
  },
  {
   "cell_type": "code",
   "execution_count": null,
   "metadata": {},
   "outputs": [],
   "source": []
  },
  {
   "cell_type": "code",
   "execution_count": null,
   "metadata": {},
   "outputs": [],
   "source": []
  },
  {
   "cell_type": "code",
   "execution_count": null,
   "metadata": {},
   "outputs": [],
   "source": [
    "int(1) == 1.0"
   ]
  },
  {
   "cell_type": "code",
   "execution_count": null,
   "metadata": {},
   "outputs": [],
   "source": [
    "0 < np.nan"
   ]
  },
  {
   "cell_type": "code",
   "execution_count": null,
   "metadata": {},
   "outputs": [],
   "source": [
    "1 > np.nan"
   ]
  },
  {
   "cell_type": "code",
   "execution_count": null,
   "metadata": {},
   "outputs": [],
   "source": [
    "Counter(id_table_train['los_costs'])"
   ]
  },
  {
   "cell_type": "code",
   "execution_count": null,
   "metadata": {},
   "outputs": [],
   "source": [
    "np.array([12, 6, 3, 1.5, 0.75])"
   ]
  },
  {
   "cell_type": "code",
   "execution_count": null,
   "metadata": {},
   "outputs": [],
   "source": [
    "data = np.array([12, 6, 3, 1.5, 0.75, 0.75])\n",
    "labels = [0, 1, 2, 3, 4, 5]\n",
    "\n",
    "plt.figure(figsize=(8, 4))\n",
    "plt.bar(labels, data, color='skyblue', edgecolor='black')\n",
    "plt.title(\"Value at Each Step (Halving Pattern)\", fontsize=12)\n",
    "plt.xlabel(\"Step\", fontweight='bold')\n",
    "plt.ylabel(\"Value\", fontweight='bold')\n",
    "plt.grid(axis='y', linestyle='--', alpha=0.7)\n",
    "\n",
    "# Add value labels on top of bars\n",
    "for i, val in enumerate(data):\n",
    "    plt.text(i, val + 0.1, f\"{val}\", ha='center', fontsize=10)\n",
    "\n",
    "plt.show()"
   ]
  },
  {
   "cell_type": "code",
   "execution_count": null,
   "metadata": {},
   "outputs": [],
   "source": [
    "plt.figure(figsize=(6, 4))\n",
    "\n",
    "plt.plot(labels, data, marker = 'o', color = '#E74C3C', linewidth = 2, markersize = 8)\n",
    "# plt.title(\"Exponential Decay Trend\", fontsize = 10)\n",
    "plt.xlabel(\"Number of Readmissions (r)\", fontweight = 'bold')\n",
    "plt.ylabel(r\"$H(r)$\", fontweight = 'bold')\n",
    "# plt.yscale('log')  # Use log scale if decay is exponential\n",
    "plt.grid(True, which = 'both', linestyle = '--', alpha = 0.5)\n",
    "\n",
    "plt.savefig(\"../Experiment Figure/EDA_figures/immediate_rr_function.png\", \n",
    "            dpi = 300, \n",
    "            bbox_inches = 'tight')\n",
    "\n",
    "plt.show()"
   ]
  },
  {
   "cell_type": "code",
   "execution_count": null,
   "metadata": {},
   "outputs": [],
   "source": []
  },
  {
   "cell_type": "code",
   "execution_count": null,
   "metadata": {},
   "outputs": [],
   "source": []
  },
  {
   "cell_type": "code",
   "execution_count": null,
   "metadata": {},
   "outputs": [],
   "source": []
  },
  {
   "cell_type": "code",
   "execution_count": null,
   "metadata": {},
   "outputs": [],
   "source": []
  }
 ],
 "metadata": {
  "kernelspec": {
   "display_name": "daipham",
   "language": "python",
   "name": "python3"
  },
  "language_info": {
   "codemirror_mode": {
    "name": "ipython",
    "version": 3
   },
   "file_extension": ".py",
   "mimetype": "text/x-python",
   "name": "python",
   "nbconvert_exporter": "python",
   "pygments_lexer": "ipython3",
   "version": "3.11.4"
  }
 },
 "nbformat": 4,
 "nbformat_minor": 4
}
