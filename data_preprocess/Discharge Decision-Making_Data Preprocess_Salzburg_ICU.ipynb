{
 "cells": [
  {
   "cell_type": "markdown",
   "id": "3a559414",
   "metadata": {},
   "source": [
    "# Salzburg ICU Data Preprocessing"
   ]
  },
  {
   "cell_type": "code",
   "execution_count": 1,
   "id": "5892d070",
   "metadata": {},
   "outputs": [],
   "source": [
    "import pandas as pd\n",
    "from collections import Counter\n",
    "\n",
    "import dask.array as da \n",
    "import dask.dataframe as dd\n",
    "from dask.diagnostics import ProgressBar\n",
    "\n",
    "import numpy as np\n",
    "\n",
    "from multiprocessing import Pool\n",
    "\n",
    "from sklearn.impute import KNNImputer\n",
    "from sklearn.impute import SimpleImputer\n",
    "\n",
    "from sklearn.preprocessing import StandardScaler, MinMaxScaler\n",
    "\n",
    "import math\n",
    "\n",
    "from tqdm import tqdm\n",
    "import time"
   ]
  },
  {
   "cell_type": "code",
   "execution_count": 2,
   "id": "faab1817",
   "metadata": {},
   "outputs": [],
   "source": [
    "import warnings\n",
    "warnings.filterwarnings('ignore')"
   ]
  },
  {
   "cell_type": "code",
   "execution_count": 3,
   "id": "5b83708d-ae6b-4ea2-8464-b26df9f07c2f",
   "metadata": {},
   "outputs": [],
   "source": [
    "case_data = pd.read_csv('../icu_data/salzburg/cases.csv.gz', compression = 'gzip')\n",
    "d_reference = pd.read_csv('../icu_data/salzburg/d_references.csv.gz', compression = 'gzip')\n",
    "data_float = pd.read_csv('../icu_data/salzburg/data_float_h.csv.gz', compression = 'gzip')\n",
    "data_range = pd.read_csv('../icu_data/salzburg/data_range.csv.gz', compression = 'gzip')\n",
    "data_ref = pd.read_csv('../icu_data/salzburg/data_ref.csv.gz', compression = 'gzip')\n",
    "lab_data = pd.read_csv('../icu_data/salzburg/laboratory.csv.gz', compression = 'gzip')\n",
    "medication_data = pd.read_csv('../icu_data/salzburg/medication.csv.gz', compression = 'gzip')\n",
    "unit_log_data = pd.read_csv('../icu_data/salzburg/unitlog.csv.gz', compression = 'gzip')"
   ]
  },
  {
   "cell_type": "code",
   "execution_count": 4,
   "id": "727d89d7",
   "metadata": {},
   "outputs": [
    {
     "data": {
      "text/html": [
       "<div>\n",
       "<style scoped>\n",
       "    .dataframe tbody tr th:only-of-type {\n",
       "        vertical-align: middle;\n",
       "    }\n",
       "\n",
       "    .dataframe tbody tr th {\n",
       "        vertical-align: top;\n",
       "    }\n",
       "\n",
       "    .dataframe thead th {\n",
       "        text-align: right;\n",
       "    }\n",
       "</style>\n",
       "<table border=\"1\" class=\"dataframe\">\n",
       "  <thead>\n",
       "    <tr style=\"text-align: right;\">\n",
       "      <th></th>\n",
       "      <th>CaseID</th>\n",
       "      <th>PatientID</th>\n",
       "      <th>AdmissionYear</th>\n",
       "      <th>TimeOfStay</th>\n",
       "      <th>ICUOffset</th>\n",
       "      <th>saps3</th>\n",
       "      <th>HospitalDischargeType</th>\n",
       "      <th>HospitalDischargeDay</th>\n",
       "      <th>HospitalStayDays</th>\n",
       "      <th>DischargeState</th>\n",
       "      <th>...</th>\n",
       "      <th>AdmissionUrgency</th>\n",
       "      <th>AdmissionFormHasSepsis</th>\n",
       "      <th>SurgicalAdmissionType</th>\n",
       "      <th>OrbisDataAvailable</th>\n",
       "      <th>HeartSurgeryAdditionalData</th>\n",
       "      <th>HeartSurgeryCPBTime</th>\n",
       "      <th>HeartSurgeryCrossClampTime</th>\n",
       "      <th>HeartSurgeryBeginOffset</th>\n",
       "      <th>HeartSurgeryEndOffset</th>\n",
       "      <th>OffsetAfterFirstAdmission</th>\n",
       "    </tr>\n",
       "  </thead>\n",
       "  <tbody>\n",
       "    <tr>\n",
       "      <th>0</th>\n",
       "      <td>100023</td>\n",
       "      <td>163229</td>\n",
       "      <td>2016</td>\n",
       "      <td>17100</td>\n",
       "      <td>0</td>\n",
       "      <td>58</td>\n",
       "      <td>3130.0</td>\n",
       "      <td>2.0</td>\n",
       "      <td>2.0</td>\n",
       "      <td>2202</td>\n",
       "      <td>...</td>\n",
       "      <td>3137</td>\n",
       "      <td>738</td>\n",
       "      <td>3127</td>\n",
       "      <td>740</td>\n",
       "      <td>738</td>\n",
       "      <td>NaN</td>\n",
       "      <td>NaN</td>\n",
       "      <td>NaN</td>\n",
       "      <td>NaN</td>\n",
       "      <td>0</td>\n",
       "    </tr>\n",
       "    <tr>\n",
       "      <th>1</th>\n",
       "      <td>100027</td>\n",
       "      <td>541172</td>\n",
       "      <td>2016</td>\n",
       "      <td>273600</td>\n",
       "      <td>0</td>\n",
       "      <td>46</td>\n",
       "      <td>3129.0</td>\n",
       "      <td>3.0</td>\n",
       "      <td>6.0</td>\n",
       "      <td>2202</td>\n",
       "      <td>...</td>\n",
       "      <td>3137</td>\n",
       "      <td>738</td>\n",
       "      <td>3127</td>\n",
       "      <td>740</td>\n",
       "      <td>738</td>\n",
       "      <td>NaN</td>\n",
       "      <td>NaN</td>\n",
       "      <td>NaN</td>\n",
       "      <td>NaN</td>\n",
       "      <td>0</td>\n",
       "    </tr>\n",
       "    <tr>\n",
       "      <th>2</th>\n",
       "      <td>100066</td>\n",
       "      <td>151137</td>\n",
       "      <td>2017</td>\n",
       "      <td>475200</td>\n",
       "      <td>0</td>\n",
       "      <td>43</td>\n",
       "      <td>3131.0</td>\n",
       "      <td>6.0</td>\n",
       "      <td>6.0</td>\n",
       "      <td>2202</td>\n",
       "      <td>...</td>\n",
       "      <td>3137</td>\n",
       "      <td>738</td>\n",
       "      <td>3127</td>\n",
       "      <td>740</td>\n",
       "      <td>738</td>\n",
       "      <td>NaN</td>\n",
       "      <td>NaN</td>\n",
       "      <td>NaN</td>\n",
       "      <td>NaN</td>\n",
       "      <td>0</td>\n",
       "    </tr>\n",
       "    <tr>\n",
       "      <th>3</th>\n",
       "      <td>100097</td>\n",
       "      <td>947681</td>\n",
       "      <td>2016</td>\n",
       "      <td>79140</td>\n",
       "      <td>0</td>\n",
       "      <td>21</td>\n",
       "      <td>3129.0</td>\n",
       "      <td>4.0</td>\n",
       "      <td>8.0</td>\n",
       "      <td>2202</td>\n",
       "      <td>...</td>\n",
       "      <td>3138</td>\n",
       "      <td>738</td>\n",
       "      <td>3126</td>\n",
       "      <td>740</td>\n",
       "      <td>738</td>\n",
       "      <td>NaN</td>\n",
       "      <td>NaN</td>\n",
       "      <td>NaN</td>\n",
       "      <td>NaN</td>\n",
       "      <td>0</td>\n",
       "    </tr>\n",
       "    <tr>\n",
       "      <th>4</th>\n",
       "      <td>100130</td>\n",
       "      <td>717997</td>\n",
       "      <td>2019</td>\n",
       "      <td>64800</td>\n",
       "      <td>0</td>\n",
       "      <td>60</td>\n",
       "      <td>3131.0</td>\n",
       "      <td>44.0</td>\n",
       "      <td>44.0</td>\n",
       "      <td>2202</td>\n",
       "      <td>...</td>\n",
       "      <td>3137</td>\n",
       "      <td>740</td>\n",
       "      <td>3127</td>\n",
       "      <td>740</td>\n",
       "      <td>738</td>\n",
       "      <td>NaN</td>\n",
       "      <td>NaN</td>\n",
       "      <td>NaN</td>\n",
       "      <td>NaN</td>\n",
       "      <td>69481020</td>\n",
       "    </tr>\n",
       "    <tr>\n",
       "      <th>...</th>\n",
       "      <td>...</td>\n",
       "      <td>...</td>\n",
       "      <td>...</td>\n",
       "      <td>...</td>\n",
       "      <td>...</td>\n",
       "      <td>...</td>\n",
       "      <td>...</td>\n",
       "      <td>...</td>\n",
       "      <td>...</td>\n",
       "      <td>...</td>\n",
       "      <td>...</td>\n",
       "      <td>...</td>\n",
       "      <td>...</td>\n",
       "      <td>...</td>\n",
       "      <td>...</td>\n",
       "      <td>...</td>\n",
       "      <td>...</td>\n",
       "      <td>...</td>\n",
       "      <td>...</td>\n",
       "      <td>...</td>\n",
       "      <td>...</td>\n",
       "    </tr>\n",
       "    <tr>\n",
       "      <th>27345</th>\n",
       "      <td>999924</td>\n",
       "      <td>787696</td>\n",
       "      <td>2015</td>\n",
       "      <td>435600</td>\n",
       "      <td>16740</td>\n",
       "      <td>43</td>\n",
       "      <td>3131.0</td>\n",
       "      <td>7.0</td>\n",
       "      <td>12.0</td>\n",
       "      <td>2202</td>\n",
       "      <td>...</td>\n",
       "      <td>3138</td>\n",
       "      <td>738</td>\n",
       "      <td>3126</td>\n",
       "      <td>740</td>\n",
       "      <td>738</td>\n",
       "      <td>NaN</td>\n",
       "      <td>NaN</td>\n",
       "      <td>NaN</td>\n",
       "      <td>NaN</td>\n",
       "      <td>0</td>\n",
       "    </tr>\n",
       "    <tr>\n",
       "      <th>27346</th>\n",
       "      <td>999926</td>\n",
       "      <td>464697</td>\n",
       "      <td>2017</td>\n",
       "      <td>266940</td>\n",
       "      <td>31440</td>\n",
       "      <td>49</td>\n",
       "      <td>3129.0</td>\n",
       "      <td>11.0</td>\n",
       "      <td>16.0</td>\n",
       "      <td>2202</td>\n",
       "      <td>...</td>\n",
       "      <td>3138</td>\n",
       "      <td>738</td>\n",
       "      <td>3126</td>\n",
       "      <td>740</td>\n",
       "      <td>738</td>\n",
       "      <td>NaN</td>\n",
       "      <td>NaN</td>\n",
       "      <td>NaN</td>\n",
       "      <td>NaN</td>\n",
       "      <td>0</td>\n",
       "    </tr>\n",
       "    <tr>\n",
       "      <th>27347</th>\n",
       "      <td>999934</td>\n",
       "      <td>324646</td>\n",
       "      <td>2019</td>\n",
       "      <td>201600</td>\n",
       "      <td>0</td>\n",
       "      <td>34</td>\n",
       "      <td>3129.0</td>\n",
       "      <td>9.0</td>\n",
       "      <td>9.0</td>\n",
       "      <td>2212</td>\n",
       "      <td>...</td>\n",
       "      <td>3136</td>\n",
       "      <td>738</td>\n",
       "      <td>3124</td>\n",
       "      <td>740</td>\n",
       "      <td>738</td>\n",
       "      <td>NaN</td>\n",
       "      <td>NaN</td>\n",
       "      <td>NaN</td>\n",
       "      <td>NaN</td>\n",
       "      <td>0</td>\n",
       "    </tr>\n",
       "    <tr>\n",
       "      <th>27348</th>\n",
       "      <td>999947</td>\n",
       "      <td>850335</td>\n",
       "      <td>2017</td>\n",
       "      <td>507600</td>\n",
       "      <td>22500</td>\n",
       "      <td>77</td>\n",
       "      <td>3129.0</td>\n",
       "      <td>24.0</td>\n",
       "      <td>25.0</td>\n",
       "      <td>2202</td>\n",
       "      <td>...</td>\n",
       "      <td>3137</td>\n",
       "      <td>738</td>\n",
       "      <td>3125</td>\n",
       "      <td>740</td>\n",
       "      <td>740</td>\n",
       "      <td>189.0</td>\n",
       "      <td>143.0</td>\n",
       "      <td>3780.0</td>\n",
       "      <td>22500.0</td>\n",
       "      <td>99783540</td>\n",
       "    </tr>\n",
       "    <tr>\n",
       "      <th>27349</th>\n",
       "      <td>999963</td>\n",
       "      <td>667335</td>\n",
       "      <td>2021</td>\n",
       "      <td>349560</td>\n",
       "      <td>69900</td>\n",
       "      <td>34</td>\n",
       "      <td>3129.0</td>\n",
       "      <td>15.0</td>\n",
       "      <td>17.0</td>\n",
       "      <td>2202</td>\n",
       "      <td>...</td>\n",
       "      <td>3138</td>\n",
       "      <td>738</td>\n",
       "      <td>3126</td>\n",
       "      <td>740</td>\n",
       "      <td>738</td>\n",
       "      <td>NaN</td>\n",
       "      <td>NaN</td>\n",
       "      <td>NaN</td>\n",
       "      <td>NaN</td>\n",
       "      <td>42508440</td>\n",
       "    </tr>\n",
       "  </tbody>\n",
       "</table>\n",
       "<p>27350 rows × 34 columns</p>\n",
       "</div>"
      ],
      "text/plain": [
       "       CaseID  PatientID  AdmissionYear  TimeOfStay  ICUOffset  saps3  \\\n",
       "0      100023     163229           2016       17100          0     58   \n",
       "1      100027     541172           2016      273600          0     46   \n",
       "2      100066     151137           2017      475200          0     43   \n",
       "3      100097     947681           2016       79140          0     21   \n",
       "4      100130     717997           2019       64800          0     60   \n",
       "...       ...        ...            ...         ...        ...    ...   \n",
       "27345  999924     787696           2015      435600      16740     43   \n",
       "27346  999926     464697           2017      266940      31440     49   \n",
       "27347  999934     324646           2019      201600          0     34   \n",
       "27348  999947     850335           2017      507600      22500     77   \n",
       "27349  999963     667335           2021      349560      69900     34   \n",
       "\n",
       "       HospitalDischargeType  HospitalDischargeDay  HospitalStayDays  \\\n",
       "0                     3130.0                   2.0               2.0   \n",
       "1                     3129.0                   3.0               6.0   \n",
       "2                     3131.0                   6.0               6.0   \n",
       "3                     3129.0                   4.0               8.0   \n",
       "4                     3131.0                  44.0              44.0   \n",
       "...                      ...                   ...               ...   \n",
       "27345                 3131.0                   7.0              12.0   \n",
       "27346                 3129.0                  11.0              16.0   \n",
       "27347                 3129.0                   9.0               9.0   \n",
       "27348                 3129.0                  24.0              25.0   \n",
       "27349                 3129.0                  15.0              17.0   \n",
       "\n",
       "       DischargeState  ...  AdmissionUrgency  AdmissionFormHasSepsis  \\\n",
       "0                2202  ...              3137                     738   \n",
       "1                2202  ...              3137                     738   \n",
       "2                2202  ...              3137                     738   \n",
       "3                2202  ...              3138                     738   \n",
       "4                2202  ...              3137                     740   \n",
       "...               ...  ...               ...                     ...   \n",
       "27345            2202  ...              3138                     738   \n",
       "27346            2202  ...              3138                     738   \n",
       "27347            2212  ...              3136                     738   \n",
       "27348            2202  ...              3137                     738   \n",
       "27349            2202  ...              3138                     738   \n",
       "\n",
       "       SurgicalAdmissionType  OrbisDataAvailable  HeartSurgeryAdditionalData  \\\n",
       "0                       3127                 740                         738   \n",
       "1                       3127                 740                         738   \n",
       "2                       3127                 740                         738   \n",
       "3                       3126                 740                         738   \n",
       "4                       3127                 740                         738   \n",
       "...                      ...                 ...                         ...   \n",
       "27345                   3126                 740                         738   \n",
       "27346                   3126                 740                         738   \n",
       "27347                   3124                 740                         738   \n",
       "27348                   3125                 740                         740   \n",
       "27349                   3126                 740                         738   \n",
       "\n",
       "       HeartSurgeryCPBTime  HeartSurgeryCrossClampTime  \\\n",
       "0                      NaN                         NaN   \n",
       "1                      NaN                         NaN   \n",
       "2                      NaN                         NaN   \n",
       "3                      NaN                         NaN   \n",
       "4                      NaN                         NaN   \n",
       "...                    ...                         ...   \n",
       "27345                  NaN                         NaN   \n",
       "27346                  NaN                         NaN   \n",
       "27347                  NaN                         NaN   \n",
       "27348                189.0                       143.0   \n",
       "27349                  NaN                         NaN   \n",
       "\n",
       "       HeartSurgeryBeginOffset  HeartSurgeryEndOffset  \\\n",
       "0                          NaN                    NaN   \n",
       "1                          NaN                    NaN   \n",
       "2                          NaN                    NaN   \n",
       "3                          NaN                    NaN   \n",
       "4                          NaN                    NaN   \n",
       "...                        ...                    ...   \n",
       "27345                      NaN                    NaN   \n",
       "27346                      NaN                    NaN   \n",
       "27347                      NaN                    NaN   \n",
       "27348                   3780.0                22500.0   \n",
       "27349                      NaN                    NaN   \n",
       "\n",
       "      OffsetAfterFirstAdmission  \n",
       "0                             0  \n",
       "1                             0  \n",
       "2                             0  \n",
       "3                             0  \n",
       "4                      69481020  \n",
       "...                         ...  \n",
       "27345                         0  \n",
       "27346                         0  \n",
       "27347                         0  \n",
       "27348                  99783540  \n",
       "27349                  42508440  \n",
       "\n",
       "[27350 rows x 34 columns]"
      ]
     },
     "execution_count": 4,
     "metadata": {},
     "output_type": "execute_result"
    }
   ],
   "source": [
    "case_data"
   ]
  },
  {
   "cell_type": "code",
   "execution_count": 5,
   "id": "30f8d309",
   "metadata": {
    "scrolled": true
   },
   "outputs": [
    {
     "data": {
      "text/html": [
       "<div>\n",
       "<style scoped>\n",
       "    .dataframe tbody tr th:only-of-type {\n",
       "        vertical-align: middle;\n",
       "    }\n",
       "\n",
       "    .dataframe tbody tr th {\n",
       "        vertical-align: top;\n",
       "    }\n",
       "\n",
       "    .dataframe thead th {\n",
       "        text-align: right;\n",
       "    }\n",
       "</style>\n",
       "<table border=\"1\" class=\"dataframe\">\n",
       "  <thead>\n",
       "    <tr style=\"text-align: right;\">\n",
       "      <th></th>\n",
       "      <th>ReferenceGlobalID</th>\n",
       "      <th>ReferenceValue</th>\n",
       "      <th>ReferenceName</th>\n",
       "      <th>ReferenceDescription</th>\n",
       "      <th>ReferenceUnit</th>\n",
       "      <th>ReferenceOrder</th>\n",
       "      <th>ReferenceType</th>\n",
       "      <th>Data</th>\n",
       "      <th>LOINC_code</th>\n",
       "      <th>LOINC_short</th>\n",
       "      <th>LOINC_long</th>\n",
       "    </tr>\n",
       "  </thead>\n",
       "  <tbody>\n",
       "    <tr>\n",
       "      <th>0</th>\n",
       "      <td>2</td>\n",
       "      <td>INIC</td>\n",
       "      <td>HospitalUnit</td>\n",
       "      <td>9 bed intermediate care ward</td>\n",
       "      <td>NaN</td>\n",
       "      <td>0</td>\n",
       "      <td>0.0</td>\n",
       "      <td>NaN</td>\n",
       "      <td>NaN</td>\n",
       "      <td>NaN</td>\n",
       "      <td>NaN</td>\n",
       "    </tr>\n",
       "    <tr>\n",
       "      <th>1</th>\n",
       "      <td>3</td>\n",
       "      <td>CWIN</td>\n",
       "      <td>HospitalUnit</td>\n",
       "      <td>14 bed intensive care ward</td>\n",
       "      <td>NaN</td>\n",
       "      <td>0</td>\n",
       "      <td>0.0</td>\n",
       "      <td>NaN</td>\n",
       "      <td>NaN</td>\n",
       "      <td>NaN</td>\n",
       "      <td>NaN</td>\n",
       "    </tr>\n",
       "    <tr>\n",
       "      <th>2</th>\n",
       "      <td>4</td>\n",
       "      <td>INBD</td>\n",
       "      <td>HospitalUnit</td>\n",
       "      <td>9 bed intensive care ward</td>\n",
       "      <td>NaN</td>\n",
       "      <td>0</td>\n",
       "      <td>0.0</td>\n",
       "      <td>NaN</td>\n",
       "      <td>NaN</td>\n",
       "      <td>NaN</td>\n",
       "      <td>NaN</td>\n",
       "    </tr>\n",
       "    <tr>\n",
       "      <th>3</th>\n",
       "      <td>5</td>\n",
       "      <td>INID</td>\n",
       "      <td>HospitalUnit</td>\n",
       "      <td>9 bed mixed ward (intermediate care, non-invas...</td>\n",
       "      <td>NaN</td>\n",
       "      <td>0</td>\n",
       "      <td>0.0</td>\n",
       "      <td>NaN</td>\n",
       "      <td>NaN</td>\n",
       "      <td>NaN</td>\n",
       "      <td>NaN</td>\n",
       "    </tr>\n",
       "    <tr>\n",
       "      <th>4</th>\n",
       "      <td>15</td>\n",
       "      <td>MVImporter</td>\n",
       "      <td>Importer</td>\n",
       "      <td>NaN</td>\n",
       "      <td>NaN</td>\n",
       "      <td>0</td>\n",
       "      <td>0.0</td>\n",
       "      <td>NaN</td>\n",
       "      <td>NaN</td>\n",
       "      <td>NaN</td>\n",
       "      <td>NaN</td>\n",
       "    </tr>\n",
       "    <tr>\n",
       "      <th>...</th>\n",
       "      <td>...</td>\n",
       "      <td>...</td>\n",
       "      <td>...</td>\n",
       "      <td>...</td>\n",
       "      <td>...</td>\n",
       "      <td>...</td>\n",
       "      <td>...</td>\n",
       "      <td>...</td>\n",
       "      <td>...</td>\n",
       "      <td>...</td>\n",
       "      <td>...</td>\n",
       "    </tr>\n",
       "    <tr>\n",
       "      <th>1617</th>\n",
       "      <td>3141</td>\n",
       "      <td>Oxyflow Flow</td>\n",
       "      <td>SignalFloat</td>\n",
       "      <td>NaN</td>\n",
       "      <td>NaN</td>\n",
       "      <td>0</td>\n",
       "      <td>NaN</td>\n",
       "      <td>NaN</td>\n",
       "      <td>NaN</td>\n",
       "      <td>NaN</td>\n",
       "      <td>NaN</td>\n",
       "    </tr>\n",
       "    <tr>\n",
       "      <th>1618</th>\n",
       "      <td>3142</td>\n",
       "      <td>Optiflow O2</td>\n",
       "      <td>SignalFloat</td>\n",
       "      <td>NaN</td>\n",
       "      <td>NaN</td>\n",
       "      <td>0</td>\n",
       "      <td>NaN</td>\n",
       "      <td>NaN</td>\n",
       "      <td>NaN</td>\n",
       "      <td>NaN</td>\n",
       "      <td>NaN</td>\n",
       "    </tr>\n",
       "    <tr>\n",
       "      <th>1619</th>\n",
       "      <td>3143</td>\n",
       "      <td>Optiflow Flow</td>\n",
       "      <td>SignalFloat</td>\n",
       "      <td>NaN</td>\n",
       "      <td>NaN</td>\n",
       "      <td>0</td>\n",
       "      <td>NaN</td>\n",
       "      <td>NaN</td>\n",
       "      <td>NaN</td>\n",
       "      <td>NaN</td>\n",
       "      <td>NaN</td>\n",
       "    </tr>\n",
       "    <tr>\n",
       "      <th>1620</th>\n",
       "      <td>3144</td>\n",
       "      <td>O2 Flow</td>\n",
       "      <td>SignalFloat</td>\n",
       "      <td>NaN</td>\n",
       "      <td>NaN</td>\n",
       "      <td>0</td>\n",
       "      <td>NaN</td>\n",
       "      <td>NaN</td>\n",
       "      <td>NaN</td>\n",
       "      <td>NaN</td>\n",
       "      <td>NaN</td>\n",
       "    </tr>\n",
       "    <tr>\n",
       "      <th>1621</th>\n",
       "      <td>3145</td>\n",
       "      <td>CAM-ICU</td>\n",
       "      <td>Scores</td>\n",
       "      <td>NaN</td>\n",
       "      <td>NaN</td>\n",
       "      <td>0</td>\n",
       "      <td>NaN</td>\n",
       "      <td>NaN</td>\n",
       "      <td>NaN</td>\n",
       "      <td>NaN</td>\n",
       "      <td>NaN</td>\n",
       "    </tr>\n",
       "  </tbody>\n",
       "</table>\n",
       "<p>1622 rows × 11 columns</p>\n",
       "</div>"
      ],
      "text/plain": [
       "      ReferenceGlobalID ReferenceValue ReferenceName  \\\n",
       "0                     2           INIC  HospitalUnit   \n",
       "1                     3           CWIN  HospitalUnit   \n",
       "2                     4           INBD  HospitalUnit   \n",
       "3                     5           INID  HospitalUnit   \n",
       "4                    15     MVImporter      Importer   \n",
       "...                 ...            ...           ...   \n",
       "1617               3141   Oxyflow Flow   SignalFloat   \n",
       "1618               3142    Optiflow O2   SignalFloat   \n",
       "1619               3143  Optiflow Flow   SignalFloat   \n",
       "1620               3144        O2 Flow   SignalFloat   \n",
       "1621               3145        CAM-ICU        Scores   \n",
       "\n",
       "                                   ReferenceDescription ReferenceUnit  \\\n",
       "0                          9 bed intermediate care ward           NaN   \n",
       "1                            14 bed intensive care ward           NaN   \n",
       "2                             9 bed intensive care ward           NaN   \n",
       "3     9 bed mixed ward (intermediate care, non-invas...           NaN   \n",
       "4                                                   NaN           NaN   \n",
       "...                                                 ...           ...   \n",
       "1617                                                NaN           NaN   \n",
       "1618                                                NaN           NaN   \n",
       "1619                                                NaN           NaN   \n",
       "1620                                                NaN           NaN   \n",
       "1621                                                NaN           NaN   \n",
       "\n",
       "      ReferenceOrder  ReferenceType  Data LOINC_code LOINC_short LOINC_long  \n",
       "0                  0            0.0   NaN        NaN         NaN        NaN  \n",
       "1                  0            0.0   NaN        NaN         NaN        NaN  \n",
       "2                  0            0.0   NaN        NaN         NaN        NaN  \n",
       "3                  0            0.0   NaN        NaN         NaN        NaN  \n",
       "4                  0            0.0   NaN        NaN         NaN        NaN  \n",
       "...              ...            ...   ...        ...         ...        ...  \n",
       "1617               0            NaN   NaN        NaN         NaN        NaN  \n",
       "1618               0            NaN   NaN        NaN         NaN        NaN  \n",
       "1619               0            NaN   NaN        NaN         NaN        NaN  \n",
       "1620               0            NaN   NaN        NaN         NaN        NaN  \n",
       "1621               0            NaN   NaN        NaN         NaN        NaN  \n",
       "\n",
       "[1622 rows x 11 columns]"
      ]
     },
     "execution_count": 5,
     "metadata": {},
     "output_type": "execute_result"
    }
   ],
   "source": [
    "d_reference"
   ]
  },
  {
   "cell_type": "code",
   "execution_count": 8,
   "id": "8ec9b960-efdc-4f7b-8efd-acb9834f5a24",
   "metadata": {},
   "outputs": [
    {
     "data": {
      "text/html": [
       "<div>\n",
       "<style scoped>\n",
       "    .dataframe tbody tr th:only-of-type {\n",
       "        vertical-align: middle;\n",
       "    }\n",
       "\n",
       "    .dataframe tbody tr th {\n",
       "        vertical-align: top;\n",
       "    }\n",
       "\n",
       "    .dataframe thead th {\n",
       "        text-align: right;\n",
       "    }\n",
       "</style>\n",
       "<table border=\"1\" class=\"dataframe\">\n",
       "  <thead>\n",
       "    <tr style=\"text-align: right;\">\n",
       "      <th></th>\n",
       "      <th>id</th>\n",
       "      <th>CaseID</th>\n",
       "      <th>DataID</th>\n",
       "      <th>Offset</th>\n",
       "      <th>Val</th>\n",
       "      <th>cnt</th>\n",
       "      <th>rawdata</th>\n",
       "    </tr>\n",
       "  </thead>\n",
       "  <tbody>\n",
       "    <tr>\n",
       "      <th>0</th>\n",
       "      <td>1</td>\n",
       "      <td>508837</td>\n",
       "      <td>724</td>\n",
       "      <td>0</td>\n",
       "      <td>83.4750</td>\n",
       "      <td>40</td>\n",
       "      <td>0x00000000000000000000B0420000A2420000A4420000...</td>\n",
       "    </tr>\n",
       "    <tr>\n",
       "      <th>1</th>\n",
       "      <td>2</td>\n",
       "      <td>508837</td>\n",
       "      <td>708</td>\n",
       "      <td>0</td>\n",
       "      <td>84.2500</td>\n",
       "      <td>40</td>\n",
       "      <td>0x00000000000000000000A4420000000000009E420000...</td>\n",
       "    </tr>\n",
       "    <tr>\n",
       "      <th>2</th>\n",
       "      <td>3</td>\n",
       "      <td>508837</td>\n",
       "      <td>710</td>\n",
       "      <td>0</td>\n",
       "      <td>96.4600</td>\n",
       "      <td>40</td>\n",
       "      <td>0x00000000000000003333AE4200000000CDCCC242CDCC...</td>\n",
       "    </tr>\n",
       "    <tr>\n",
       "      <th>3</th>\n",
       "      <td>4</td>\n",
       "      <td>508837</td>\n",
       "      <td>2274</td>\n",
       "      <td>0</td>\n",
       "      <td>18.2821</td>\n",
       "      <td>39</td>\n",
       "      <td>0x0000000000000000000098410000B8410000E8410000...</td>\n",
       "    </tr>\n",
       "    <tr>\n",
       "      <th>4</th>\n",
       "      <td>5</td>\n",
       "      <td>508837</td>\n",
       "      <td>707</td>\n",
       "      <td>0</td>\n",
       "      <td>83.5750</td>\n",
       "      <td>40</td>\n",
       "      <td>0x00000000000000000000AC420000A64200009A420000...</td>\n",
       "    </tr>\n",
       "    <tr>\n",
       "      <th>...</th>\n",
       "      <td>...</td>\n",
       "      <td>...</td>\n",
       "      <td>...</td>\n",
       "      <td>...</td>\n",
       "      <td>...</td>\n",
       "      <td>...</td>\n",
       "      <td>...</td>\n",
       "    </tr>\n",
       "    <tr>\n",
       "      <th>38033956</th>\n",
       "      <td>38206222</td>\n",
       "      <td>352487</td>\n",
       "      <td>3142</td>\n",
       "      <td>208800</td>\n",
       "      <td>45.0000</td>\n",
       "      <td>1</td>\n",
       "      <td>NaN</td>\n",
       "    </tr>\n",
       "    <tr>\n",
       "      <th>38033957</th>\n",
       "      <td>38206223</td>\n",
       "      <td>352487</td>\n",
       "      <td>3143</td>\n",
       "      <td>212400</td>\n",
       "      <td>40.0000</td>\n",
       "      <td>1</td>\n",
       "      <td>NaN</td>\n",
       "    </tr>\n",
       "    <tr>\n",
       "      <th>38033958</th>\n",
       "      <td>38206224</td>\n",
       "      <td>352487</td>\n",
       "      <td>3142</td>\n",
       "      <td>212400</td>\n",
       "      <td>40.0000</td>\n",
       "      <td>1</td>\n",
       "      <td>NaN</td>\n",
       "    </tr>\n",
       "    <tr>\n",
       "      <th>38033959</th>\n",
       "      <td>38206225</td>\n",
       "      <td>352487</td>\n",
       "      <td>3142</td>\n",
       "      <td>219600</td>\n",
       "      <td>45.0000</td>\n",
       "      <td>1</td>\n",
       "      <td>NaN</td>\n",
       "    </tr>\n",
       "    <tr>\n",
       "      <th>38033960</th>\n",
       "      <td>38206226</td>\n",
       "      <td>352487</td>\n",
       "      <td>3143</td>\n",
       "      <td>219600</td>\n",
       "      <td>45.0000</td>\n",
       "      <td>1</td>\n",
       "      <td>NaN</td>\n",
       "    </tr>\n",
       "  </tbody>\n",
       "</table>\n",
       "<p>38033961 rows × 7 columns</p>\n",
       "</div>"
      ],
      "text/plain": [
       "                id  CaseID  DataID  Offset      Val  cnt  \\\n",
       "0                1  508837     724       0  83.4750   40   \n",
       "1                2  508837     708       0  84.2500   40   \n",
       "2                3  508837     710       0  96.4600   40   \n",
       "3                4  508837    2274       0  18.2821   39   \n",
       "4                5  508837     707       0  83.5750   40   \n",
       "...            ...     ...     ...     ...      ...  ...   \n",
       "38033956  38206222  352487    3142  208800  45.0000    1   \n",
       "38033957  38206223  352487    3143  212400  40.0000    1   \n",
       "38033958  38206224  352487    3142  212400  40.0000    1   \n",
       "38033959  38206225  352487    3142  219600  45.0000    1   \n",
       "38033960  38206226  352487    3143  219600  45.0000    1   \n",
       "\n",
       "                                                    rawdata  \n",
       "0         0x00000000000000000000B0420000A2420000A4420000...  \n",
       "1         0x00000000000000000000A4420000000000009E420000...  \n",
       "2         0x00000000000000003333AE4200000000CDCCC242CDCC...  \n",
       "3         0x0000000000000000000098410000B8410000E8410000...  \n",
       "4         0x00000000000000000000AC420000A64200009A420000...  \n",
       "...                                                     ...  \n",
       "38033956                                                NaN  \n",
       "38033957                                                NaN  \n",
       "38033958                                                NaN  \n",
       "38033959                                                NaN  \n",
       "38033960                                                NaN  \n",
       "\n",
       "[38033961 rows x 7 columns]"
      ]
     },
     "execution_count": 8,
     "metadata": {},
     "output_type": "execute_result"
    }
   ],
   "source": [
    "data_float"
   ]
  },
  {
   "cell_type": "code",
   "execution_count": 6,
   "id": "0524c130",
   "metadata": {},
   "outputs": [
    {
     "data": {
      "text/plain": [
       "[21566, 27350]"
      ]
     },
     "execution_count": 6,
     "metadata": {},
     "output_type": "execute_result"
    }
   ],
   "source": [
    "patient_list = pd.unique(case_data[\"PatientID\"])\n",
    "icu_ad_list = pd.unique(case_data[\"CaseID\"])\n",
    "\n",
    "\n",
    "[len(patient_list), len(icu_ad_list)]"
   ]
  },
  {
   "cell_type": "markdown",
   "id": "c6fc8b67-19bc-4420-8ce6-9fd11cb1e096",
   "metadata": {},
   "source": [
    "There are 21,566 patients with 27,350 ICU admissions."
   ]
  },
  {
   "cell_type": "code",
   "execution_count": 7,
   "id": "bcb031ec-7aab-4ff4-9cc4-9ba1ac444211",
   "metadata": {
    "scrolled": true
   },
   "outputs": [
    {
     "data": {
      "text/plain": [
       "Counter({'Drug': 622,\n",
       "         'Laboratory': 539,\n",
       "         'Fluid': 147,\n",
       "         'SignalFloat': 73,\n",
       "         'SurgicalSite': 40,\n",
       "         'ReferringUnit': 28,\n",
       "         'DischargeUnit': 28,\n",
       "         'ProcessedFields': 20,\n",
       "         'DrugDosagePerHour': 15,\n",
       "         'Food': 10,\n",
       "         'HospitalUnit': 9,\n",
       "         'DischargeType': 8,\n",
       "         'RespiratorSetting': 7,\n",
       "         'ExcludedReason': 5,\n",
       "         'Importer': 4,\n",
       "         'DrugGivenState': 4,\n",
       "         'AKI_KDIGO': 4,\n",
       "         'NYHA': 4,\n",
       "         'KDIGO_AKI': 4,\n",
       "         'SurgicalAdmissionType': 4,\n",
       "         'Sex': 3,\n",
       "         'YesNoUnknown': 3,\n",
       "         'FoodKcal': 3,\n",
       "         'DischargeState': 3,\n",
       "         'Drainage': 3,\n",
       "         'Line': 3,\n",
       "         'GastricTube': 3,\n",
       "         'Scores': 3,\n",
       "         'AdmissionUrgency': 3,\n",
       "         'Airway': 2,\n",
       "         'SignalInt': 2,\n",
       "         'SignalDrug': 2,\n",
       "         'custom_1': 2,\n",
       "         'IntakePerHour': 2,\n",
       "         'UrinaryDiversion': 2,\n",
       "         'EstimatedSurvivalObservationTime': 2,\n",
       "         'VentilatorConfiguration': 1,\n",
       "         'FluidType': 1,\n",
       "         'TInsp': 1,\n",
       "         'LaboratoryType': 1,\n",
       "         'Peridural': 1,\n",
       "         'Vac': 1})"
      ]
     },
     "execution_count": 7,
     "metadata": {},
     "output_type": "execute_result"
    }
   ],
   "source": [
    "Counter(d_reference['ReferenceName'])"
   ]
  },
  {
   "cell_type": "code",
   "execution_count": 11,
   "id": "1a909514-acfc-4174-8b41-ba186721550a",
   "metadata": {},
   "outputs": [
    {
     "data": {
      "text/plain": [
       "Index(['ReferenceGlobalID', 'ReferenceValue', 'ReferenceName',\n",
       "       'ReferenceDescription', 'ReferenceUnit', 'ReferenceOrder',\n",
       "       'ReferenceType', 'Data', 'LOINC_code', 'LOINC_short', 'LOINC_long'],\n",
       "      dtype='object')"
      ]
     },
     "execution_count": 11,
     "metadata": {},
     "output_type": "execute_result"
    }
   ],
   "source": [
    "d_reference.columns"
   ]
  },
  {
   "cell_type": "code",
   "execution_count": 38,
   "id": "cf29ef74-1082-4eb5-9644-e8cdd0628721",
   "metadata": {},
   "outputs": [
    {
     "data": {
      "text/plain": [
       "['Harnelphor Alpha1-Globuline (ZL)',\n",
       " 'Harnelphor Alpha2-Globuline (ZL)',\n",
       " 'Alpha-1-Globuline (ZL)',\n",
       " 'Alpha-2-Globuline (ZL)',\n",
       " 'ADAMTS-13 (ZL)',\n",
       " 'Albumin (ZL)',\n",
       " 'Harnelektrophorese/Albumin (ZL)',\n",
       " 'Antithrombin III (ZL)',\n",
       " 'Basophile (ZL)',\n",
       " 'Basophile, Handdiff. (ZL)',\n",
       " 'Beta-1-Globuline (ZL)',\n",
       " 'Beta-2-Globuline (ZL)',\n",
       " 'Harnelphor Beta-Globuline (ZL)',\n",
       " 'Frakt.CO-Hämoglobin (ZL)',\n",
       " 'Frakt.Deoxy-Hämoglobin (ZL)',\n",
       " 'Frakt.Met-Hämoglobin (ZL)',\n",
       " 'Frakt.Oxyhämoglobin (ZL)',\n",
       " 'Hämatokrit (BG) (ZL)',\n",
       " 'sO2 (ZL)',\n",
       " 'Blasten (ZL)',\n",
       " 'C-1-Inhibitor (Aktivität) (ZL)',\n",
       " 'Kollagen Bindungsaktivität (ZL)',\n",
       " 'CD16+CD56+/NK-Zellen (ZL)',\n",
       " 'CD19+/B-Lymphocyten (ZL)',\n",
       " 'CD3+/T-Lymphocyten (ZL)',\n",
       " 'CD3+CD4+/T-Helperzellen (ZL)',\n",
       " 'CD3+CD8+/T-Suppressorzellen (ZL)',\n",
       " 'HLADR pos.T-Lymphocyten (ZL)',\n",
       " 'Karbohydrat-def.Transferrin (ZL)',\n",
       " 'CK-MB Anteil (ZL)',\n",
       " 'CO-Hämoglobin (ZL)',\n",
       " 'Eosinophile (ZL)',\n",
       " 'Eosinophile, Handdiff. (ZL)',\n",
       " 'Dysmorphe Ery im Sediment (ZL)',\n",
       " 'Fraktionelle HST-Ausscheidung (ZL)',\n",
       " 'Fraktionelle Na-Ausscheidung (ZL)',\n",
       " 'Faktor II (ZL)',\n",
       " 'Faktor IX (ZL)',\n",
       " 'Faktor V (ZL)',\n",
       " 'Faktor VII (ZL)',\n",
       " 'Faktor VIII (ZL)',\n",
       " 'Faktor X (ZL)',\n",
       " 'Faktor XI (ZL)',\n",
       " 'Faktor XII (ZL)',\n",
       " 'Faktor XIII (ZL)',\n",
       " 'Gamma-Globuline (ZL)',\n",
       " 'Harnelphor Gamma-Globuline (ZL)',\n",
       " 'Hämoglobin A (ZL)',\n",
       " 'HbA1c (ZL)',\n",
       " 'Hämoglobin A2 (ZL)',\n",
       " 'Hämoglobin F (ZL)',\n",
       " 'Hämatokrit (ZL)',\n",
       " 'LDH-Isoenzym 1 (ZL)',\n",
       " 'LDH-Isoenzym 2 (ZL)',\n",
       " 'LDH-Isoenzym 3 (ZL)',\n",
       " 'LDH-Isoenzym 4 (ZL)',\n",
       " 'LDH-Isoenzym 5 (ZL)',\n",
       " 'Lymphocyten (ZL)',\n",
       " 'Lymphocyten Handdiff. (ZL)',\n",
       " 'Metamyelocyten (ZL)',\n",
       " 'M-Gradient (ZL)',\n",
       " 'Monocyten (ZL)',\n",
       " 'Monocyten Handdiff. (ZL)',\n",
       " 'Myelocyten (ZL)',\n",
       " 'Neutrophile Granulocyten (ZL)',\n",
       " 'Neutr.Granulocyten Handdiff. (ZL)',\n",
       " 'Plasmazellen (ZL)',\n",
       " 'Promyelocyten (ZL)',\n",
       " 'Protein C (ZL)',\n",
       " 'Protein S (ZL)',\n",
       " 'freies Protein S (ZL)',\n",
       " 'PTZ [Prothrombin time (PT) actual/Normal] (ZL)',\n",
       " 'Reticulocyten (ZL)',\n",
       " 'Ristocetin-Kofakt.Aktivität (ZL)',\n",
       " 'Stabkernige Handdiff. (ZL)',\n",
       " 'Transferrin-Sättigung (ZL)',\n",
       " 'Thrombozyten - Anteil unreif (ZL)',\n",
       " 'Thrombotest (ZL)',\n",
       " 'Plättchen-Reaktivitätsindex (VASP) (ZL)',\n",
       " 'v.Willebrand-Faktor-Antigen (ZL)',\n",
       " 'Kernhaltige Erythrocyten (ZL)',\n",
       " 'Liquor Zellzahl (ZL)',\n",
       " 'Kupfer (ZL)',\n",
       " 'Eisen (ZL)',\n",
       " 'Alpha-1-Fetoprotein (ZL)',\n",
       " 'Blei im Blut (ZL)',\n",
       " 'C-embrionales Antigen (ZL)',\n",
       " 'CK-MB-Massenkonzentration (ZL)',\n",
       " 'Cyclosporin (ZL)',\n",
       " 'Cytokeratin-FRG./CYFRA21-1 (ZL)',\n",
       " 'Digitoxin (ZL)',\n",
       " 'Digoxin (ZL)',\n",
       " 'Everolimus (ZL)',\n",
       " 'Ferritin (ZL)',\n",
       " 'Myoglobin (ZL)',\n",
       " 'NGAL im Urin (ZL)',\n",
       " 'Neuronen-spez. Enolase (ZL)',\n",
       " 'Procalcitonin (ZL)',\n",
       " 'Procalcitonin / Cordalblut (ZL)',\n",
       " 'S100 Protein (ZL)',\n",
       " 'SCC-Antigen (ZL)',\n",
       " 'Serotonin im Serum (ZL)',\n",
       " 'Sirolimus (ZL)',\n",
       " 'Tacrolimus (ZL)',\n",
       " 'Troponin I (ZL)',\n",
       " 'Vitamin B1 (ZL)',\n",
       " 'Vitamin B6 (Vollblut) (ZL)',\n",
       " 'Arixtra-Monitoring (ZL)',\n",
       " 'Gabapentin (ZL)',\n",
       " 'Fructosamin (ZL)',\n",
       " 'Gallensäuren im Serum (ZL)',\n",
       " 'Homocystein (ZL)',\n",
       " 'Methotrexat (ZL)',\n",
       " 'Ammoniak (ZL)',\n",
       " 'Pyruvat (ZL)',\n",
       " 'CD16+CD56+/abs.NK-Zellen (ZL)',\n",
       " 'CD19+/abs.B-Lymphocyten (ZL)',\n",
       " 'CD3+/abs.T-Lymphocyten (ZL)',\n",
       " 'CD3+CD4+/abs.T-Helperzellen (ZL)',\n",
       " 'CD3+CD8+/abs.T-Suppressorz. (ZL)',\n",
       " 'MCV (ZL)',\n",
       " 'Serum-Albumin (ZL)',\n",
       " 'Hämoglobin (BG) (ZL)',\n",
       " 'Hämoglobin (ZL)',\n",
       " 'MCHC (ZL)',\n",
       " 'Albumin im Punktat (ZL)',\n",
       " 'Total-Protein im Punktat (ZL)',\n",
       " 'Total-Protein im Serum (ZL)',\n",
       " 'Total-Protein (ZL)',\n",
       " 'Basophile absolut (ZL)',\n",
       " 'Basophile abs. Handdiff. (ZL)',\n",
       " 'Blasten absolut (ZL)',\n",
       " 'Methylhippursäure im Urin (ZL)',\n",
       " 'Eosinophile absolut (ZL)',\n",
       " 'Eosinophile abs. Handdiff. (ZL)',\n",
       " 'Leukocyten (ZL)',\n",
       " 'Lymphocyten absolut (ZL)',\n",
       " 'Lymphocyten abs. Handdiff. (ZL)',\n",
       " 'Metamyelocyten absolut (ZL)',\n",
       " 'Monocyten absolut (ZL)',\n",
       " 'Monocyten abs. Handdiff. (ZL)',\n",
       " 'Myelocyten absolut (ZL)',\n",
       " 'Neutr. Granulocyten abs (ZL)',\n",
       " 'Neutr.Granuloc.abs.Handdiff. (ZL)',\n",
       " 'Plasmazellen absolut (ZL)',\n",
       " 'Promyelocyten absolut (ZL)',\n",
       " 'Reticulocyten absolut (ZL)',\n",
       " 'Stabkernige abs. Handdiff. (ZL)',\n",
       " 'Thrombocyten (ZL)',\n",
       " 'Thrombocyten/Citratblut (ZL)',\n",
       " 'Erythropoietin (ZL)',\n",
       " 'Antistreptolysin-O-Titer (ZL)',\n",
       " 'Hepatitis-B-HBs-Antigen-quantitativ (ZL)',\n",
       " 'Hepatitis-C-RNA quantitativ (ZL)',\n",
       " 'Heparin-Monitoring (ZL)',\n",
       " 'Immunglobulin E (ZL)',\n",
       " 'Orgaran-Monitoring (ZL)',\n",
       " 'Rheumafaktor (ZL)',\n",
       " '5-Hydroxyindolessigsäure (ZL)',\n",
       " 'Oxalsäure im 24 Std.Harn (ZL)',\n",
       " 'Total-Protein/24-Std.Harn (ZL)',\n",
       " 'Vanillinmandelsäure im Urin (ZL)',\n",
       " 'Alpha-1-Antitrypsin (ZL)',\n",
       " 'Apo-Lipoprotein A-1 (ZL)',\n",
       " 'Apo-Lipoprotein B (ZL)',\n",
       " 'Glucose (BG) (ZL)',\n",
       " 'Bilirubin (direkt) (ZL)',\n",
       " 'Bilirubin (gesamt) (ZL)',\n",
       " 'C 3 Komplement (ZL)',\n",
       " 'C 4 Komplement (ZL)',\n",
       " 'C-1-Inhibitor (ZL)',\n",
       " 'Caeruloplasmin (ZL)',\n",
       " 'Cholesterin (ZL)',\n",
       " 'Kreatinin(CKR) (ZL)',\n",
       " 'Kreatinin im Urin(CKR) (ZL)',\n",
       " 'C-reaktives Protein (ZL)',\n",
       " 'Eiweiss im Liquor (ZL)',\n",
       " 'Eiweiss im Urin (ZL)',\n",
       " 'Fibrinogen (ZL)',\n",
       " 'Fibrinogen immunologisch (ZL)',\n",
       " 'freies Plasma Hämoglobin (ZL)',\n",
       " 'Glukose im Liquor (ZL)',\n",
       " 'Glukose (ZL)',\n",
       " 'Haptoglobin (ZL)',\n",
       " 'HDL-Cholesterin (ZL)',\n",
       " 'high-sensitive CRP (ZL)',\n",
       " 'Harnsäure im Punktat (ZL)',\n",
       " 'Harnsäure im Spontanharn (ZL)',\n",
       " 'Harnsäure (ZL)',\n",
       " 'Harnstoff (ZL)',\n",
       " 'Harnstoff im Spontanharn (ZL)',\n",
       " 'Immunglobulin A (ZL)',\n",
       " 'Immunglobulin D (ZL)',\n",
       " 'Immunglobulin G (ZL)',\n",
       " 'IgG-Subklasse 1 (ZL)',\n",
       " 'IgG-Subklasse 2 (ZL)',\n",
       " 'IgG-Subklasse 3 (ZL)',\n",
       " 'IgG-Subklasse 4 (ZL)',\n",
       " 'Immunglobulin M (ZL)',\n",
       " 'Kappa-Leichtketten (ZL)',\n",
       " 'Kappa-Leichtketten im Urin (ZL)',\n",
       " 'Kreatinin (ZL)',\n",
       " 'Kreatinin enzymatisch (ZL)',\n",
       " 'Kreatinin (HPM) (ZL)',\n",
       " 'Kreatinin im Spontanurin (ZL)',\n",
       " 'Lambda Leichtketten im Urin (ZL)',\n",
       " 'Lambda-Leichtketten (ZL)',\n",
       " 'LDL-Cholesterin berechnet (ZL)',\n",
       " 'Lipoprotein (a) (ZL)',\n",
       " 'Mikro-Albumin im Urin (ZL)',\n",
       " 'Oxalsäure im Spontanharn (ZL)',\n",
       " 'Cholesterin im Punktat (ZL)',\n",
       " 'Glukose im Punktat (ZL)',\n",
       " 'Harnstoff im Punktat (ZL)',\n",
       " 'Kreatinin im Punktat (ZL)',\n",
       " 'Triglyceride im Punktat (ZL)',\n",
       " 'Präalbumin (ZL)',\n",
       " 'Salicylat im Serum (ZL)',\n",
       " 'Transferrin (ZL)',\n",
       " 'Triglyceride (ZL)',\n",
       " 'Alpha1-Mikroglobulin (HPM) (ZL)',\n",
       " 'Albumin (HPM) (ZL)',\n",
       " 'Immunglobulin G (HPM) (ZL)',\n",
       " 'Total-Protein (HPM) (ZL)',\n",
       " 'Acetaminophen (Paracetamol) (ZL)',\n",
       " 'Delta-Amino-Laevulinsäure/U (ZL)',\n",
       " 'Albumin im Liquor (ZL)',\n",
       " 'Amikacin (ZL)',\n",
       " 'Amiodaron (ZL)',\n",
       " 'Beta-2-Microglobulin (ZL)',\n",
       " 'Harnstoff-Stickstoff/Urin (ZL)',\n",
       " 'Carbamazepin-Epoxyd (ZL)',\n",
       " 'Carbamazepin (ZL)',\n",
       " 'Coffein (ZL)',\n",
       " 'Cotinin im Urin (ZL)',\n",
       " 'Cystatin C (ZL)',\n",
       " 'D-Dimer (ZL)',\n",
       " 'Desethylamiodaron (ZL)',\n",
       " 'Ethylglucuronid (ETG) (ZL)',\n",
       " 'Ethosuximid (ZL)',\n",
       " 'Gesamteiweiss im Urin (mg/l) (ZL)',\n",
       " 'f-Kappa Leichtketten/U (ZL)',\n",
       " 'f- Kappa Leichtketten/S (ZL)',\n",
       " 'f- Lambda Leichtketten/U (ZL)',\n",
       " 'f-Lambda Leichtketten/S (ZL)',\n",
       " 'Immunglobulin A im Liquor (ZL)',\n",
       " 'Immunglobulin G im Liquor (ZL)',\n",
       " 'Immunglobulin M im Liquor (ZL)',\n",
       " 'Levetiracetam (ZL)',\n",
       " 'Lamotrigin (ZL)',\n",
       " 'LBP (ZL)',\n",
       " 'LBP / Cordalblut (ZL)',\n",
       " 'Methohexital (ZL)',\n",
       " 'Midazolam (ZL)',\n",
       " 'Hydroxy-Carbazepin (ZL)',\n",
       " 'Oxcarbazepin (ZL)',\n",
       " 'Phenobarbital (ZL)',\n",
       " 'Phenytoin (ZL)',\n",
       " 'Primidon (ZL)',\n",
       " 'Serum Amyloid A (ZL)',\n",
       " 'Sultiam (ZL)',\n",
       " 'Teicoplanin (ZL)',\n",
       " 'Transferrin-Rezeptor-löslich (ZL)',\n",
       " 'Theophyllin (ZL)',\n",
       " 'Thiopental (ZL)',\n",
       " 'Tobramycin (ZL)',\n",
       " 'Topiramat (ZL)',\n",
       " 'Valproinsäure/Dipropylacetat (ZL)',\n",
       " 'Vancomycin (ZL)',\n",
       " 'Vitamin A (ZL)',\n",
       " 'Vitamin E (ZL)',\n",
       " 'Zink (ZL)',\n",
       " 'Zonisamid (ZL)',\n",
       " 'Harnsammelzeit (ZL)',\n",
       " 'Harnsammelmenge (ZL)',\n",
       " 'Kreatinin Clearance Erw (ZL)',\n",
       " 'Blutsenkung 1Std.(Automat) (ZL)',\n",
       " 'PCO2 (ZL)',\n",
       " 'PO2 (ZL)',\n",
       " 'KOD (ZL)',\n",
       " 'Magnesium im 24-Std.Harn (ZL)',\n",
       " 'Natrium im 24-Std.Harn (ZL)',\n",
       " 'Phosphor im 24-Std.Harn (ZL)',\n",
       " 'BE (ZL)',\n",
       " 'Chlorid (ZL)',\n",
       " 'Akt. Bicarbonat (ZL)',\n",
       " 'Calcium ionisiert (ZL)',\n",
       " 'Kalium (BG) (ZL)',\n",
       " 'Lactat (BG) (ZL)',\n",
       " 'Natrium (BG) (ZL)',\n",
       " 'Bicarbonat (ZL)',\n",
       " 'Calcium (ZL)',\n",
       " 'Calcium im Spontanharn (ZL)',\n",
       " 'Calcium(CKR) (ZL)',\n",
       " 'Calcium im 24-Std.Harn(CKR) (ZL)',\n",
       " 'Chlorid im Liquor (ZL)',\n",
       " 'Chlorid im Schweiss (ZL)',\n",
       " 'Kalium (ZL)',\n",
       " 'Kalium im Spontanharn (ZL)',\n",
       " 'Lactat (ZL)',\n",
       " 'Lactat im Liquor (ZL)',\n",
       " 'Lithium (ZL)',\n",
       " 'Magnesium (ZL)',\n",
       " 'Natrium (ZL)',\n",
       " 'Natrium im Spontanharn (ZL)',\n",
       " 'Phosphor (ZL)',\n",
       " 'Phosphor im Spontanharn (ZL)',\n",
       " 'Lactat im Punktat (ZL)',\n",
       " 'HbA1c (IFCC) (ZL)',\n",
       " 'Osmolalität/Harn (ZL)',\n",
       " 'Osmolalität/Serum (ZL)',\n",
       " 'Hum.plac.alk. Phosphatase (ZL)',\n",
       " 'Insulin (ZL)',\n",
       " 'TSH(Thyreotropin) (ZL)',\n",
       " 'Adrenalin im Plasma (ZL)',\n",
       " 'hs Troponin T (ZL)',\n",
       " 'Inhibin B (ZL)',\n",
       " 'Katecholamine im Plasma (ZL)',\n",
       " 'Alprazolam (ZL)',\n",
       " 'Amisulprid (ZL)',\n",
       " 'Amitriptylin (ZL)',\n",
       " 'Aripiprazol (ZL)',\n",
       " 'Bromazepam (ZL)',\n",
       " 'Citalopram (ZL)',\n",
       " 'Chlordiazepoxyd (ZL)',\n",
       " 'Clomipramin (ZL)',\n",
       " 'Clonazepam (ZL)',\n",
       " 'Clozapin (ZL)',\n",
       " 'Desimipramin (ZL)',\n",
       " 'O-Desmethyl-Venlafaxin (ZL)',\n",
       " 'Diazepam (ZL)',\n",
       " 'Doxepin (ZL)',\n",
       " 'Duloxetin (ZL)',\n",
       " 'Escitalopram (ZL)',\n",
       " 'Flunitrazepam (ZL)',\n",
       " 'Fluoxetin (ZL)',\n",
       " 'Fluoxetin und Metabolit (ZL)',\n",
       " 'Flupentixol (ZL)',\n",
       " 'Fluphenazin (ZL)',\n",
       " 'Fluvoxamin (ZL)',\n",
       " 'Folsäure (ZL)',\n",
       " 'Haloperidol (ZL)',\n",
       " 'Imipramin (ZL)',\n",
       " 'Leptin (ZL)',\n",
       " 'Lorazepam (ZL)',\n",
       " 'Maprotilin (ZL)',\n",
       " 'Mianserin (ZL)',\n",
       " 'Milnacipran (ZL)',\n",
       " 'Mirtazapin (ZL)',\n",
       " 'Nitrazepam (ZL)',\n",
       " 'Norclomipramin (ZL)',\n",
       " 'Norclozapin (ZL)',\n",
       " 'Nordoxepin (ZL)',\n",
       " 'Norfluoxetin (ZL)',\n",
       " 'Nortriptylin (ZL)',\n",
       " 'Hydroxy-Risperidon (ZL)',\n",
       " 'Oxazepam (ZL)',\n",
       " 'Paroxetin (ZL)',\n",
       " 'Perphenazin (ZL)',\n",
       " 'Quetiapin (ZL)',\n",
       " 'Reboxetin (ZL)',\n",
       " 'Risperidon (ZL)',\n",
       " 'Risperidon und Metabolit (ZL)',\n",
       " 'Sertindol (ZL)',\n",
       " 'Sertralin (ZL)',\n",
       " 'Trazodon (ZL)',\n",
       " 'Venlafaxin (ZL)',\n",
       " 'Venlafaxin und Metabolit (ZL)',\n",
       " 'Ziprasidon (ZL)',\n",
       " 'Zotepin (ZL)',\n",
       " 'Zuclopenthixol (ZL)',\n",
       " 'Anti-Cycl.Citrull.Peptid AK (ZL)',\n",
       " 'pH (ZL)',\n",
       " 'CD4+CD8+/T-Zellratio (ZL)',\n",
       " 'Gentamycin (ZL)',\n",
       " 'Glukose im Urin (ZL)',\n",
       " 'Hepatitis-A-IgG-AK (ZL)',\n",
       " 'Hepatitis-A-IgM-AK (ZL)',\n",
       " 'Hepatitis-B-Anti-HBc-AK(II) (ZL)',\n",
       " 'Hepatitis-B-Anti-HBc-IgM-AK (ZL)',\n",
       " 'Hepatitis-B-HBe-Antigen (ZL)',\n",
       " 'Hepatitis-B-Anti-HBe-AK (ZL)',\n",
       " 'Hepatitis-B-HBs-Antigen (ZL)',\n",
       " 'Hepatitis-B-Anti-HBs-AK (ZL)',\n",
       " 'Hepatitis-C-AK (ZL)',\n",
       " 'Immunfixation (Immunelphor.) (ZL)',\n",
       " 'Immunfixation-Bild (HYDRAGEL) (ZL)',\n",
       " 'Kalium im 24-Std.... (ZL)',\n",
       " 'Kaolin Clotting Time (ZL)',\n",
       " 'Leukocyten im Urin (ZL)',\n",
       " 'TreponemaPallidum(Lues)-AK (ZL)',\n",
       " 'Mykophenolsäure... (ZL)',\n",
       " 'Nitrit im Urin (ZL)',\n",
       " 'pH im Urin (ZL)',\n",
       " 'pH im Punktat (ZL)',\n",
       " 'Spez.Gewicht im Urin (ZL)',\n",
       " 'Schwangerschaftstag (ZL)',\n",
       " 'Schwangerschaftswoche (ZL)',\n",
       " 'Alkohol (ZL)',\n",
       " 'Kleihauer(fetale Ery) (ZL)',\n",
       " 'MCH (ZL)',\n",
       " 'Hb des Einzel-Reticulocyten (ZL)',\n",
       " 'Interleukin 10 (ZL)',\n",
       " 'Interleukin 6 (ZL)',\n",
       " 'Interleukin 6 / Cordalblut (ZL)',\n",
       " 'NT-proBNP (ZL)',\n",
       " 'Pro Gastrin releasing Peptid (ZL)',\n",
       " 'Tumor Nekrose Faktor alpha (ZL)',\n",
       " 'Vitamin B12 (ZL)',\n",
       " 'Freies Trijodthyronin (ZL)',\n",
       " 'Freies Thyroxin (ZL)',\n",
       " 'Holo-Transcobalamin (ZL)',\n",
       " 'Myeloperoxidase (ZL)',\n",
       " 'A2MakroglobAlbuminRatio (ZL)',\n",
       " 'Albumin_Serum_Liquor-Quotient (ZL)',\n",
       " 'APC-Resistenz (ZL)',\n",
       " 'Calcium/Kreatinin-Ratio (ZL)',\n",
       " 'Leichtketten frei Ratio (ZL)',\n",
       " 'IgA_Serum_Liquor-Quotient (ZL)',\n",
       " 'IgG / Albumin Ratio (ZL)',\n",
       " 'IgG_Serum_Liquor-Quotient (ZL)',\n",
       " 'IgM_Serum_Liquor-Quotient (ZL)',\n",
       " 'Kappa/Lambda  Quotient (ZL)',\n",
       " 'PCA3-Score (ZL)',\n",
       " 'Punktat-Albumin-Ratio (ZL)',\n",
       " 'Punktat-LDH-Ratio (ZL)',\n",
       " 'Punktat-TP-Ratio (ZL)',\n",
       " 'ProC-GLOBAL (ZL)',\n",
       " 'v.Willebrand-Ratio (ZL)',\n",
       " 'Lupus Antikoagulans 1 (DRVV) (ZL)',\n",
       " 'PFA100-Kollagen/Epinephrin (ZL)',\n",
       " 'APTT (ZL)',\n",
       " 'PT (ZL)',\n",
       " 'Erythrocytenzahl (ZL)',\n",
       " 'Thrombozytenaggr.ADP (ZL)',\n",
       " 'Thrombozytenaggr.ASPI (ZL)',\n",
       " 'Thrombozytenaggr.Kollagen (ZL)',\n",
       " 'Thrombozytenaggr.Ristocetin (ZL)',\n",
       " 'Thrombozytenaggr.TRAP (ZL)',\n",
       " 'Angiotensin conv. Enzym (ZL)',\n",
       " 'Aldolase (ZL)',\n",
       " 'Amylase im Urin (ZL)',\n",
       " 'Amylase (ZL)',\n",
       " 'Alkalische Phosphatase (ZL)',\n",
       " 'Beta-h-Choriongonadotropin (ZL)',\n",
       " 'Creatinkinase (ZL)',\n",
       " 'CK-MB enzymatisch (ZL)',\n",
       " 'freies Beta-HCG (ZL)',\n",
       " 'Gamma-GT (ZL)',\n",
       " 'GLDH (ZL)',\n",
       " 'GOT ( AST) (ZL)',\n",
       " 'GPT (ALT / ALAT) (ZL)',\n",
       " 'HBDH (ZL)',\n",
       " 'Hepatitis-A-AK-Titer (ZL)',\n",
       " 'Hepatitis-B-AK-Titer (ZL)',\n",
       " 'knochenspez.alk.Phosphatase (ZL)',\n",
       " 'LDH (ZL)',\n",
       " 'Lipase (ZL)',\n",
       " 'Pregn.Assoc.Plasma Protein-A (ZL)',\n",
       " 'Amylase im Punktat (ZL)',\n",
       " 'LDH im Punktat (ZL)',\n",
       " 'Lipase im Punktat (ZL)',\n",
       " 'Cardiolipin-AK-IgG (ZL)',\n",
       " 'Cardiolipin-AK-IgM (ZL)',\n",
       " 'BETA-2-Glykoprotein-AK-IgG (ZL)',\n",
       " 'BETA-2-Glykoprotein-AK-IgM (ZL)',\n",
       " 'CA 12-5 Markerprotein (ZL)',\n",
       " 'CA 15-3 Markerprotein (ZL)',\n",
       " 'CA 19-9 Markerprotein (ZL)',\n",
       " 'CA 72-4 Markerprotein (ZL)',\n",
       " 'Cholinesterase (ZL)',\n",
       " 'Zirkulierende Immunkomplexe (ZL)',\n",
       " 'Leukocyten im Dialysat (ZL)',\n",
       " 'Leukocyten im Punktat (ZL)',\n",
       " 'Pentacarboxyporphyrin (ZL)',\n",
       " 'Hexacarboxyporphyrin (ZL)',\n",
       " 'Heptacarboxyporphyrin (ZL)',\n",
       " 'Koproporphyrin I (ZL)',\n",
       " 'Koproporphyrin III (ZL)',\n",
       " 'Uroporphyrin (ZL)',\n",
       " 'Serotonin im Urin (ZL)',\n",
       " 'Normetanephrin/Urin (ZL)',\n",
       " 'Metanephrin im Urin (ZL)',\n",
       " 'Katecholamine im Urin (ZL)',\n",
       " 'Kupfer im Urin (AAS) (ZL)',\n",
       " 'Linezolid (ZL)',\n",
       " 'Glomuläre Filtrationsrate (ZL)',\n",
       " 'Glomuläre Filtrationsrate CKD-EPI (ZL)',\n",
       " 'Luftdruck (BGA)',\n",
       " 'Calcium (i) (BGA)',\n",
       " 'Glukose (BGA)',\n",
       " 'Lactat (BGA)',\n",
       " 'Hämoglobin (BGA)',\n",
       " 'O2-Hämoglobin (BGA)',\n",
       " 'CO-Hämoglobin (BGA)',\n",
       " 'Met-Hämoglobin (BGA)',\n",
       " 'Deoxy-Hämoglobin (BGA)',\n",
       " 'PH (T) (BGA)',\n",
       " 'PO2 (T) (BGA)',\n",
       " 'PCO2 (T) (BGA)',\n",
       " 'HCO3 act (BGA)',\n",
       " 'HCO3 Std (BGA)',\n",
       " 'BE (B) (BGA)',\n",
       " 'BE ecf (BGA)',\n",
       " 'CtCo2 (BGA)',\n",
       " 'Ca (pH) (BGA)',\n",
       " 'Anionen Gap (BGA)',\n",
       " 'O2 SAT est (BGA)',\n",
       " 'CtO2 (art) (BGA)',\n",
       " 'CtO2 (ven) (BGA)',\n",
       " 'CtO2 (Hb) (BGA)',\n",
       " 'CtO2 (BGA)',\n",
       " 'CtO2 (gem. ven) (BGA)',\n",
       " 'pO2 (A-a) (T) (BGA)',\n",
       " 'pO2 (A/a) (T) (BGA)',\n",
       " 'Temp. (BGA)',\n",
       " 'Hämatokrit (BGA)',\n",
       " 'Chlorid (BGA)',\n",
       " 'FiO2 (BGA)',\n",
       " 'Kalium (BGA)',\n",
       " 'Natrium (BGA)',\n",
       " 'PCO2 (BGA)',\n",
       " 'PH (BGA)',\n",
       " 'PO2 (BGA)',\n",
       " 'SO2 (BGA)',\n",
       " 'Osmolarität',\n",
       " 'Shunt',\n",
       " 'ZzzPO2 (BGA) art',\n",
       " 'PO2 (BGA) ven',\n",
       " 'PO2 (BGA) kap',\n",
       " 'ZzzPH (BGA) art',\n",
       " 'PH (BGA) ven',\n",
       " 'PH (BGA) kap',\n",
       " 'PO2 (BGA) gemV',\n",
       " 'PH (BGA) gemV',\n",
       " 'ACT',\n",
       " 'RedCellDistributionWidth',\n",
       " 'PT / INR',\n",
       " 'PaO2/FiO2 (BGA)']"
      ]
     },
     "execution_count": 38,
     "metadata": {},
     "output_type": "execute_result"
    }
   ],
   "source": [
    "list(d_reference[d_reference['ReferenceName'] == 'Laboratory']['ReferenceValue'])"
   ]
  },
  {
   "cell_type": "code",
   "execution_count": 53,
   "id": "3f87cab3-ce2e-4f67-9a8c-761cd67941e7",
   "metadata": {
    "scrolled": true
   },
   "outputs": [
    {
     "name": "stdout",
     "output_type": "stream",
     "text": [
      "      ReferenceGlobalID                                     ReferenceValue  \\\n",
      "286                 447                        Natrium im 24-Std.Harn (ZL)   \n",
      "294                 455                                  Natrium (BG) (ZL)   \n",
      "308                 469                                       Natrium (ZL)   \n",
      "309                 470                        Natrium im Spontanharn (ZL)   \n",
      "525                 686                                      Natrium (BGA)   \n",
      "693                1475                                    Natriumvalproat   \n",
      "699                1481                                  Natriumpicosulfat   \n",
      "702                1484               ZzNatrium- und Megluminanmidotrizoat   \n",
      "710                1492                                 Natrium perchlorat   \n",
      "772                1554                                Natriumnitroprussid   \n",
      "773                1555                              ZzNatriumchlorid 0,9%   \n",
      "782                1564                          Natriumpolystyrensulfonat   \n",
      "783                1565                                ZzNatriumpicosulfat   \n",
      "791                1573                                  Thiopentalnatrium   \n",
      "839                1621                                  Natriumchlorid10%   \n",
      "840                1622                                  Natriumchlorid 5%   \n",
      "897                1679                           Natriumchlorid Pulverkps   \n",
      "978                1760                             Natriumglyzerophosphat   \n",
      "992                1774                            Natriumhydrogencarbonat   \n",
      "1052               1834                                 Fosinopril Natrium   \n",
      "1064               1846                  Kalium jodid+Levothyroxin natrium   \n",
      "1081               1863                                  Natriumthiosulfat   \n",
      "1085               1867                           Natrium hydrogencarbonat   \n",
      "1212               1994                              Natriumchlorid Sachet   \n",
      "1255               2041                             Natriumbikarbonat 1,4%   \n",
      "1256               2042                             Natriumbikarbonat 8,4%   \n",
      "1301               2087                                 Natriumchlorid 10%   \n",
      "1318               2104  Natrium- und Megluminanmidotrizoat (Gastrografin)   \n",
      "1319               2105                        Natriumpicosulfat (Agaffin)   \n",
      "1351               2137                                   Natriumchlorid5%   \n",
      "1352               2138                    Natriumglycerophosphat Perfusor   \n",
      "1382               2168                                   Natriumchlorid3%   \n",
      "\n",
      "     ReferenceName  \n",
      "286     Laboratory  \n",
      "294     Laboratory  \n",
      "308     Laboratory  \n",
      "309     Laboratory  \n",
      "525     Laboratory  \n",
      "693           Drug  \n",
      "699           Drug  \n",
      "702           Drug  \n",
      "710           Drug  \n",
      "772           Drug  \n",
      "773           Drug  \n",
      "782           Drug  \n",
      "783           Drug  \n",
      "791           Drug  \n",
      "839           Drug  \n",
      "840           Drug  \n",
      "897           Drug  \n",
      "978           Drug  \n",
      "992           Drug  \n",
      "1052          Drug  \n",
      "1064          Drug  \n",
      "1081          Drug  \n",
      "1085          Drug  \n",
      "1212          Drug  \n",
      "1255         Fluid  \n",
      "1256         Fluid  \n",
      "1301         Fluid  \n",
      "1318         Fluid  \n",
      "1319         Fluid  \n",
      "1351         Fluid  \n",
      "1352         Fluid  \n",
      "1382         Fluid  \n"
     ]
    }
   ],
   "source": [
    "# Filter the DataFrame to find the specific itemid\n",
    "filter_df = d_reference[d_reference['ReferenceValue'].str.contains('Natrium', case = False, na = False)]\n",
    "\n",
    "# Print the itemid(s) for specific attribute\n",
    "print(filter_df[['ReferenceGlobalID', 'ReferenceValue', 'ReferenceName']])"
   ]
  },
  {
   "cell_type": "code",
   "execution_count": 48,
   "id": "8e1208c4-4d4f-4311-a05a-cc0e6b3dc593",
   "metadata": {},
   "outputs": [
    {
     "data": {
      "text/plain": [
       "206    Kreatinin (ZL)\n",
       "Name: ReferenceValue, dtype: object"
      ]
     },
     "execution_count": 48,
     "metadata": {},
     "output_type": "execute_result"
    }
   ],
   "source": [
    "d_reference[d_reference['ReferenceGlobalID'] == 367]['ReferenceValue']"
   ]
  },
  {
   "cell_type": "code",
   "execution_count": null,
   "id": "f68ef2f3",
   "metadata": {},
   "outputs": [],
   "source": [
    "id_list = [707, 708, 724, 719, 2274, 2280, 2282, 701, 702, 703, 704, 705, 706, 710, 727, 289, 658, 206, 237, 468, 455, 469, 686]"
   ]
  },
  {
   "cell_type": "code",
   "execution_count": null,
   "id": "208a5a0f",
   "metadata": {},
   "outputs": [],
   "source": [
    "variable_list = VitalSigns_id + GCS_score_id + Vent_para_id + Labs_id + General_id + ADT_id + add_id_1\n",
    "\n",
    "d_items_data_1 = d_items_data[d_items_data['itemid'].isin(variable_list)].copy()\n",
    "len(d_items_data_1)"
   ]
  },
  {
   "cell_type": "code",
   "execution_count": null,
   "id": "b967616e",
   "metadata": {},
   "outputs": [],
   "source": [
    "item_id_list = d_items_data_1['itemid'].tolist()"
   ]
  },
  {
   "cell_type": "code",
   "execution_count": null,
   "id": "76c4c286",
   "metadata": {},
   "outputs": [],
   "source": [
    "# Define column data types explicitly\n",
    "dtypes = {\n",
    "    'cgid': 'float64',\n",
    "    'stay_id': 'float64',\n",
    "    'error': 'float64',\n",
    "    'resultstatus': 'object',\n",
    "    'stopped': 'object',\n",
    "    'value': 'object',\n",
    "    'valuenum': 'float64',\n",
    "    'warning': 'float64',\n",
    "    'valueuom': 'object',\n",
    "    'caregiver_id': 'float64'\n",
    "}\n",
    "\n",
    "# Read the CSV file using Dask\n",
    "chart_events = dd.read_csv(\n",
    "    '../icu_data/mimic_iv/chartevents.csv.gz',\n",
    "    dtype = dtypes,\n",
    "    compression = 'gzip',\n",
    "    assume_missing = True,\n",
    "    blocksize = None\n",
    ")\n",
    "\n",
    "chart_events = chart_events[chart_events.itemid.isin(item_id_list)]\n",
    "\n",
    "# Compute the Dask DataFrame into a Pandas DataFrame with progress monitoring\n",
    "try:\n",
    "    with ProgressBar():\n",
    "        chart_events_data = chart_events.compute()\n",
    "    print(\"Data successfully loaded!\")\n",
    "except Exception as e:\n",
    "    print(f\"Error computing DataFrame: {e}\")"
   ]
  },
  {
   "cell_type": "code",
   "execution_count": null,
   "id": "c4b32837",
   "metadata": {},
   "outputs": [],
   "source": [
    "chart_events_data"
   ]
  },
  {
   "cell_type": "code",
   "execution_count": null,
   "id": "37739364",
   "metadata": {},
   "outputs": [],
   "source": [
    "chart_events_data.to_csv('../icu_data/mimic_iv/chart_events_data.csv', index = False)"
   ]
  },
  {
   "cell_type": "code",
   "execution_count": null,
   "id": "f60bd1d8",
   "metadata": {},
   "outputs": [],
   "source": [
    "ICU_unit = ['Medical Intensive Care Unit (MICU)', \n",
    "            'Surgical Intensive Care Unit (SICU)', \n",
    "            'Medical/Surgical Intensive Care Unit (MICU/SICU)', \n",
    "            'Cardiac Vascular Intensive Care Unit (CVICU)', \n",
    "            'Coronary Care Unit (CCU)', \n",
    "            'Trauma SICU (TSICU)']\n",
    "\n",
    "ICU_patient_data_test = ICU_patient_data[ICU_patient_data['first_careunit'].isin(ICU_unit)].copy()"
   ]
  },
  {
   "cell_type": "code",
   "execution_count": null,
   "id": "5197723b",
   "metadata": {},
   "outputs": [],
   "source": [
    "chart_events_data_1 = chart_events_data[chart_events_data['stay_id'].isin(ICU_patient_data_test['stay_id'])].copy()"
   ]
  },
  {
   "cell_type": "code",
   "execution_count": null,
   "id": "29cb8abe",
   "metadata": {
    "scrolled": true
   },
   "outputs": [],
   "source": [
    "chart_events_data_1"
   ]
  },
  {
   "cell_type": "code",
   "execution_count": null,
   "id": "535b9e93",
   "metadata": {},
   "outputs": [],
   "source": [
    "d_items_data_1['linksto'].value_counts()"
   ]
  },
  {
   "cell_type": "code",
   "execution_count": null,
   "id": "ab77141a",
   "metadata": {},
   "outputs": [],
   "source": [
    "d_items_data_chart = d_items_data_1[d_items_data_1['linksto'] == 'chartevents'].copy()\n",
    "d_items_data_output = d_items_data_1[d_items_data_1['linksto'] == 'outputevents'].copy()\n",
    "d_items_data_datetime = d_items_data_1[d_items_data_1['linksto'] == 'datetimeevents'].copy()\n",
    "d_items_data_ingred = d_items_data_1[d_items_data_1['linksto'] == 'ingredientevents'].copy()"
   ]
  },
  {
   "cell_type": "code",
   "execution_count": null,
   "id": "49e2a01d",
   "metadata": {},
   "outputs": [],
   "source": [
    "d_items_data_chart"
   ]
  },
  {
   "cell_type": "markdown",
   "id": "64827f4b",
   "metadata": {},
   "source": [
    "- Select and mark patients"
   ]
  },
  {
   "cell_type": "code",
   "execution_count": null,
   "id": "4fe4f9ce",
   "metadata": {},
   "outputs": [],
   "source": [
    "ICU_unit = ['Medical Intensive Care Unit (MICU)', \n",
    "            'Surgical Intensive Care Unit (SICU)', \n",
    "            'Medical/Surgical Intensive Care Unit (MICU/SICU)', \n",
    "            'Cardiac Vascular Intensive Care Unit (CVICU)', \n",
    "            'Coronary Care Unit (CCU)', \n",
    "            'Trauma SICU (TSICU)']\n",
    "\n",
    "ICU_patient_data_test = ICU_patient_data[ICU_patient_data['first_careunit'].isin(ICU_unit)].copy()"
   ]
  },
  {
   "cell_type": "code",
   "execution_count": null,
   "id": "3ae17043",
   "metadata": {},
   "outputs": [],
   "source": [
    "ICU_patient_data_s_15 = ICU_patient_data_test.copy()\n",
    "# ICU_patient_data_s_15 = ICU_patient_data_test[ICU_patient_data_test['los'] <= 15.00].copy()\n",
    "# ICU_patient_data_s_30 = ICU_patient_data_test[ICU_patient_data_test['los'] <= 30.00].copy()"
   ]
  },
  {
   "cell_type": "code",
   "execution_count": null,
   "id": "82618054",
   "metadata": {},
   "outputs": [],
   "source": [
    "ICU_patient_data_s_15 = ICU_patient_data_s_15.reset_index(drop = True)"
   ]
  },
  {
   "cell_type": "code",
   "execution_count": null,
   "id": "53ae6add",
   "metadata": {},
   "outputs": [],
   "source": [
    "chart_events_data_1 = chart_events_data_1.reset_index(drop = True)"
   ]
  },
  {
   "cell_type": "code",
   "execution_count": null,
   "id": "a3c0bf3f",
   "metadata": {},
   "outputs": [],
   "source": [
    "ICU_patient_data_s_15['intime'] = pd.to_datetime(ICU_patient_data_s_15['intime'])\n",
    "ICU_patient_data_s_15['outtime'] = pd.to_datetime(ICU_patient_data_s_15['outtime'])\n",
    "\n",
    "ICU_patient_data_s_15['TD_LOS'] = ICU_patient_data_s_15['outtime'] - ICU_patient_data_s_15['intime']"
   ]
  },
  {
   "cell_type": "code",
   "execution_count": null,
   "id": "a815f2dc",
   "metadata": {},
   "outputs": [],
   "source": [
    "ICU_patient_data_s_15 = ICU_patient_data_s_15.sort_values(by = ['subject_id', 'intime'])\n",
    "\n",
    "pa_list = pd.unique(ICU_patient_data_s_15['subject_id'])\n",
    "icu_list = pd.unique(ICU_patient_data_s_15['stay_id'])\n",
    "\n",
    "# build the readmission list\n",
    "icu_rd_list = []\n",
    "\n",
    "for i in range(len(pa_list)):\n",
    "    sub_data = ICU_patient_data_s_15[ICU_patient_data_s_15['subject_id'] == pa_list[i]]\n",
    "    if len(pd.unique(sub_data['stay_id'])) > 1:\n",
    "        icu_rd_list.append(pa_list[i])\n",
    "\n",
    "ICU_patient_data_rd = ICU_patient_data_s_15[ICU_patient_data_s_15['subject_id'].isin(icu_rd_list)].copy()\n",
    "\n",
    "pa_list_d_7 = []\n",
    "pa_list_d_14 = []\n",
    "pa_list_d_21 = []\n",
    "pa_list_d_30 = []\n",
    "pa_list_d_60 = []\n",
    "pa_list_d_90 = []\n",
    "\n",
    "icu_rd_7_list = []\n",
    "icu_rd_14_list = []\n",
    "icu_rd_21_list = []\n",
    "icu_rd_30_list = []\n",
    "icu_rd_60_list = []\n",
    "icu_rd_90_list = []\n",
    "\n",
    "dist_fail_7_list = []\n",
    "dist_fail_14_list = []\n",
    "dist_fail_21_list = []\n",
    "dist_fail_30_list = []\n",
    "dist_fail_60_list = []\n",
    "dist_fail_90_list = []\n",
    "\n",
    "for i in tqdm(range(len(icu_rd_list))):\n",
    "    sub_data = ICU_patient_data_rd[ICU_patient_data_rd['subject_id'] == icu_rd_list[i]]\n",
    "    \n",
    "    for j in range(1, len(sub_data)):\n",
    "        if sub_data['stay_id'].iloc[j] != sub_data['stay_id'].iloc[j-1]:\n",
    "\n",
    "            if sub_data['intime'].iloc[j] - sub_data['outtime'].iloc[j-1] <= pd.Timedelta('7 days 00:00:00'):\n",
    "                pa_list_d_7.append(icu_rd_list[i])\n",
    "                dist_fail_7_list.append(sub_data['stay_id'].iloc[j - 1])\n",
    "                icu_rd_7_list.append(sub_data['stay_id'].iloc[j])\n",
    "                \n",
    "            if sub_data['intime'].iloc[j] - sub_data['outtime'].iloc[j-1] <= pd.Timedelta('14 days 00:00:00'):\n",
    "                pa_list_d_14.append(icu_rd_list[i])\n",
    "                dist_fail_14_list.append(sub_data['stay_id'].iloc[j - 1])\n",
    "                icu_rd_14_list.append(sub_data['stay_id'].iloc[j])\n",
    "\n",
    "            if sub_data['intime'].iloc[j] - sub_data['outtime'].iloc[j-1] <= pd.Timedelta('21 days 00:00:00'):\n",
    "                pa_list_d_21.append(icu_rd_list[i])\n",
    "                dist_fail_21_list.append(sub_data['stay_id'].iloc[j - 1])\n",
    "                icu_rd_21_list.append(sub_data['stay_id'].iloc[j])\n",
    "\n",
    "            if sub_data['intime'].iloc[j] - sub_data['outtime'].iloc[j-1] <= pd.Timedelta('30 days 00:00:00'):\n",
    "                pa_list_d_30.append(icu_rd_list[i])\n",
    "                dist_fail_30_list.append(sub_data['stay_id'].iloc[j - 1])\n",
    "                icu_rd_30_list.append(sub_data['stay_id'].iloc[j])\n",
    "\n",
    "            if sub_data['intime'].iloc[j] - sub_data['outtime'].iloc[j-1] <= pd.Timedelta('60 days 00:00:00'):\n",
    "                pa_list_d_60.append(icu_rd_list[i])\n",
    "                dist_fail_60_list.append(sub_data['stay_id'].iloc[j - 1])\n",
    "                icu_rd_60_list.append(sub_data['stay_id'].iloc[j])\n",
    "\n",
    "            if sub_data['intime'].iloc[j] - sub_data['outtime'].iloc[j-1] <= pd.Timedelta('90 days 00:00:00'):\n",
    "                pa_list_d_90.append(icu_rd_list[i])\n",
    "                dist_fail_90_list.append(sub_data['stay_id'].iloc[j - 1])\n",
    "                icu_rd_90_list.append(sub_data['stay_id'].iloc[j])      \n",
    "        \n",
    "        else:\n",
    "            print(\"Error: \", sub_data['stay_id'].iloc[j])          "
   ]
  },
  {
   "cell_type": "code",
   "execution_count": null,
   "id": "ec90dd2f",
   "metadata": {},
   "outputs": [],
   "source": [
    "ICU_patient_data_s_15['discharge_fail_7_day'] = 0\n",
    "ICU_patient_data_s_15['discharge_fail_14_day'] = 0\n",
    "ICU_patient_data_s_15['discharge_fail_21_day'] = 0\n",
    "ICU_patient_data_s_15['discharge_fail_30_day'] = 0\n",
    "ICU_patient_data_s_15['discharge_fail_60_day'] = 0\n",
    "ICU_patient_data_s_15['discharge_fail_90_day'] = 0\n",
    "\n",
    "ICU_patient_data_s_15['readmission_7_day'] = 0\n",
    "ICU_patient_data_s_15['readmission_14_day'] = 0\n",
    "ICU_patient_data_s_15['readmission_21_day'] = 0\n",
    "ICU_patient_data_s_15['readmission_30_day'] = 0\n",
    "ICU_patient_data_s_15['readmission_60_day'] = 0\n",
    "ICU_patient_data_s_15['readmission_90_day'] = 0\n",
    "\n",
    "\n",
    "# Mark discharge failures for each time window\n",
    "for stay_id in dist_fail_7_list:\n",
    "    ICU_patient_data_s_15.loc[ICU_patient_data_s_15['stay_id'] == stay_id, 'discharge_fail_7_day'] = 1\n",
    "\n",
    "for stay_id in dist_fail_14_list:\n",
    "    ICU_patient_data_s_15.loc[ICU_patient_data_s_15['stay_id'] == stay_id, 'discharge_fail_14_day'] = 1\n",
    "\n",
    "for stay_id in dist_fail_21_list:\n",
    "    ICU_patient_data_s_15.loc[ICU_patient_data_s_15['stay_id'] == stay_id, 'discharge_fail_21_day'] = 1\n",
    "\n",
    "for stay_id in dist_fail_30_list:\n",
    "    ICU_patient_data_s_15.loc[ICU_patient_data_s_15['stay_id'] == stay_id, 'discharge_fail_30_day'] = 1\n",
    "\n",
    "for stay_id in dist_fail_60_list:\n",
    "    ICU_patient_data_s_15.loc[ICU_patient_data_s_15['stay_id'] == stay_id, 'discharge_fail_60_day'] = 1\n",
    "\n",
    "for stay_id in dist_fail_90_list:\n",
    "    ICU_patient_data_s_15.loc[ICU_patient_data_s_15['stay_id'] == stay_id, 'discharge_fail_90_day'] = 1\n",
    "\n",
    "\n",
    "# Mark readmissions for each time window\n",
    "for stay_id in icu_rd_7_list:\n",
    "    ICU_patient_data_s_15.loc[ICU_patient_data_s_15['stay_id'] == stay_id, 'readmission_7_day'] = 1\n",
    "\n",
    "for stay_id in icu_rd_14_list:\n",
    "    ICU_patient_data_s_15.loc[ICU_patient_data_s_15['stay_id'] == stay_id, 'readmission_14_day'] = 1\n",
    "    \n",
    "for stay_id in icu_rd_21_list:\n",
    "    ICU_patient_data_s_15.loc[ICU_patient_data_s_15['stay_id'] == stay_id, 'readmission_21_day'] = 1\n",
    "\n",
    "for stay_id in icu_rd_30_list:\n",
    "    ICU_patient_data_s_15.loc[ICU_patient_data_s_15['stay_id'] == stay_id, 'readmission_30_day'] = 1\n",
    "\n",
    "for stay_id in icu_rd_60_list:\n",
    "    ICU_patient_data_s_15.loc[ICU_patient_data_s_15['stay_id'] == stay_id, 'readmission_60_day'] = 1\n",
    "\n",
    "for stay_id in icu_rd_90_list:\n",
    "    ICU_patient_data_s_15.loc[ICU_patient_data_s_15['stay_id'] == stay_id, 'readmission_90_day'] = 1"
   ]
  },
  {
   "cell_type": "code",
   "execution_count": null,
   "id": "8e531edf",
   "metadata": {},
   "outputs": [],
   "source": [
    "ICU_patient_data_s_15[ICU_patient_data_s_15['subject_id'] == 16133115]"
   ]
  },
  {
   "cell_type": "code",
   "execution_count": null,
   "id": "3e70f0db",
   "metadata": {},
   "outputs": [],
   "source": [
    "admission_data = pd.read_csv('../icu_data/mimic_iv/admissions.csv.gz', compression = 'gzip')\n",
    "patients_data = pd.read_csv('../icu_data/mimic_iv/patients.csv.gz', compression = 'gzip')"
   ]
  },
  {
   "cell_type": "code",
   "execution_count": null,
   "id": "1a6f7e58",
   "metadata": {},
   "outputs": [],
   "source": [
    "patients_data_select = patients_data.drop(columns = ['anchor_year', 'anchor_year_group'])\n",
    "admission_data_select = admission_data[['subject_id', 'hadm_id', 'admittime', 'dischtime', 'deathtime', 'admission_type', 'race']]\n",
    "\n",
    "patients_data_select = patients_data_select[patients_data_select['subject_id'].isin(ICU_patient_data_s_15['subject_id'])]\n",
    "admission_data_select = admission_data_select[admission_data_select['subject_id'].isin(ICU_patient_data_s_15['subject_id'])]\n",
    "\n",
    "admission_data_select_v1 = admission_data_select[['subject_id', 'race']].copy()\n",
    "admission_data_select_v1 = admission_data_select_v1.drop_duplicates(subset = ['subject_id'], keep = 'first')\n",
    "\n",
    "ICU_patient_data_s15_v1 = pd.merge(ICU_patient_data_s_15, admission_data_select_v1, on = 'subject_id', how = 'left')\n",
    "ICU_patient_data_s15_v2 = pd.merge(ICU_patient_data_s15_v1, patients_data_select, on = 'subject_id', how = 'left')"
   ]
  },
  {
   "cell_type": "code",
   "execution_count": null,
   "id": "820eccd4",
   "metadata": {},
   "outputs": [],
   "source": [
    "ICU_patient_data_s15_v2.info()"
   ]
  },
  {
   "cell_type": "code",
   "execution_count": null,
   "id": "d64173c4",
   "metadata": {},
   "outputs": [],
   "source": [
    "ICU_patient_data_s15_v2['dod'] = pd.to_datetime(ICU_patient_data_s15_v2['dod'])\n",
    "ICU_patient_data_s15_v2['TD_death_disch'] = ICU_patient_data_s15_v2['dod'] - ICU_patient_data_s15_v2['outtime']\n",
    "\n",
    "ICU_patient_data_s15_v2['death_in_ICU'] = 0\n",
    "\n",
    "ICU_patient_data_s15_v2['death_out_ICU_7_day'] = 0\n",
    "ICU_patient_data_s15_v2['death_out_ICU_14_day'] = 0\n",
    "ICU_patient_data_s15_v2['death_out_ICU_21_day'] = 0\n",
    "ICU_patient_data_s15_v2['death_out_ICU_30_day'] = 0\n",
    "ICU_patient_data_s15_v2['death_out_ICU_60_day'] = 0\n",
    "ICU_patient_data_s15_v2['death_out_ICU_90_day'] = 0\n",
    "\n",
    "\n",
    "# Mark death in ICU\n",
    "ICU_patient_data_s15_v2.loc[ICU_patient_data_s15_v2['TD_death_disch'] <= pd.Timedelta(0), 'death_in_ICU'] = 1\n",
    "\n",
    "# Mark death after ICU discharge within different time windows\n",
    "ICU_patient_data_s15_v2.loc[(ICU_patient_data_s15_v2['TD_death_disch'] > pd.Timedelta(0)) & \n",
    "                           (ICU_patient_data_s15_v2['TD_death_disch'] <= pd.Timedelta(days = 7)), 'death_out_ICU_7_day'] = 1\n",
    "\n",
    "ICU_patient_data_s15_v2.loc[(ICU_patient_data_s15_v2['TD_death_disch'] > pd.Timedelta(0)) &\n",
    "                           (ICU_patient_data_s15_v2['TD_death_disch'] <= pd.Timedelta(days = 14)), 'death_out_ICU_14_day'] = 1\n",
    "\n",
    "ICU_patient_data_s15_v2.loc[(ICU_patient_data_s15_v2['TD_death_disch'] > pd.Timedelta(0)) &\n",
    "                           (ICU_patient_data_s15_v2['TD_death_disch'] <= pd.Timedelta(days = 21)), 'death_out_ICU_21_day'] = 1\n",
    "\n",
    "ICU_patient_data_s15_v2.loc[(ICU_patient_data_s15_v2['TD_death_disch'] > pd.Timedelta(0)) &\n",
    "                           (ICU_patient_data_s15_v2['TD_death_disch'] <= pd.Timedelta(days = 30)), 'death_out_ICU_30_day'] = 1\n",
    "\n",
    "ICU_patient_data_s15_v2.loc[(ICU_patient_data_s15_v2['TD_death_disch'] > pd.Timedelta(0)) &\n",
    "                           (ICU_patient_data_s15_v2['TD_death_disch'] <= pd.Timedelta(days = 60)), 'death_out_ICU_60_day'] = 1\n",
    "\n",
    "ICU_patient_data_s15_v2.loc[(ICU_patient_data_s15_v2['TD_death_disch'] > pd.Timedelta(0)) &\n",
    "                           (ICU_patient_data_s15_v2['TD_death_disch'] <= pd.Timedelta(days = 90)), 'death_out_ICU_90_day'] = 1"
   ]
  },
  {
   "cell_type": "markdown",
   "id": "5a4f77d2",
   "metadata": {},
   "source": [
    "- Mark readmission count"
   ]
  },
  {
   "cell_type": "code",
   "execution_count": null,
   "id": "22b211c3",
   "metadata": {
    "scrolled": true
   },
   "outputs": [],
   "source": [
    "list(ICU_patient_data_s15_v2.columns)"
   ]
  },
  {
   "cell_type": "code",
   "execution_count": null,
   "id": "41c69fce",
   "metadata": {},
   "outputs": [],
   "source": [
    "patient_list = pd.unique(ICU_patient_data_s15_v2['subject_id'])\n",
    "icu_stay_list = pd.unique(ICU_patient_data_s15_v2['stay_id'])"
   ]
  },
  {
   "cell_type": "code",
   "execution_count": null,
   "id": "c30faf80",
   "metadata": {},
   "outputs": [],
   "source": [
    "time_windows = [7, 14, 21, 30, 60, 90]\n",
    "\n",
    "for w in time_windows:\n",
    "    ICU_patient_data_s15_v2[f'readmission_count_{w}_day'] = 0\n",
    "\n",
    "patient_list = ICU_patient_data_s15_v2['subject_id'].unique()\n",
    "\n",
    "for patient_id in patient_list:\n",
    "    sub_data = ICU_patient_data_s15_v2.loc[ICU_patient_data_s15_v2['subject_id'] == patient_id]\n",
    "\n",
    "    prev_counts = {w: 0 for w in time_windows}\n",
    "\n",
    "    for idx, row in sub_data.iterrows():\n",
    "\n",
    "        for w in time_windows:\n",
    "\n",
    "            if row[f'readmission_{w}_day'] == 1:\n",
    "                current_count = prev_counts[w] + 1\n",
    "            \n",
    "            else:\n",
    "                # current_count = prev_counts[w]\n",
    "                current_count = 0\n",
    "\n",
    "            ICU_patient_data_s15_v2.at[idx, f'readmission_count_{w}_day'] = current_count\n",
    "\n",
    "            prev_counts[w] = current_count"
   ]
  },
  {
   "cell_type": "code",
   "execution_count": null,
   "id": "4593c550",
   "metadata": {},
   "outputs": [],
   "source": [
    "ICU_patient_data_s15_v2[ICU_patient_data_s15_v2['subject_id'] == 16133115][['stay_id', 'discharge_fail_30_day', 'readmission_count_30_day']]"
   ]
  },
  {
   "cell_type": "code",
   "execution_count": null,
   "id": "680d77ee",
   "metadata": {
    "scrolled": true
   },
   "outputs": [],
   "source": [
    "list(ICU_patient_data_s15_v2.columns)"
   ]
  },
  {
   "cell_type": "code",
   "execution_count": null,
   "id": "8576302d",
   "metadata": {},
   "outputs": [],
   "source": [
    "len(list(ICU_patient_data_s15_v2.columns))"
   ]
  },
  {
   "cell_type": "code",
   "execution_count": null,
   "id": "a5eb29ee",
   "metadata": {
    "scrolled": true
   },
   "outputs": [],
   "source": [
    "ICU_patient_data_s15_v2[['subject_id', 'stay_id', 'readmission_30_day', 'readmission_count_30_day']].head(50)"
   ]
  },
  {
   "cell_type": "code",
   "execution_count": null,
   "id": "e3ac062c",
   "metadata": {},
   "outputs": [],
   "source": []
  },
  {
   "cell_type": "markdown",
   "id": "101e14df",
   "metadata": {},
   "source": [
    "- chart_events Data Preprocessing"
   ]
  },
  {
   "cell_type": "code",
   "execution_count": null,
   "id": "113f6478",
   "metadata": {},
   "outputs": [],
   "source": [
    "d_items_data_chart_numeric = d_items_data_chart[d_items_data_chart['param_type'] == 'Numeric']\n",
    "d_items_data_chart_text = d_items_data_chart[d_items_data_chart['param_type'] == 'Text']\n",
    "d_items_data_chart_numeric_tag = d_items_data_chart[d_items_data_chart['param_type'] == 'Numeric with tag']\n",
    "d_items_data_chart_checkbox = d_items_data_chart[d_items_data_chart['param_type'] == 'Checkbox']"
   ]
  },
  {
   "cell_type": "code",
   "execution_count": null,
   "id": "db35ec1e",
   "metadata": {},
   "outputs": [],
   "source": [
    "d_items_data_chart_select = d_items_data_chart[~d_items_data_chart['label'].isin(['Ventilator Type', 'Ventilator Mode', \n",
    "                                                                                  'SaO2 < 90% > 2 min', 'Gender', \n",
    "                                                                                  'Race', 'Cardiovascular', 'Musculoskeletal', \n",
    "                                                                                  'Neurological', 'Nutrition', 'Respiratory', \n",
    "                                                                                  'Vascular', 'Mechanically Ventilated', \n",
    "                                                                                  'Re-admit < 48 hours'])]"
   ]
  },
  {
   "cell_type": "code",
   "execution_count": null,
   "id": "9901af50",
   "metadata": {},
   "outputs": [],
   "source": [
    "chart_events_data_1[['subject_id', 'hadm_id', 'stay_id', 'itemid']] = chart_events_data_1[['subject_id', 'hadm_id', 'stay_id', 'itemid']].astype('int64')"
   ]
  },
  {
   "cell_type": "code",
   "execution_count": null,
   "id": "cd930ea0",
   "metadata": {},
   "outputs": [],
   "source": [
    "chart_events_data_1.info()"
   ]
  },
  {
   "cell_type": "code",
   "execution_count": null,
   "id": "d2b925f6",
   "metadata": {},
   "outputs": [],
   "source": [
    "chart_events_data_2 = chart_events_data_1[chart_events_data_1['itemid'].isin(d_items_data_chart_select['itemid'])]"
   ]
  },
  {
   "cell_type": "code",
   "execution_count": null,
   "id": "05e483ad",
   "metadata": {
    "scrolled": true
   },
   "outputs": [],
   "source": [
    "chart_events_data_2 = chart_events_data_2.reset_index(drop = True)"
   ]
  },
  {
   "cell_type": "code",
   "execution_count": null,
   "id": "9b67ad3d",
   "metadata": {},
   "outputs": [],
   "source": [
    "chart_events_data_2.info()"
   ]
  },
  {
   "cell_type": "code",
   "execution_count": null,
   "id": "ffaa9baf",
   "metadata": {},
   "outputs": [],
   "source": [
    "tuple_list = list(zip(d_items_data_chart_select[\"itemid\"], d_items_data_chart_select[\"label\"]))\n",
    "print(tuple_list)"
   ]
  },
  {
   "cell_type": "code",
   "execution_count": null,
   "id": "582bea9c",
   "metadata": {
    "scrolled": true
   },
   "outputs": [],
   "source": [
    "chart_events_data_2[chart_events_data_2['itemid'] == 228878]"
   ]
  },
  {
   "cell_type": "code",
   "execution_count": null,
   "id": "682a6fdb",
   "metadata": {},
   "outputs": [],
   "source": [
    "# Counter(chart_events_data_2[chart_events_data_2['itemid'] == 220048]['value'])"
   ]
  },
  {
   "cell_type": "code",
   "execution_count": null,
   "id": "4c64e58b",
   "metadata": {},
   "outputs": [],
   "source": [
    "var_delete_list = ['Heart Rhythm', 'PA %O2 Saturation (PA Line)', 'SOFA Score', 'Urine output_ApacheIV']"
   ]
  },
  {
   "cell_type": "code",
   "execution_count": null,
   "id": "506bb2c4",
   "metadata": {},
   "outputs": [],
   "source": [
    "d_items_data_chart_select = d_items_data_chart_select[~d_items_data_chart_select['label'].isin(var_delete_list)]"
   ]
  },
  {
   "cell_type": "code",
   "execution_count": null,
   "id": "2b320d4b",
   "metadata": {
    "scrolled": true
   },
   "outputs": [],
   "source": [
    "d_items_data_chart_select"
   ]
  },
  {
   "cell_type": "code",
   "execution_count": null,
   "id": "6a2828e5",
   "metadata": {
    "scrolled": true
   },
   "outputs": [],
   "source": [
    "# physio_table_7_day = {'subject_id':[], 'hadm_id':[], 'stay_id':[], \n",
    "#                       'time':[],\n",
    "#                       'icu_starttime':[], 'icu_endtime':[], 'los':[],\n",
    "#                       'discharge_fail':[], \n",
    "#                       'readmission':[], 'readmission_count':[],\n",
    "#                       'death_in_ICU':[], 'death_out_ICU':[], \n",
    "#                       'age':[], 'gender':[], 'race':[]}\n",
    "\n",
    "# for label in d_items_data_chart_select['label']:\n",
    "#     physio_table_7_day[label] = []\n",
    "\n",
    "# physio_table_7_day"
   ]
  },
  {
   "cell_type": "code",
   "execution_count": null,
   "id": "9a53506f",
   "metadata": {},
   "outputs": [],
   "source": [
    "[len(pd.unique(chart_events_data_2['stay_id'])), len(pd.unique(ICU_patient_data_s15_v2['stay_id']))]"
   ]
  },
  {
   "cell_type": "code",
   "execution_count": null,
   "id": "656a95a2",
   "metadata": {},
   "outputs": [],
   "source": [
    "chart_events_data_3 = chart_events_data_2[chart_events_data_2['stay_id'].isin(ICU_patient_data_s15_v2['stay_id'])].copy()"
   ]
  },
  {
   "cell_type": "code",
   "execution_count": null,
   "id": "67f5859e",
   "metadata": {},
   "outputs": [],
   "source": [
    "[len(pd.unique(chart_events_data_3['stay_id'])), len(pd.unique(ICU_patient_data_s15_v2['stay_id']))]"
   ]
  },
  {
   "cell_type": "code",
   "execution_count": null,
   "id": "892da988",
   "metadata": {},
   "outputs": [],
   "source": [
    "[len(pd.unique(chart_events_data_3['subject_id'])), len(pd.unique(ICU_patient_data_s15_v2['subject_id']))]"
   ]
  },
  {
   "cell_type": "code",
   "execution_count": null,
   "id": "2afef7c8",
   "metadata": {},
   "outputs": [],
   "source": [
    "drop_patient_list = pd.unique(ICU_patient_data_s15_v2[~ICU_patient_data_s15_v2['stay_id'].isin(chart_events_data_3['stay_id'])]['subject_id'])"
   ]
  },
  {
   "cell_type": "code",
   "execution_count": null,
   "id": "29bba26a",
   "metadata": {},
   "outputs": [],
   "source": [
    "drop_patient_list"
   ]
  },
  {
   "cell_type": "code",
   "execution_count": null,
   "id": "74de0db7",
   "metadata": {},
   "outputs": [],
   "source": [
    "ICU_patient_data_s15_v2 = ICU_patient_data_s15_v2[~ICU_patient_data_s15_v2['subject_id'].isin(drop_patient_list)]"
   ]
  },
  {
   "cell_type": "code",
   "execution_count": null,
   "id": "be68087e",
   "metadata": {},
   "outputs": [],
   "source": [
    "ICU_patient_data_s15_v2.info()"
   ]
  },
  {
   "cell_type": "code",
   "execution_count": null,
   "id": "24a4b07b",
   "metadata": {},
   "outputs": [],
   "source": [
    "drop_patient_list = pd.unique(ICU_patient_data_s15_v2[ICU_patient_data_s15_v2['los'].isnull()]['subject_id'])"
   ]
  },
  {
   "cell_type": "code",
   "execution_count": null,
   "id": "3beadb90",
   "metadata": {},
   "outputs": [],
   "source": [
    "drop_patient_list"
   ]
  },
  {
   "cell_type": "code",
   "execution_count": null,
   "id": "35377d14",
   "metadata": {},
   "outputs": [],
   "source": [
    "ICU_patient_data_s15_v2 = ICU_patient_data_s15_v2[~ICU_patient_data_s15_v2['subject_id'].isin(drop_patient_list)]"
   ]
  },
  {
   "cell_type": "code",
   "execution_count": null,
   "id": "7eecca58",
   "metadata": {},
   "outputs": [],
   "source": [
    "chart_events_data_3 = chart_events_data_3[chart_events_data_3['stay_id'].isin(ICU_patient_data_s15_v2['stay_id'])].copy()"
   ]
  },
  {
   "cell_type": "code",
   "execution_count": null,
   "id": "53de6ad2",
   "metadata": {},
   "outputs": [],
   "source": [
    "[len(pd.unique(chart_events_data_3['stay_id'])), len(pd.unique(ICU_patient_data_s15_v2['stay_id']))]"
   ]
  },
  {
   "cell_type": "code",
   "execution_count": null,
   "id": "05815776",
   "metadata": {},
   "outputs": [],
   "source": [
    "chart_events_data_3 = chart_events_data_3.reset_index(drop = True)"
   ]
  },
  {
   "cell_type": "code",
   "execution_count": null,
   "id": "178d6498",
   "metadata": {},
   "outputs": [],
   "source": [
    "chart_events_data_3.info()"
   ]
  },
  {
   "cell_type": "code",
   "execution_count": null,
   "id": "c7cb6857",
   "metadata": {},
   "outputs": [],
   "source": [
    "ICU_patient_data_s15_v2 = ICU_patient_data_s15_v2.reset_index(drop = True)"
   ]
  },
  {
   "cell_type": "code",
   "execution_count": null,
   "id": "50813188",
   "metadata": {
    "scrolled": true
   },
   "outputs": [],
   "source": [
    "ICU_patient_data_s15_v2.info()"
   ]
  },
  {
   "cell_type": "code",
   "execution_count": null,
   "id": "2cacfe66",
   "metadata": {},
   "outputs": [],
   "source": [
    "icu_stay_list = list(ICU_patient_data_s15_v2['stay_id'])"
   ]
  },
  {
   "cell_type": "markdown",
   "id": "2822763c",
   "metadata": {},
   "source": [
    "There are ten ICU admissions without any char_event records."
   ]
  },
  {
   "cell_type": "code",
   "execution_count": null,
   "id": "c73e5a20",
   "metadata": {},
   "outputs": [],
   "source": [
    "chart_events_data_3['charttime'] = pd.to_datetime(chart_events_data_3['charttime'])\n",
    "chart_events_data_3['storetime'] = pd.to_datetime(chart_events_data_3['storetime'])"
   ]
  },
  {
   "cell_type": "code",
   "execution_count": null,
   "id": "57a6bc69",
   "metadata": {},
   "outputs": [],
   "source": [
    "chart_events_data_3.info()"
   ]
  },
  {
   "cell_type": "code",
   "execution_count": null,
   "id": "e629bfb8",
   "metadata": {},
   "outputs": [],
   "source": [
    "# Counter(ICU_patient_data_s15_v2['readmission_count_7_day'])"
   ]
  },
  {
   "cell_type": "code",
   "execution_count": null,
   "id": "f370d1aa",
   "metadata": {},
   "outputs": [],
   "source": [
    "# ICU_patient_data_s15_v2['readmission_count_7_day'].to_numpy().max()"
   ]
  },
  {
   "cell_type": "code",
   "execution_count": null,
   "id": "69b3fc97",
   "metadata": {},
   "outputs": [],
   "source": [
    "def data_select(data, i_1, i_2, i_3):\n",
    "    sub_data = data.loc[(data['charttime'] >= i_1) & \n",
    "                        (data['charttime'] <= i_2) & \n",
    "                        (data[\"itemid\"] == i_3)]\n",
    "    return sub_data"
   ]
  },
  {
   "cell_type": "code",
   "execution_count": null,
   "id": "494c0768",
   "metadata": {
    "scrolled": true
   },
   "outputs": [],
   "source": [
    "# for i in range(len(icu_stay_list)):\n",
    "    \n",
    "#     print(\"The number of processed ICU stay admissions: \", i)\n",
    "     \n",
    "#     index = ICU_patient_data_s15_v2[\"intime\"].iloc[i]\n",
    "    \n",
    "#     s_table_id = chart_events_data_3[chart_events_data_3['stay_id'] == icu_stay_list[i]]\n",
    "\n",
    "#     while index <= ICU_patient_data_s15_v2[\"outtime\"].iloc[i]:\n",
    "#         physio_table_7_day['subject_id'].append(ICU_patient_data_s15_v2['subject_id'].iloc[i])\n",
    "#         physio_table_7_day['hadm_id'].append(ICU_patient_data_s15_v2['hadm_id'].iloc[i])\n",
    "#         physio_table_7_day['stay_id'].append(ICU_patient_data_s15_v2['stay_id'].iloc[i])\n",
    "#         physio_table_7_day['icu_starttime'].append(ICU_patient_data_s15_v2['intime'].iloc[i])\n",
    "#         physio_table_7_day['icu_endtime'].append(ICU_patient_data_s15_v2['outtime'].iloc[i]) \n",
    "#         physio_table_7_day['los'].append(ICU_patient_data_s15_v2['los'].iloc[i])        \n",
    "#         physio_table_7_day['discharge_fail'].append(ICU_patient_data_s15_v2['discharge_fail_7_day'].iloc[i])\n",
    "#         physio_table_7_day['readmission'].append(ICU_patient_data_s15_v2['readmission_7_day'].iloc[i])\n",
    "#         physio_table_7_day['readmission_count'].append(ICU_patient_data_s15_v2['readmission_count_7_day'].iloc[i])\n",
    "#         physio_table_7_day['death_in_ICU'].append(ICU_patient_data_s15_v2['death_in_ICU'].iloc[i])\n",
    "#         physio_table_7_day['death_out_ICU'].append(ICU_patient_data_s15_v2['death_out_ICU_7_day'].iloc[i])\n",
    "#         physio_table_7_day['age'].append(ICU_patient_data_s15_v2['anchor_age'].iloc[i])\n",
    "#         physio_table_7_day['gender'].append(ICU_patient_data_s15_v2['gender'].iloc[i])\n",
    "#         physio_table_7_day['race'].append(ICU_patient_data_s15_v2['race'].iloc[i])\n",
    "        \n",
    "#         td = pd.Timedelta('0 days 12:00:00')\n",
    "#         rd_idx = physio_table_7_day['readmission_count'][-1]\n",
    "        \n",
    "#         index_1 = index + td * (0.5**rd_idx)\n",
    "        \n",
    "#         if index_1 <= ICU_patient_data_s15_v2[\"outtime\"].iloc[i]:\n",
    "#             physio_table_7_day['time'].append(index_1)\n",
    "#         else:\n",
    "#             index_1 = ICU_patient_data_s15_v2[\"outtime\"].iloc[i]\n",
    "#             physio_table_7_day['time'].append(index_1)\n",
    "            \n",
    "#         for j in range(len(d_items_data_chart_select)):\n",
    "#             s_table = data_select(s_table_id, \n",
    "#                                   index, \n",
    "#                                   index_1,\n",
    "#                                   d_items_data_chart_select[\"itemid\"].iloc[j])\n",
    "\n",
    "#             n = len(s_table)\n",
    "\n",
    "#             if n >= 1:\n",
    "#                 physio_table_7_day[d_items_data_chart_select['label'].iloc[j]].append(s_table['valuenum'].mean())\n",
    "#                 # physio_table[d_items_data_chart_select['label'].iloc[j]].append(s_table['valuenum'].iloc[-1])\n",
    "\n",
    "#             else:\n",
    "#                 physio_table_7_day[d_items_data_chart_select['label'].iloc[j]].append(np.nan)\n",
    "\n",
    "#         index = index + td * (0.5**rd_idx)"
   ]
  },
  {
   "cell_type": "code",
   "execution_count": null,
   "id": "5f7b967e",
   "metadata": {},
   "outputs": [],
   "source": [
    "# physio_df_7d = pd.DataFrame.from_dict(physio_table_7_day)\n",
    "# physio_df_7d.to_csv('../icu_data/mimic_iv/physio_df_7d.csv', index = False)"
   ]
  },
  {
   "cell_type": "code",
   "execution_count": null,
   "id": "0fb08b21",
   "metadata": {},
   "outputs": [],
   "source": []
  },
  {
   "cell_type": "code",
   "execution_count": null,
   "id": "2dd06025",
   "metadata": {
    "scrolled": true
   },
   "outputs": [],
   "source": [
    "physio_table_30_day = {'subject_id':[], 'hadm_id':[], 'stay_id':[], \n",
    "                      'time':[],\n",
    "                      'icu_starttime':[], 'icu_endtime':[], 'los':[],\n",
    "                      'discharge_fail':[], \n",
    "                      'readmission':[], 'readmission_count':[],\n",
    "                      'death_in_ICU':[], 'death_out_ICU':[], \n",
    "                      'age':[], 'gender':[], 'race':[]}\n",
    "\n",
    "for label in d_items_data_chart_select['label']:\n",
    "    physio_table_30_day[label] = []\n",
    "\n",
    "physio_table_30_day"
   ]
  },
  {
   "cell_type": "code",
   "execution_count": null,
   "id": "e1a752fc",
   "metadata": {},
   "outputs": [],
   "source": [
    "ICU_patient_data_s15_v2['readmission_count_30_day'].to_numpy().max()"
   ]
  },
  {
   "cell_type": "code",
   "execution_count": null,
   "id": "d8b951be",
   "metadata": {
    "scrolled": true
   },
   "outputs": [],
   "source": [
    "Counter(ICU_patient_data_s15_v2['readmission_count_30_day'])"
   ]
  },
  {
   "cell_type": "code",
   "execution_count": null,
   "id": "eb7d5fb9",
   "metadata": {},
   "outputs": [],
   "source": [
    "ICU_patient_data_s15_v2[ICU_patient_data_s15_v2['readmission_count_30_day'] == 35]"
   ]
  },
  {
   "cell_type": "code",
   "execution_count": null,
   "id": "bc688809",
   "metadata": {
    "scrolled": true
   },
   "outputs": [],
   "source": [
    "ICU_patient_data_s15_v2[ICU_patient_data_s15_v2['subject_id'] == 18358138]"
   ]
  },
  {
   "cell_type": "code",
   "execution_count": null,
   "id": "89b761ff",
   "metadata": {},
   "outputs": [],
   "source": []
  },
  {
   "cell_type": "code",
   "execution_count": null,
   "id": "2dcfa6cc",
   "metadata": {
    "scrolled": true
   },
   "outputs": [],
   "source": [
    "for i in range(len(icu_stay_list)):\n",
    "    \n",
    "    print(\"The number of processed ICU stay admissions: \", i)\n",
    "     \n",
    "    index = ICU_patient_data_s15_v2[\"intime\"].iloc[i]\n",
    "    \n",
    "    s_table_id = chart_events_data_3[chart_events_data_3['stay_id'] == icu_stay_list[i]]\n",
    "\n",
    "    while index <= ICU_patient_data_s15_v2[\"outtime\"].iloc[i]:\n",
    "        physio_table_30_day['subject_id'].append(ICU_patient_data_s15_v2['subject_id'].iloc[i])\n",
    "        physio_table_30_day['hadm_id'].append(ICU_patient_data_s15_v2['hadm_id'].iloc[i])\n",
    "        physio_table_30_day['stay_id'].append(ICU_patient_data_s15_v2['stay_id'].iloc[i])\n",
    "        physio_table_30_day['icu_starttime'].append(ICU_patient_data_s15_v2['intime'].iloc[i])\n",
    "        physio_table_30_day['icu_endtime'].append(ICU_patient_data_s15_v2['outtime'].iloc[i]) \n",
    "        physio_table_30_day['los'].append(ICU_patient_data_s15_v2['los'].iloc[i])        \n",
    "        physio_table_30_day['discharge_fail'].append(ICU_patient_data_s15_v2['discharge_fail_30_day'].iloc[i])\n",
    "        physio_table_30_day['readmission'].append(ICU_patient_data_s15_v2['readmission_30_day'].iloc[i])\n",
    "        physio_table_30_day['readmission_count'].append(ICU_patient_data_s15_v2['readmission_count_30_day'].iloc[i])\n",
    "        physio_table_30_day['death_in_ICU'].append(ICU_patient_data_s15_v2['death_in_ICU'].iloc[i])\n",
    "        physio_table_30_day['death_out_ICU'].append(ICU_patient_data_s15_v2['death_out_ICU_30_day'].iloc[i])\n",
    "        physio_table_30_day['age'].append(ICU_patient_data_s15_v2['anchor_age'].iloc[i])\n",
    "        physio_table_30_day['gender'].append(ICU_patient_data_s15_v2['gender'].iloc[i])\n",
    "        physio_table_30_day['race'].append(ICU_patient_data_s15_v2['race'].iloc[i])\n",
    "        \n",
    "        td = pd.Timedelta('0 days 12:00:00')\n",
    "        rd_idx = physio_table_30_day['readmission_count'][-1]\n",
    "        \n",
    "        if rd_idx <= 4:\n",
    "        \n",
    "            index_1 = index + td * (0.5**rd_idx)\n",
    "\n",
    "            if index_1 <= ICU_patient_data_s15_v2[\"outtime\"].iloc[i]:\n",
    "                physio_table_30_day['time'].append(index_1)\n",
    "            else:\n",
    "                index_1 = ICU_patient_data_s15_v2[\"outtime\"].iloc[i]\n",
    "                physio_table_30_day['time'].append(index_1)\n",
    "\n",
    "            for j in range(len(d_items_data_chart_select)):\n",
    "                s_table = data_select(s_table_id, \n",
    "                                      index, \n",
    "                                      index_1,\n",
    "                                      d_items_data_chart_select[\"itemid\"].iloc[j])\n",
    "\n",
    "                n = len(s_table)\n",
    "\n",
    "                if n >= 1:\n",
    "                    physio_table_30_day[d_items_data_chart_select['label'].iloc[j]].append(s_table['valuenum'].mean())\n",
    "                    # physio_table[d_items_data_chart_select['label'].iloc[j]].append(s_table['valuenum'].iloc[-1])\n",
    "\n",
    "                else:\n",
    "                    physio_table_30_day[d_items_data_chart_select['label'].iloc[j]].append(np.nan)\n",
    "\n",
    "            index = index + td * (0.5**rd_idx)\n",
    "            \n",
    "        else:\n",
    "            rd_idx = 4\n",
    "            index_1 = index + td * (0.5**rd_idx)\n",
    "\n",
    "            if index_1 <= ICU_patient_data_s15_v2[\"outtime\"].iloc[i]:\n",
    "                physio_table_30_day['time'].append(index_1)\n",
    "            else:\n",
    "                index_1 = ICU_patient_data_s15_v2[\"outtime\"].iloc[i]\n",
    "                physio_table_30_day['time'].append(index_1)\n",
    "\n",
    "            for j in range(len(d_items_data_chart_select)):\n",
    "                s_table = data_select(s_table_id, \n",
    "                                      index, \n",
    "                                      index_1,\n",
    "                                      d_items_data_chart_select[\"itemid\"].iloc[j])\n",
    "\n",
    "                n = len(s_table)\n",
    "\n",
    "                if n >= 1:\n",
    "                    physio_table_30_day[d_items_data_chart_select['label'].iloc[j]].append(s_table['valuenum'].mean())\n",
    "                    # physio_table[d_items_data_chart_select['label'].iloc[j]].append(s_table['valuenum'].iloc[-1])\n",
    "\n",
    "                else:\n",
    "                    physio_table_30_day[d_items_data_chart_select['label'].iloc[j]].append(np.nan)\n",
    "\n",
    "            index = index + td * (0.5**rd_idx)"
   ]
  },
  {
   "cell_type": "code",
   "execution_count": null,
   "id": "7c5de949",
   "metadata": {},
   "outputs": [],
   "source": [
    "physio_df_30d = pd.DataFrame.from_dict(physio_table_30_day)"
   ]
  },
  {
   "cell_type": "code",
   "execution_count": null,
   "id": "ba9b0afd",
   "metadata": {},
   "outputs": [],
   "source": [
    "physio_df_30d.info()"
   ]
  },
  {
   "cell_type": "code",
   "execution_count": null,
   "id": "0ac2e4de",
   "metadata": {},
   "outputs": [],
   "source": [
    "physio_df_30d[physio_df_30d['subject_id'] == 16133115]"
   ]
  },
  {
   "cell_type": "code",
   "execution_count": null,
   "id": "08b11de6",
   "metadata": {},
   "outputs": [],
   "source": [
    "physio_df_30d[physio_df_30d['subject_id'] == 16133115][['subject_id', 'stay_id', 'discharge_fail', 'readmission', 'readmission_count']].iloc[60:100]\n"
   ]
  },
  {
   "cell_type": "code",
   "execution_count": null,
   "id": "6aa5bfc3",
   "metadata": {},
   "outputs": [],
   "source": [
    "# physio_df_30d.to_csv('../icu_data/mimic_iv/physio_df_30d.csv', index = False)"
   ]
  },
  {
   "cell_type": "markdown",
   "id": "1aaf89eb",
   "metadata": {},
   "source": [
    "## Data Preprocess - Part 2"
   ]
  },
  {
   "cell_type": "code",
   "execution_count": null,
   "id": "aa1849c0",
   "metadata": {},
   "outputs": [],
   "source": [
    "physio_df = physio_df_30d.copy()"
   ]
  },
  {
   "cell_type": "code",
   "execution_count": null,
   "id": "20d3c9db",
   "metadata": {
    "scrolled": true
   },
   "outputs": [],
   "source": [
    "physio_df"
   ]
  },
  {
   "cell_type": "markdown",
   "id": "9a0776ba",
   "metadata": {},
   "source": [
    "- Tidal Volume"
   ]
  },
  {
   "cell_type": "code",
   "execution_count": null,
   "id": "d9e64811",
   "metadata": {},
   "outputs": [],
   "source": [
    "physio_df['Tidal Volume (set)'] = physio_df['Tidal Volume (set)']/1000\n",
    "physio_df['Tidal Volume (observed)'] = physio_df['Tidal Volume (observed)']/1000\n",
    "physio_df['Tidal Volume (spontaneous)'] = physio_df['Tidal Volume (spontaneous)']/1000"
   ]
  },
  {
   "cell_type": "markdown",
   "id": "a96ccd1e",
   "metadata": {},
   "source": [
    "- Time information"
   ]
  },
  {
   "cell_type": "code",
   "execution_count": null,
   "id": "058ec7cc",
   "metadata": {},
   "outputs": [],
   "source": [
    "physio_df['Tidal Volume (set)'] = physio_df['Tidal Volume (set)']/1000\n",
    "physio_df['Tidal Volume (observed)'] = physio_df['Tidal Volume (observed)']/1000\n",
    "physio_df['Tidal Volume (spontaneous)'] = physio_df['Tidal Volume (spontaneous)']/1000"
   ]
  },
  {
   "cell_type": "markdown",
   "id": "1f11c2c8",
   "metadata": {},
   "source": [
    "- Gender information"
   ]
  },
  {
   "cell_type": "code",
   "execution_count": null,
   "id": "723604e5",
   "metadata": {},
   "outputs": [],
   "source": [
    "gender_dummies = pd.get_dummies(physio_df.gender)\n",
    "physio_df = pd.concat([physio_df, gender_dummies], axis = 'columns')"
   ]
  },
  {
   "cell_type": "code",
   "execution_count": null,
   "id": "35d70fcc",
   "metadata": {},
   "outputs": [],
   "source": [
    "physio_df = physio_df.drop(columns = ['gender', 'F'])"
   ]
  },
  {
   "cell_type": "markdown",
   "id": "08c4893e",
   "metadata": {},
   "source": [
    "- Race information"
   ]
  },
  {
   "cell_type": "code",
   "execution_count": null,
   "id": "63e8d88a",
   "metadata": {},
   "outputs": [],
   "source": [
    "# race_dummies = pd.get_dummies(physio_df_7d.race, prefix='race')\n",
    "# physio_df_7d = pd.concat([physio_df_7d, race_dummies], axis='columns')\n",
    "\n",
    "\n",
    "physio_df = physio_df.drop(columns = ['race'])"
   ]
  },
  {
   "cell_type": "markdown",
   "id": "c0be1b13",
   "metadata": {},
   "source": [
    "- Discharge action"
   ]
  },
  {
   "cell_type": "code",
   "execution_count": null,
   "id": "cd55a2a6",
   "metadata": {},
   "outputs": [],
   "source": [
    "icu_stayid_list = physio_df['stay_id'].unique()\n",
    "\n",
    "physio_df['discharge_action'] = 0\n",
    "\n",
    "for i in range(len(icu_stayid_list)):\n",
    "\n",
    "    time_idx = physio_df[(physio_df['stay_id'] == icu_stayid_list[i])]['time'].iloc[-1]\n",
    "    \n",
    "    physio_df.loc[(physio_df['stay_id'] == icu_stayid_list[i]) & (physio_df['time'] == time_idx), 'discharge_action'] = 1"
   ]
  },
  {
   "cell_type": "markdown",
   "id": "f77f177a",
   "metadata": {},
   "source": [
    "- Blood pressure"
   ]
  },
  {
   "cell_type": "code",
   "execution_count": null,
   "id": "fba1232d",
   "metadata": {},
   "outputs": [],
   "source": [
    "def assign_blood_pressure(row):\n",
    "    if pd.isna(row['Arterial Blood Pressure systolic']) and not pd.isna(row['Non Invasive Blood Pressure systolic']):\n",
    "        return row['Non Invasive Blood Pressure systolic']\n",
    "    elif not pd.isna(row['Arterial Blood Pressure systolic']):\n",
    "        return row['Arterial Blood Pressure systolic']\n",
    "    elif not pd.isna(row['ART BP Systolic']):\n",
    "        return row['ART BP Systolic']\n",
    "    else:\n",
    "        return np.nan\n",
    "\n",
    "physio_df['Blood Pressure Systolic'] = physio_df.apply(assign_blood_pressure, axis = 1)"
   ]
  },
  {
   "cell_type": "code",
   "execution_count": null,
   "id": "4ff1815d",
   "metadata": {},
   "outputs": [],
   "source": [
    "def assign_blood_pressure_diastolic(row):\n",
    "    if pd.isna(row['Arterial Blood Pressure diastolic']) and not pd.isna(row['Non Invasive Blood Pressure diastolic']):\n",
    "        return row['Non Invasive Blood Pressure diastolic']\n",
    "    elif not pd.isna(row['Arterial Blood Pressure diastolic']):\n",
    "        return row['Arterial Blood Pressure diastolic']\n",
    "    elif not pd.isna(row['ART BP Diastolic']):\n",
    "        return row['ART BP Diastolic']\n",
    "    else:\n",
    "        return np.nan\n",
    "\n",
    "physio_df['Blood Pressure Diastolic'] = physio_df.apply(assign_blood_pressure_diastolic, axis = 1)"
   ]
  },
  {
   "cell_type": "code",
   "execution_count": null,
   "id": "37c49546",
   "metadata": {},
   "outputs": [],
   "source": [
    "def assign_blood_pressure_mean(row):\n",
    "    if pd.isna(row['Arterial Blood Pressure mean']) and not pd.isna(row['Non Invasive Blood Pressure mean']):\n",
    "        return row['Non Invasive Blood Pressure mean']\n",
    "    elif not pd.isna(row['Arterial Blood Pressure mean']):\n",
    "        return row['Arterial Blood Pressure mean']\n",
    "    elif not pd.isna(row['ART BP Mean']):\n",
    "        return row['ART BP Mean']\n",
    "    else:\n",
    "        return np.nan\n",
    "\n",
    "physio_df['Blood Pressure Mean'] = physio_df.apply(assign_blood_pressure_mean, axis = 1)"
   ]
  },
  {
   "cell_type": "markdown",
   "id": "d4a927b1",
   "metadata": {},
   "source": [
    "- Temperature"
   ]
  },
  {
   "cell_type": "code",
   "execution_count": null,
   "id": "85db873a",
   "metadata": {},
   "outputs": [],
   "source": [
    "def assign_temperature(row):\n",
    "    if pd.isna(row['Temperature Celsius']) and not pd.isna(row['Temperature Fahrenheit']):\n",
    "        return (row['Temperature Fahrenheit']-32) * 5.0/9.0\n",
    "    elif not pd.isna(row['Temperature Celsius']):\n",
    "        return row['Temperature Celsius']\n",
    "    else:\n",
    "        return np.nan\n",
    "\n",
    "physio_df['Temperature C'] = physio_df.apply(assign_temperature, axis = 1)"
   ]
  },
  {
   "cell_type": "markdown",
   "id": "db9ec485",
   "metadata": {},
   "source": [
    "- O2 Saturation"
   ]
  },
  {
   "cell_type": "code",
   "execution_count": null,
   "id": "30e97fc2",
   "metadata": {},
   "outputs": [],
   "source": [
    "def assign_SaO2(row):\n",
    "    if pd.isna(row['Arterial O2 Saturation']) and not pd.isna(row['O2 saturation pulseoxymetry']):\n",
    "        return row['O2 saturation pulseoxymetry']\n",
    "    elif not pd.isna(row['Arterial O2 Saturation']):\n",
    "        return row['Arterial O2 Saturation']\n",
    "    else:\n",
    "        return np.nan\n",
    "\n",
    "physio_df['SaO2'] = physio_df.apply(assign_SaO2, axis = 1)"
   ]
  },
  {
   "cell_type": "markdown",
   "id": "2d393b66",
   "metadata": {},
   "source": [
    "- GCS score"
   ]
  },
  {
   "cell_type": "code",
   "execution_count": null,
   "id": "37ad5193",
   "metadata": {},
   "outputs": [],
   "source": [
    "def assign_gcs_score(row):\n",
    "    return row['GCS - Eye Opening'] + row['GCS - Verbal Response'] + row['GCS - Motor Response']\n",
    "\n",
    "physio_df['GCS score'] = physio_df.apply(assign_gcs_score, axis = 1)"
   ]
  },
  {
   "cell_type": "markdown",
   "id": "e9a39ade",
   "metadata": {},
   "source": [
    "- PEEP level"
   ]
  },
  {
   "cell_type": "code",
   "execution_count": null,
   "id": "c8fa472f",
   "metadata": {},
   "outputs": [],
   "source": [
    "def assign_peep_level(row):\n",
    "    if pd.isna(row['PEEP set']) and not pd.isna(row['Total PEEP Level']):\n",
    "        return row['Total PEEP Level']\n",
    "    elif not pd.isna(row['PEEP set']):\n",
    "        return row['PEEP set']\n",
    "    else:\n",
    "        return np.nan\n",
    "\n",
    "physio_df['PEEP Level'] = physio_df.apply(assign_peep_level, axis = 1)"
   ]
  },
  {
   "cell_type": "markdown",
   "id": "be67db56",
   "metadata": {},
   "source": [
    "- Weight"
   ]
  },
  {
   "cell_type": "code",
   "execution_count": null,
   "id": "bd33c41e",
   "metadata": {},
   "outputs": [],
   "source": [
    "def assign_weight(row):\n",
    "    if not pd.isna(row['Daily Weight']):\n",
    "        return row['Daily Weight']\n",
    "    elif not pd.isna(row['Admission Weight (Kg)']):\n",
    "        return row['Admission Weight (Kg)']\n",
    "    elif not pd.isna(row['Admission Weight (lbs.)']):\n",
    "        return row['Admission Weight (lbs.)'] * 0.453592  # Convert lbs to kg\n",
    "    else:\n",
    "        return np.nan\n",
    "\n",
    "physio_df['Weight'] = physio_df.apply(assign_weight, axis = 1)"
   ]
  },
  {
   "cell_type": "code",
   "execution_count": null,
   "id": "0b459155",
   "metadata": {},
   "outputs": [],
   "source": [
    "physio_df_v1 = physio_df.drop(columns = ['Arterial Blood Pressure systolic', 'Non Invasive Blood Pressure systolic', 'ART BP Systolic', 'Arterial Blood Pressure diastolic', \n",
    "                                         'Non Invasive Blood Pressure diastolic', 'ART BP Diastolic', 'Arterial Blood Pressure mean', 'Non Invasive Blood Pressure mean', \n",
    "                                         'ART BP Mean', 'Temperature Celsius', 'Temperature Fahrenheit', 'Arterial O2 Saturation', 'O2 saturation pulseoxymetry', \n",
    "                                         'GCS - Eye Opening', 'GCS - Verbal Response', 'GCS - Motor Response', 'PEEP set', 'Total PEEP Level', 'Admission Weight (lbs.)', 'Admission Weight (Kg)', 'Daily Weight'])"
   ]
  },
  {
   "cell_type": "markdown",
   "id": "de8201da",
   "metadata": {},
   "source": [
    "- Filter out abnormal values"
   ]
  },
  {
   "cell_type": "code",
   "execution_count": null,
   "id": "c93993de",
   "metadata": {},
   "outputs": [],
   "source": [
    "physio_df_v2 = physio_df_v1.drop(columns = ['Direct Bilirubin', 'PeCO2', 'Creatinine (whole blood)'])"
   ]
  },
  {
   "cell_type": "code",
   "execution_count": null,
   "id": "7b2aba2f",
   "metadata": {},
   "outputs": [],
   "source": [
    "names_var = ['age',\n",
    "             'Heart Rate', 'Respiratory Rate', 'Arterial O2 pressure', 'Hemoglobin',\n",
    "             'Arterial CO2 Pressure', 'PH (Venous)', 'Hematocrit (serum)', 'WBC',\n",
    "             'Chloride (serum)', 'Creatinine (serum)', 'Glucose (serum)',\n",
    "             'Magnesium', 'Sodium (serum)', 'PH (Arterial)', 'Inspired O2 Fraction',\n",
    "             'Tidal Volume (set)', 'Tidal Volume (observed)',\n",
    "             'Tidal Volume (spontaneous)', 'Respiratory Rate (Set)',\n",
    "             'Respiratory Rate (spontaneous)', 'Respiratory Rate (Total)',\n",
    "             'Arterial Base Excess', 'BUN', 'Ionized Calcium', 'Total Bilirubin',\n",
    "             'Venous CO2 Pressure', 'Venous O2 Pressure', 'Sodium (whole blood)',\n",
    "             'Chloride (whole blood)', 'Glucose (whole blood)',\n",
    "             'Hematocrit (whole blood - calc)', 'Potassium (serum)', 'HCO3 (serum)',\n",
    "             'Albumin', 'Platelet Count', 'Potassium (whole blood)',\n",
    "             'Prothrombin time', 'PTT', 'INR', 'M',\n",
    "             'Blood Pressure Systolic', 'Blood Pressure Diastolic',\n",
    "             'Blood Pressure Mean', 'Temperature C', 'SaO2', 'GCS score', 'PEEP Level', 'Weight']\n",
    "\n",
    "len(names_var)"
   ]
  },
  {
   "cell_type": "code",
   "execution_count": null,
   "id": "f55d51b3",
   "metadata": {},
   "outputs": [],
   "source": [
    "abv_data = physio_df_v2[names_var]"
   ]
  },
  {
   "cell_type": "code",
   "execution_count": null,
   "id": "50d6cecc",
   "metadata": {},
   "outputs": [],
   "source": [
    "inspect_col = ['Heart Rate', 'Respiratory Rate', 'Arterial O2 pressure', 'Hemoglobin',\n",
    "               'Arterial CO2 Pressure', 'PH (Venous)', 'Hematocrit (serum)', 'WBC',\n",
    "               'Chloride (serum)', 'Creatinine (serum)', 'Glucose (serum)',\n",
    "               'Magnesium', 'Sodium (serum)', 'PH (Arterial)', \n",
    "               'Tidal Volume (observed)',\n",
    "               'Tidal Volume (spontaneous)', 'Respiratory Rate (Set)',\n",
    "               'Respiratory Rate (spontaneous)', 'Respiratory Rate (Total)',\n",
    "               'Arterial Base Excess', 'BUN', 'Ionized Calcium', 'Total Bilirubin',\n",
    "               'Venous CO2 Pressure', 'Venous O2 Pressure', 'Sodium (whole blood)',\n",
    "               'Chloride (whole blood)', 'Glucose (whole blood)',\n",
    "               'Hematocrit (whole blood - calc)', 'Potassium (serum)', 'HCO3 (serum)',\n",
    "               'Albumin', 'Platelet Count', 'Potassium (whole blood)',\n",
    "               'Prothrombin time', 'PTT', 'INR', \n",
    "               'Blood Pressure Systolic', 'Blood Pressure Diastolic',\n",
    "               'Blood Pressure Mean', 'Temperature C', 'SaO2', 'Weight']"
   ]
  },
  {
   "cell_type": "code",
   "execution_count": null,
   "id": "1e5c768e",
   "metadata": {},
   "outputs": [],
   "source": [
    "ab_data_sub = abv_data[inspect_col]"
   ]
  },
  {
   "cell_type": "code",
   "execution_count": null,
   "id": "0483b18d",
   "metadata": {},
   "outputs": [],
   "source": [
    "# lim = np.logical_or(ab_data_sub >= ab_data_sub.quantile(0.999),\n",
    "#                     ab_data_sub <= ab_data_sub.quantile(0.001))\n",
    "\n",
    "q1 = ab_data_sub.quantile(0.25)\n",
    "q3 = ab_data_sub.quantile(0.75)\n",
    "\n",
    "iqr = q3 - q1\n",
    "\n",
    "lower_bound = q1 - 3.0 * iqr\n",
    "upper_bound = q3 + 3.0 * iqr"
   ]
  },
  {
   "cell_type": "code",
   "execution_count": null,
   "id": "15145a76",
   "metadata": {},
   "outputs": [],
   "source": [
    "for column in ab_data_sub.columns:\n",
    "    physio_df_v2.loc[physio_df_v2[column] > upper_bound[column], column] = np.nan\n",
    "    physio_df_v2.loc[physio_df_v2[column] < lower_bound[column], column] = np.nan"
   ]
  },
  {
   "cell_type": "code",
   "execution_count": null,
   "id": "dc5a708b",
   "metadata": {
    "scrolled": true
   },
   "outputs": [],
   "source": [
    "physio_df_v2.info()"
   ]
  },
  {
   "cell_type": "code",
   "execution_count": null,
   "id": "26fd8e09",
   "metadata": {
    "scrolled": true
   },
   "outputs": [],
   "source": [
    "abv_data = physio_df_v2[names_var]\n",
    "abv_data.describe().T"
   ]
  },
  {
   "cell_type": "markdown",
   "id": "db10caeb",
   "metadata": {},
   "source": [
    "## Data Imputation"
   ]
  },
  {
   "cell_type": "code",
   "execution_count": null,
   "id": "598bae8d",
   "metadata": {},
   "outputs": [],
   "source": [
    "drop_list = []\n",
    "\n",
    "for i in names_var:\n",
    "    if (physio_df_v2[i].isnull().sum()/len(physio_df_v2)) > 0.75:\n",
    "        drop_list.append(i)"
   ]
  },
  {
   "cell_type": "code",
   "execution_count": null,
   "id": "3106a0ca",
   "metadata": {},
   "outputs": [],
   "source": [
    "middle_list = []\n",
    "\n",
    "for i in names_var:\n",
    "    if ((physio_df_v2[i].isnull().sum()/len(physio_df_v2)) <= 0.75) & ((physio_df_v2[i].isnull().sum()/len(physio_df_v2)) >= 0.10):\n",
    "        middle_list.append(i)"
   ]
  },
  {
   "cell_type": "code",
   "execution_count": null,
   "id": "dd434b80",
   "metadata": {},
   "outputs": [],
   "source": [
    "knn_list = []\n",
    "\n",
    "for i in names_var:\n",
    "    if (physio_df_v2[i].isnull().sum()/len(physio_df_v2)) < 0.10:\n",
    "        knn_list.append(i)"
   ]
  },
  {
   "cell_type": "markdown",
   "id": "7e5bd928",
   "metadata": {},
   "source": [
    "- Forward fill"
   ]
  },
  {
   "cell_type": "code",
   "execution_count": null,
   "id": "0bcf9a04",
   "metadata": {},
   "outputs": [],
   "source": [
    "for i in range(len(drop_list)):\n",
    "    physio_df_v2[drop_list[i]] = physio_df_v2.groupby(by = ['stay_id', 'readmission_count'])[drop_list[i]].ffill()\n",
    "\n",
    "for i in range(len(middle_list)):\n",
    "    physio_df_v2[middle_list[i]] = physio_df_v2.groupby(by = ['stay_id', 'readmission_count'])[middle_list[i]].ffill()\n",
    "\n",
    "for i in range(len(knn_list)):\n",
    "    physio_df_v2[knn_list[i]] = physio_df_v2.groupby(by = ['stay_id', 'readmission_count'])[knn_list[i]].ffill()"
   ]
  },
  {
   "cell_type": "code",
   "execution_count": null,
   "id": "b8a1070e",
   "metadata": {},
   "outputs": [],
   "source": [
    "drop_list = []\n",
    "\n",
    "for i in names_var:\n",
    "    if (physio_df_v2[i].isnull().sum()/len(physio_df_v2)) > 0.75:\n",
    "        drop_list.append(i)"
   ]
  },
  {
   "cell_type": "code",
   "execution_count": null,
   "id": "f7d62f15",
   "metadata": {},
   "outputs": [],
   "source": [
    "middle_list = []\n",
    "\n",
    "for i in names_var:\n",
    "    if ((physio_df_v2[i].isnull().sum()/len(physio_df_v2)) <= 0.75) & ((physio_df_v2[i].isnull().sum()/len(physio_df_v2)) >= 0.10):\n",
    "        middle_list.append(i)"
   ]
  },
  {
   "cell_type": "code",
   "execution_count": null,
   "id": "337270a5",
   "metadata": {},
   "outputs": [],
   "source": [
    "knn_list = []\n",
    "\n",
    "for i in names_var:\n",
    "    if (physio_df_v2[i].isnull().sum()/len(physio_df_v2)) < 0.10:\n",
    "        knn_list.append(i)"
   ]
  },
  {
   "cell_type": "code",
   "execution_count": null,
   "id": "7684c12d",
   "metadata": {},
   "outputs": [],
   "source": [
    "physio_df_v3 = physio_df_v2.drop(columns = drop_list)"
   ]
  },
  {
   "cell_type": "markdown",
   "id": "22a67a98",
   "metadata": {},
   "source": [
    "- Linear interpolation"
   ]
  },
  {
   "cell_type": "code",
   "execution_count": null,
   "id": "95ac3b3d",
   "metadata": {},
   "outputs": [],
   "source": [
    "feature_list = middle_list + knn_list"
   ]
  },
  {
   "cell_type": "code",
   "execution_count": null,
   "id": "52e43786",
   "metadata": {},
   "outputs": [],
   "source": [
    "for i in range(len(feature_list)):\n",
    "    physio_df_v3[feature_list[i]] = physio_df_v3.groupby(by = ['stay_id', 'readmission_count'])[feature_list[i]].apply(lambda x: x.interpolate(method = 'linear'))"
   ]
  },
  {
   "cell_type": "code",
   "execution_count": null,
   "id": "1def7394",
   "metadata": {},
   "outputs": [],
   "source": [
    "physio_df_v3.columns"
   ]
  },
  {
   "cell_type": "code",
   "execution_count": null,
   "id": "39231407",
   "metadata": {
    "scrolled": true
   },
   "outputs": [],
   "source": [
    "physio_df_v3.info()"
   ]
  },
  {
   "cell_type": "code",
   "execution_count": null,
   "id": "52aaa222",
   "metadata": {},
   "outputs": [],
   "source": [
    "physio_df_v4 = physio_df_v3.drop(columns = ['Venous CO2 Pressure', 'Venous O2 Pressure', \n",
    "                                            'Sodium (whole blood)', 'Chloride (whole blood)', \n",
    "                                            'Hematocrit (whole blood - calc)', 'Albumin',\n",
    "                                            'Potassium (whole blood)', 'PEEP Level'])"
   ]
  },
  {
   "cell_type": "code",
   "execution_count": null,
   "id": "6f51be50",
   "metadata": {
    "scrolled": true
   },
   "outputs": [],
   "source": [
    "physio_df_v4.info()"
   ]
  },
  {
   "cell_type": "markdown",
   "id": "32e3d12c",
   "metadata": {},
   "source": [
    "- KNN Imputation"
   ]
  },
  {
   "cell_type": "code",
   "execution_count": null,
   "id": "08015db4",
   "metadata": {},
   "outputs": [],
   "source": [
    "import os\n",
    "from threadpoolctl import threadpool_limits\n",
    "from joblib import Parallel, delayed\n",
    "from tqdm import tqdm"
   ]
  },
  {
   "cell_type": "code",
   "execution_count": null,
   "id": "fa0f7cce",
   "metadata": {},
   "outputs": [],
   "source": [
    "num_threads = os.cpu_count()\n",
    "print(f\"Available CPU threads: {num_threads}\")"
   ]
  },
  {
   "cell_type": "code",
   "execution_count": null,
   "id": "3a086b3f",
   "metadata": {},
   "outputs": [],
   "source": [
    "imputer = KNNImputer(n_neighbors = 5)"
   ]
  },
  {
   "cell_type": "code",
   "execution_count": null,
   "id": "48e7910a",
   "metadata": {},
   "outputs": [],
   "source": [
    "pro_events_data.columns"
   ]
  },
  {
   "cell_type": "code",
   "execution_count": null,
   "id": "a2ce2000",
   "metadata": {},
   "outputs": [],
   "source": [
    "pro_events_data_weight = pro_events_data[['stay_id', 'patientweight']]\n",
    "pro_events_data_weight = pro_events_data_weight.drop_duplicates(subset = ['stay_id'], keep = 'first')\n",
    "\n",
    "physio_df_v4 = pd.merge(physio_df_v4, pro_events_data_weight, on = 'stay_id', how = 'left')"
   ]
  },
  {
   "cell_type": "code",
   "execution_count": null,
   "id": "e72b2e5c",
   "metadata": {},
   "outputs": [],
   "source": [
    "def assign_weight_2(row):\n",
    "    if not pd.isna(row['Weight']):\n",
    "        return row['Weight']\n",
    "    elif not pd.isna(row['patientweight']):\n",
    "        return row['patientweight']\n",
    "    else:\n",
    "        return np.nan\n",
    "\n",
    "physio_df_v4['weight'] = physio_df_v4.apply(assign_weight_2, axis = 1)\n",
    "physio_df_v4 = physio_df_v4.drop(columns = ['Weight', 'patientweight'])"
   ]
  },
  {
   "cell_type": "code",
   "execution_count": null,
   "id": "4a0025ab",
   "metadata": {},
   "outputs": [],
   "source": [
    "### Deal with missing values in patient weight\n",
    "weight_missing_value = physio_df_v4[physio_df_v4['weight'].isna()]\n",
    "physio_df_v4 = physio_df_v4[~physio_df_v4['subject_id'].isin(pd.unique(weight_missing_value['subject_id']))]"
   ]
  },
  {
   "cell_type": "code",
   "execution_count": null,
   "id": "2fb03cb8",
   "metadata": {
    "scrolled": true
   },
   "outputs": [],
   "source": [
    "physio_df_v4.info()"
   ]
  },
  {
   "cell_type": "code",
   "execution_count": null,
   "id": "566e8685",
   "metadata": {},
   "outputs": [],
   "source": [
    "physio_df_v4 = physio_df_v4.reset_index(drop = True)"
   ]
  },
  {
   "cell_type": "code",
   "execution_count": null,
   "id": "1a80adff",
   "metadata": {},
   "outputs": [],
   "source": [
    "# physio_df_v4.to_csv('physio_df_v4.csv', index = False)"
   ]
  },
  {
   "cell_type": "code",
   "execution_count": null,
   "id": "2bcf40a9",
   "metadata": {},
   "outputs": [],
   "source": [
    "columns_with_missing_values = physio_df_v4.columns[physio_df_v4.isnull().any()].tolist()\n",
    "physio_df_v4_pre = physio_df_v4[columns_with_missing_values].copy()"
   ]
  },
  {
   "cell_type": "code",
   "execution_count": null,
   "id": "70aa7dee",
   "metadata": {
    "scrolled": true
   },
   "outputs": [],
   "source": [
    "columns_with_missing_values"
   ]
  },
  {
   "cell_type": "code",
   "execution_count": null,
   "id": "4ac4a027",
   "metadata": {},
   "outputs": [],
   "source": [
    "def process_chunk(chunk, imputer):\n",
    "    \n",
    "    chunk_imputed = imputer.fit_transform(chunk)  \n",
    "    \n",
    "    return chunk_imputed"
   ]
  },
  {
   "cell_type": "code",
   "execution_count": null,
   "id": "2c178309",
   "metadata": {},
   "outputs": [],
   "source": [
    "physio_df_v4.info()"
   ]
  },
  {
   "cell_type": "code",
   "execution_count": null,
   "id": "6e219157",
   "metadata": {},
   "outputs": [],
   "source": [
    "scaler = MinMaxScaler()"
   ]
  },
  {
   "cell_type": "code",
   "execution_count": null,
   "id": "d7b3500e",
   "metadata": {},
   "outputs": [],
   "source": [
    "physio_df_v4_pre[columns_with_missing_values] = scaler.fit_transform(physio_df_v4_pre[columns_with_missing_values])"
   ]
  },
  {
   "cell_type": "code",
   "execution_count": null,
   "id": "704574b9",
   "metadata": {},
   "outputs": [],
   "source": [
    "len(physio_df_v4_pre)"
   ]
  },
  {
   "cell_type": "code",
   "execution_count": null,
   "id": "59e8074b",
   "metadata": {},
   "outputs": [],
   "source": [
    "chunk_size = 10000  \n",
    "chunks = [physio_df_v4_pre.iloc[i:i + chunk_size] for i in range(0, len(physio_df_v4_pre), chunk_size)]"
   ]
  },
  {
   "cell_type": "code",
   "execution_count": null,
   "id": "7d95ab68",
   "metadata": {
    "scrolled": true
   },
   "outputs": [],
   "source": [
    "results = Parallel(n_jobs = 60)(\n",
    "    delayed(process_chunk)(chunk, imputer) \n",
    "    for chunk in tqdm(chunks, desc = \"KNN Imputation Progress\")\n",
    ")"
   ]
  },
  {
   "cell_type": "code",
   "execution_count": null,
   "id": "cf724da9",
   "metadata": {},
   "outputs": [],
   "source": [
    "physio_df_v4_pre = pd.concat(\n",
    "    [pd.DataFrame(result, columns = columns_with_missing_values) for result in results],\n",
    "    ignore_index = True\n",
    ")"
   ]
  },
  {
   "cell_type": "code",
   "execution_count": null,
   "id": "5e1901c6",
   "metadata": {},
   "outputs": [],
   "source": [
    "physio_df_v4_pre"
   ]
  },
  {
   "cell_type": "code",
   "execution_count": null,
   "id": "30e1626f",
   "metadata": {},
   "outputs": [],
   "source": [
    "physio_df_v4_pre[columns_with_missing_values] = scaler.inverse_transform(physio_df_v4_pre[columns_with_missing_values])"
   ]
  },
  {
   "cell_type": "code",
   "execution_count": null,
   "id": "6ade0a19",
   "metadata": {
    "scrolled": true
   },
   "outputs": [],
   "source": [
    "columns_with_missing_values"
   ]
  },
  {
   "cell_type": "code",
   "execution_count": null,
   "id": "dbb1bea8",
   "metadata": {},
   "outputs": [],
   "source": [
    "physio_df_v4 = physio_df_v4.reset_index(drop = True)"
   ]
  },
  {
   "cell_type": "code",
   "execution_count": null,
   "id": "51170ed0",
   "metadata": {
    "scrolled": true
   },
   "outputs": [],
   "source": [
    "physio_df_v4.info()"
   ]
  },
  {
   "cell_type": "code",
   "execution_count": null,
   "id": "bf2bc146",
   "metadata": {},
   "outputs": [],
   "source": [
    "physio_df_v4[columns_with_missing_values] = physio_df_v4_pre[columns_with_missing_values]"
   ]
  },
  {
   "cell_type": "code",
   "execution_count": null,
   "id": "274ec702",
   "metadata": {},
   "outputs": [],
   "source": [
    "# scaler = MinMaxScaler()\n",
    "\n",
    "# with threadpool_limits(limits = 100):\n",
    "#     physio_df_v4_pre[columns_with_missing_values] = scaler.fit_transform(physio_df_v4_pre[columns_with_missing_values])\n",
    "    \n",
    "#     physio_df_v4_pre[columns_with_missing_values] = imputer.fit_transform(physio_df_v4_pre[columns_with_missing_values])\n",
    "    \n",
    "#     physio_df_v4_pre[columns_with_missing_values] = scaler.inverse_transform(physio_df_v4_pre[columns_with_missing_values])\n",
    "\n",
    "# physio_df_v4[columns_with_missing_values] = physio_df_v4_pre[columns_with_missing_values]"
   ]
  },
  {
   "cell_type": "code",
   "execution_count": null,
   "id": "26b65e04",
   "metadata": {},
   "outputs": [],
   "source": [
    "# scaler = MinMaxScaler()\n",
    "\n",
    "# columns_with_missing_values = physio_df_v3.columns[\n",
    "#     physio_df_v3.isnull().any()\n",
    "# ].tolist()\n",
    "\n",
    "# X = physio_df_v3[columns_with_missing_values].values  \n",
    "# # X.shape = (n_rows, n_cols_with_nan)\n",
    "\n",
    "# X_scaled = scaler.fit_transform(X)      \n",
    "# X_imputed = imputer.fit_transform(X_scaled) \n",
    "# X_restored = scaler.inverse_transform(X_imputed) \n",
    "\n",
    "# physio_df_v3.loc[:, columns_with_missing_values] = X_restored"
   ]
  },
  {
   "cell_type": "code",
   "execution_count": null,
   "id": "444b449e",
   "metadata": {
    "scrolled": true
   },
   "outputs": [],
   "source": [
    "physio_df_v4_pre.info()"
   ]
  },
  {
   "cell_type": "code",
   "execution_count": null,
   "id": "fcec34b6",
   "metadata": {
    "scrolled": true
   },
   "outputs": [],
   "source": [
    "physio_df_v4.info()"
   ]
  },
  {
   "cell_type": "code",
   "execution_count": null,
   "id": "2722c194",
   "metadata": {},
   "outputs": [],
   "source": [
    "Counter(physio_df_v4[physio_df_v4['subject_id'] == 16133115]['readmission_count'])"
   ]
  },
  {
   "cell_type": "code",
   "execution_count": null,
   "id": "72977825",
   "metadata": {},
   "outputs": [],
   "source": [
    "physio_df_v4[physio_df_v4['subject_id'] == 16133115][['subject_id', 'stay_id', 'discharge_fail', 'readmission', 'readmission_count']].iloc[60:100]"
   ]
  },
  {
   "cell_type": "code",
   "execution_count": null,
   "id": "b28f4cbf",
   "metadata": {},
   "outputs": [],
   "source": [
    "physio_df_v4.to_csv('../icu_data/mimic_iv/physio_df_v4.csv', index = False)"
   ]
  },
  {
   "cell_type": "code",
   "execution_count": null,
   "id": "086e137a",
   "metadata": {},
   "outputs": [],
   "source": []
  },
  {
   "cell_type": "code",
   "execution_count": null,
   "id": "55fdf941",
   "metadata": {},
   "outputs": [],
   "source": []
  },
  {
   "cell_type": "code",
   "execution_count": null,
   "id": "25f0f063",
   "metadata": {},
   "outputs": [],
   "source": []
  },
  {
   "cell_type": "code",
   "execution_count": null,
   "id": "b0d71c0d",
   "metadata": {},
   "outputs": [],
   "source": []
  },
  {
   "cell_type": "code",
   "execution_count": null,
   "id": "3a8d93e5",
   "metadata": {},
   "outputs": [],
   "source": []
  },
  {
   "cell_type": "code",
   "execution_count": null,
   "id": "fdb19c2b",
   "metadata": {},
   "outputs": [],
   "source": []
  },
  {
   "cell_type": "code",
   "execution_count": null,
   "id": "119e8a02",
   "metadata": {},
   "outputs": [],
   "source": []
  },
  {
   "cell_type": "code",
   "execution_count": null,
   "id": "651c7786",
   "metadata": {},
   "outputs": [],
   "source": []
  },
  {
   "cell_type": "code",
   "execution_count": null,
   "id": "f4bed75f",
   "metadata": {},
   "outputs": [],
   "source": []
  },
  {
   "cell_type": "code",
   "execution_count": null,
   "id": "c6e0fc87",
   "metadata": {},
   "outputs": [],
   "source": []
  },
  {
   "cell_type": "code",
   "execution_count": null,
   "id": "7a321ea7",
   "metadata": {},
   "outputs": [],
   "source": []
  },
  {
   "cell_type": "code",
   "execution_count": null,
   "id": "13020fcf",
   "metadata": {},
   "outputs": [],
   "source": []
  },
  {
   "cell_type": "code",
   "execution_count": null,
   "id": "94a1a634",
   "metadata": {},
   "outputs": [],
   "source": []
  },
  {
   "cell_type": "code",
   "execution_count": null,
   "id": "ca791cb6",
   "metadata": {},
   "outputs": [],
   "source": []
  },
  {
   "cell_type": "code",
   "execution_count": null,
   "id": "dd27ac2e",
   "metadata": {},
   "outputs": [],
   "source": []
  },
  {
   "cell_type": "code",
   "execution_count": null,
   "id": "0ece70a7",
   "metadata": {},
   "outputs": [],
   "source": []
  },
  {
   "cell_type": "code",
   "execution_count": null,
   "id": "59e34651",
   "metadata": {},
   "outputs": [],
   "source": []
  },
  {
   "cell_type": "code",
   "execution_count": null,
   "id": "c9721c83",
   "metadata": {},
   "outputs": [],
   "source": []
  },
  {
   "cell_type": "code",
   "execution_count": null,
   "id": "e06230a9",
   "metadata": {},
   "outputs": [],
   "source": []
  },
  {
   "cell_type": "code",
   "execution_count": null,
   "id": "7f9b5935",
   "metadata": {},
   "outputs": [],
   "source": []
  },
  {
   "cell_type": "code",
   "execution_count": null,
   "id": "be589613",
   "metadata": {},
   "outputs": [],
   "source": []
  },
  {
   "cell_type": "code",
   "execution_count": null,
   "id": "6fde9006",
   "metadata": {},
   "outputs": [],
   "source": []
  },
  {
   "cell_type": "code",
   "execution_count": null,
   "id": "54817fd5",
   "metadata": {},
   "outputs": [],
   "source": []
  },
  {
   "cell_type": "code",
   "execution_count": null,
   "id": "874234f3",
   "metadata": {},
   "outputs": [],
   "source": []
  },
  {
   "cell_type": "code",
   "execution_count": null,
   "id": "01e09f9f",
   "metadata": {},
   "outputs": [],
   "source": []
  },
  {
   "cell_type": "code",
   "execution_count": null,
   "id": "efeb900c",
   "metadata": {},
   "outputs": [],
   "source": []
  },
  {
   "cell_type": "code",
   "execution_count": null,
   "id": "88279217",
   "metadata": {},
   "outputs": [],
   "source": []
  },
  {
   "cell_type": "code",
   "execution_count": null,
   "id": "e5d6cf49",
   "metadata": {},
   "outputs": [],
   "source": []
  },
  {
   "cell_type": "code",
   "execution_count": null,
   "id": "458b4acc",
   "metadata": {},
   "outputs": [],
   "source": []
  },
  {
   "cell_type": "code",
   "execution_count": null,
   "id": "3f829be3",
   "metadata": {},
   "outputs": [],
   "source": []
  },
  {
   "cell_type": "code",
   "execution_count": null,
   "id": "2a3136c7",
   "metadata": {},
   "outputs": [],
   "source": []
  },
  {
   "cell_type": "code",
   "execution_count": null,
   "id": "dea4a770",
   "metadata": {},
   "outputs": [],
   "source": []
  },
  {
   "cell_type": "code",
   "execution_count": null,
   "id": "b3a1dc00",
   "metadata": {},
   "outputs": [],
   "source": []
  },
  {
   "cell_type": "code",
   "execution_count": null,
   "id": "262e1719",
   "metadata": {},
   "outputs": [],
   "source": []
  },
  {
   "cell_type": "code",
   "execution_count": null,
   "id": "8df30dfd",
   "metadata": {},
   "outputs": [],
   "source": []
  },
  {
   "cell_type": "code",
   "execution_count": null,
   "id": "7f011a1f",
   "metadata": {},
   "outputs": [],
   "source": []
  },
  {
   "cell_type": "code",
   "execution_count": null,
   "id": "e560cb37",
   "metadata": {},
   "outputs": [],
   "source": []
  },
  {
   "cell_type": "code",
   "execution_count": null,
   "id": "a3bf865c",
   "metadata": {},
   "outputs": [],
   "source": []
  },
  {
   "cell_type": "code",
   "execution_count": null,
   "id": "0064530e",
   "metadata": {},
   "outputs": [],
   "source": []
  },
  {
   "cell_type": "code",
   "execution_count": null,
   "id": "080cbbf8",
   "metadata": {},
   "outputs": [],
   "source": []
  },
  {
   "cell_type": "code",
   "execution_count": null,
   "id": "948d7981",
   "metadata": {},
   "outputs": [],
   "source": []
  },
  {
   "cell_type": "code",
   "execution_count": null,
   "id": "f644e13a",
   "metadata": {},
   "outputs": [],
   "source": []
  },
  {
   "cell_type": "code",
   "execution_count": null,
   "id": "30c2ccac",
   "metadata": {},
   "outputs": [],
   "source": []
  },
  {
   "cell_type": "code",
   "execution_count": null,
   "id": "47ea2bf9",
   "metadata": {},
   "outputs": [],
   "source": []
  },
  {
   "cell_type": "code",
   "execution_count": null,
   "id": "99c50a10",
   "metadata": {},
   "outputs": [],
   "source": []
  },
  {
   "cell_type": "code",
   "execution_count": null,
   "id": "79718708",
   "metadata": {},
   "outputs": [],
   "source": []
  },
  {
   "cell_type": "code",
   "execution_count": null,
   "id": "9a764431",
   "metadata": {},
   "outputs": [],
   "source": []
  },
  {
   "cell_type": "code",
   "execution_count": null,
   "id": "ffcb99d0",
   "metadata": {},
   "outputs": [],
   "source": []
  },
  {
   "cell_type": "code",
   "execution_count": null,
   "id": "d50db592",
   "metadata": {},
   "outputs": [],
   "source": []
  },
  {
   "cell_type": "code",
   "execution_count": null,
   "id": "217e41d6",
   "metadata": {},
   "outputs": [],
   "source": []
  },
  {
   "cell_type": "code",
   "execution_count": null,
   "id": "e2c1d498",
   "metadata": {},
   "outputs": [],
   "source": []
  },
  {
   "cell_type": "code",
   "execution_count": null,
   "id": "f4e3c2f1",
   "metadata": {},
   "outputs": [],
   "source": []
  },
  {
   "cell_type": "code",
   "execution_count": null,
   "id": "d407def6",
   "metadata": {},
   "outputs": [],
   "source": []
  }
 ],
 "metadata": {
  "kernelspec": {
   "display_name": "Python 3 (ipykernel)",
   "language": "python",
   "name": "python3"
  },
  "language_info": {
   "codemirror_mode": {
    "name": "ipython",
    "version": 3
   },
   "file_extension": ".py",
   "mimetype": "text/x-python",
   "name": "python",
   "nbconvert_exporter": "python",
   "pygments_lexer": "ipython3",
   "version": "3.9.21"
  }
 },
 "nbformat": 4,
 "nbformat_minor": 5
}
